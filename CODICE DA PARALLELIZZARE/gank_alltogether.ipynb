{
  "nbformat": 4,
  "nbformat_minor": 0,
  "metadata": {
    "colab": {
      "name": "gank_alltogether.ipynb",
      "provenance": [],
      "collapsed_sections": []
    },
    "kernelspec": {
      "name": "python3",
      "display_name": "Python 3"
    },
    "language_info": {
      "name": "python"
    }
  },
  "cells": [
    {
      "cell_type": "code",
      "execution_count": null,
      "metadata": {
        "id": "6Y6284G_Fo-Z"
      },
      "outputs": [],
      "source": [
        "import numpy as np\n",
        "import matplotlib.pyplot as plt\n",
        "import seaborn as sns\n",
        "import pandas as pd\n",
        "import scipy.stats as sstat\n",
        "from mpmath import mp\n",
        "import math\n",
        "import random\n",
        "from scipy.stats import multivariate_normal\n",
        "from sklearn import preprocessing as p\n",
        "\n",
        "psd = pd.DataFrame\n",
        "from tensorflow_probability.substrates import numpy as tfp\n",
        "tfd = tfp.distributions"
      ]
    },
    {
      "cell_type": "code",
      "source": [
        "def prior_unif():\n",
        "  return tfd.Uniform(0,10)"
      ],
      "metadata": {
        "id": "UzWCP-1dWH9L"
      },
      "execution_count": null,
      "outputs": []
    },
    {
      "cell_type": "code",
      "source": [
        "def prior_out(theta):\n",
        "  a= theta[0]\n",
        "  b= theta[1]\n",
        "  g= theta[2]\n",
        "  k= theta[3]\n",
        "  a_prior = tfd.Uniform(0,10).prob(a)\n",
        "  b_prior = tfd.Uniform(0,10).prob(b)\n",
        "  g_prior = tfd.Uniform(0,10).prob(g)\n",
        "  k_prior = tfd.Uniform(0,10).prob(k)\n",
        "  return  a_prior *b_prior * g_prior*  k_prior "
      ],
      "metadata": {
        "id": "GZBdBw9CWH9R"
      },
      "execution_count": null,
      "outputs": []
    },
    {
      "cell_type": "code",
      "source": [
        "def my_kernel(u):\n",
        "  return 1/(np.sqrt(2*math.pi))*np.exp(-1/2*u**2)"
      ],
      "metadata": {
        "id": "k6zY_n0wWH9R"
      },
      "execution_count": null,
      "outputs": []
    },
    {
      "cell_type": "code",
      "source": [
        "def K_h(u,h):\n",
        "  return my_kernel(u/h)/h"
      ],
      "metadata": {
        "id": "cXj6sFDzWH9R"
      },
      "execution_count": null,
      "outputs": []
    },
    {
      "cell_type": "code",
      "source": [
        "def S2(y):\n",
        "  quantiles= np.zeros(9)\n",
        "  for i in range(9):\n",
        "      quantiles[i]= np.quantile(y,0.1+0.1*i)       #quantili 0,1 0,2 0,3 0,4 0,5 0,6 0,7 0,8 0,9\n",
        "  return quantiles"
      ],
      "metadata": {
        "id": "J-ankU8EWH9R"
      },
      "execution_count": null,
      "outputs": []
    },
    {
      "cell_type": "code",
      "source": [
        "def S1(y):\n",
        "  return np.mean(y)"
      ],
      "metadata": {
        "id": "-Mc8WYqXWH9S"
      },
      "execution_count": null,
      "outputs": []
    },
    {
      "cell_type": "code",
      "source": [
        "from scipy.spatial import distance\n",
        "\n",
        "def distance(s_old, s_obs):\n",
        "   return np.linalg.norm(s_old-s_obs)\n",
        "   # return distance.mahalanobis(s_old, s_obs, iv)\n",
        "\n",
        "      "
      ],
      "metadata": {
        "id": "Zl-u1Bh4WH9S"
      },
      "execution_count": null,
      "outputs": []
    },
    {
      "cell_type": "code",
      "source": [
        "def quantile_fun(theta,z):\n",
        "    a= theta[0]\n",
        "    b= theta[1]\n",
        "    g= theta[2]\n",
        "    k= theta[3]\n",
        "    y = a+b*(1+0.8*(1-np.exp(-g*z))/(1+np.exp(-g*z)))*((1+z**2)**k)*z\n",
        "    return y"
      ],
      "metadata": {
        "id": "DwsO4Aa6WH9S"
      },
      "execution_count": null,
      "outputs": []
    },
    {
      "cell_type": "code",
      "source": [
        "def quantile_fun_param(a,b,g,k,z):\n",
        "    y = a+b*(1+0.8*(1-np.exp(-g*z))/(1+np.exp(-g*z)))*((1+z**2)**k)*z\n",
        "    return y"
      ],
      "metadata": {
        "id": "z4dNdA6nX25n"
      },
      "execution_count": null,
      "outputs": []
    },
    {
      "cell_type": "code",
      "source": [
        "##MAXIMAL COUPLING OF THETA\n",
        "def maximal_coupling(x,y):\n",
        "      current_x = x\n",
        "      current_y = y  \n",
        "      const=0.1\n",
        "      proposed_x = current_x  + np.random.multivariate_normal(np.zeros(4),const*np.identity(4))\n",
        "      pX = sstat.multivariate_normal.pdf(proposed_x,current_x,np.identity(4))\n",
        "      w = tfd.Uniform(0,1).sample()*pX\n",
        "      qX = sstat.multivariate_normal.pdf(proposed_x,current_y,np.identity(4))\n",
        "      #print('w',w,'qX',qX,'x',current_x,'y', current_y)\n",
        "      if w < qX:\n",
        "          x_new = proposed_x\n",
        "          y_new = proposed_x\n",
        "       \n",
        "      else:\n",
        "          t = True\n",
        "          while t == True:\n",
        "                proposed_y = current_y   + np.random.multivariate_normal(np.zeros(4),const*np.identity(4))\n",
        "                qY =  sstat.multivariate_normal.pdf(proposed_y,current_y,np.identity(4)) \n",
        "                w =  tfd.Uniform(0,1).sample()*qY\n",
        "                pY =sstat.multivariate_normal.pdf(proposed_y,current_x,np.identity(4))\n",
        "                if w > pY :\n",
        "                  t = False\n",
        "          x_new = proposed_x\n",
        "          y_new = proposed_y  \n",
        "\n",
        "\n",
        "      return [x_new, y_new]"
      ],
      "metadata": {
        "id": "oUFpWaTwWH9S"
      },
      "execution_count": null,
      "outputs": []
    },
    {
      "cell_type": "code",
      "source": [
        "def prob(H,s_obs,s_current,theta_current,s_i,theta_i):   #s[i,],a[i]\n",
        "  NUM = (K_h(distance(np.array(s_current), np.array(s_obs)),H)*prior_out(theta_current))\n",
        "  DEN = (K_h(distance(np.array(s_i),np.array(s_obs)),H)* prior_out(theta_i))\n",
        "  return NUM/DEN    "
      ],
      "metadata": {
        "id": "zKlALXr8WH9S"
      },
      "execution_count": null,
      "outputs": []
    },
    {
      "cell_type": "code",
      "source": [
        "np.array([1,1,0.1,1])"
      ],
      "metadata": {
        "id": "tNguyo8dndHt"
      },
      "execution_count": null,
      "outputs": []
    },
    {
      "cell_type": "code",
      "source": [
        "def abc_coupling_gandk(N, S, y_obs,h):\n",
        "##INITIALIZATION:\n",
        "    s_obs = S(y_obs)\n",
        "    s1 = np.zeros((N+1,9))\n",
        "    s2 = np.zeros((N+1,9))\n",
        "    y1 = np.zeros(n)\n",
        "    y2 = np.zeros(n)\n",
        "    y1_current = np.zeros(n)\n",
        "    y2_current = np.zeros(n)\n",
        "    theta1=np.zeros((N+1,4))\n",
        "    theta2=np.zeros((N+1,4))\n",
        "    rate1=0\n",
        "    rate2=0\n",
        "    a1_0 =prior_unif().sample(1)\n",
        "    b1_0 =prior_unif().sample(1)\n",
        "    g1_0 =prior_unif().sample(1)\n",
        "    k1_0 =prior_unif().sample(1)\n",
        "    a2_0 =prior_unif().sample(1)\n",
        "    b2_0 =prior_unif().sample(1)\n",
        "    g2_0 =prior_unif().sample(1)\n",
        "    k2_0 =prior_unif().sample(1)\n",
        "\n",
        "# STARTING POINT:\n",
        "    for i in range(n):\n",
        "      z = tfd.Normal(0,1).sample() \n",
        "      y1[i]=quantile_fun_param(a1_0,b1_0,g1_0,k1_0,z)\n",
        "    s1_0 = S(y1)\n",
        "\n",
        "    for i in range(n):\n",
        "      z = tfd.Normal(0,1).sample() \n",
        "      y2[i]=quantile_fun_param(a2_0,b2_0,g2_0,k2_0,z)\n",
        "    s2_0 = S(y2)\n",
        "   \n",
        "    H=h\n",
        "    #while K_h(mahal(np.array(s_0),np.array(s_obs)),H)<=0:\n",
        "    while K_h(distance(np.array(s1_0),np.array(s_obs)),H)<=0:    \n",
        "        a1_0 =prior_unif().sample(1)\n",
        "        b1_0 =prior_unif().sample(1)\n",
        "        g1_0 =prior_unif().sample(1)\n",
        "        k1_0 =prior_unif().sample(1)\n",
        "        for j in range(n):\n",
        "          z = tfd.Normal(0,1).sample()\n",
        "          y1[j]=quantile_fun_param(a1_0,b1_0,g1_0,k1_0,z)\n",
        "        s1_0 = S(y1)\n",
        "   \n",
        "    theta1[0,:]=[a1_0,b1_0,g1_0,k1_0]\n",
        "\n",
        "    while K_h(distance(np.array(s2_0),np.array(s_obs)),H)<=0:    \n",
        "        a2_0 =prior_unif().sample(1)\n",
        "        b2_0 =prior_unif().sample(1)\n",
        "        g2_0 =prior_unif().sample(1)\n",
        "        k2_0 =prior_unif().sample(1)\n",
        "        for j in range(n):\n",
        "          z = tfd.Normal(0,1).sample()\n",
        "          y2[j]=quantile_fun_param(a2_0,b2_0,g2_0,k2_0,z)\n",
        "        s2_0 = S(y2)\n",
        "   \n",
        "    theta2[0,:]=[a2_0,b2_0,g2_0,k2_0]\n",
        "    \n",
        "# ACTUAL IMPLEMENTATION\n",
        "    for i in range(N):\n",
        "        \n",
        "        theta1_current,theta2_current = maximal_coupling(theta1[i,],theta2[i,])\n",
        "           \n",
        "        for j in range(n):\n",
        "          z = tfd.Normal(0,1).sample() \n",
        "          y1_current[j] = quantile_fun(theta1_current,z)\n",
        "          y2_current[j] = quantile_fun(theta2_current,z)\n",
        "        s1_current = S(y1_current)\n",
        "        s2_current = S(y2_current)\n",
        "\n",
        "       \n",
        "        #den_num=tfd.Normal(theta_muold,1).prob(theta_mucurrent)*tfd.Normal(theta_tauold,1).prob(theta_taucurrent)\n",
        "        #den_den=tfd.Normal(theta_mucurrent,1).prob(theta_muold)*tfd.Normal(theta_taucurrent,1).prob(theta_tauold)\n",
        "        \n",
        "        prob1 = prob(H,s_obs,s1_current,theta1_current,s1[i,],theta1[i,])   #s[i,],a[i]unif().prob(a[i]))\n",
        "        prob2 = prob(H,s_obs,s2_current,theta2_current,s2[i,],theta2[i,])\n",
        "\n",
        "        acc_prob1 = min([1.,prob1])\n",
        "        acc_prob2 = min([1.,prob2])\n",
        "      \n",
        "        u = tfd.Uniform(0,1).sample()\n",
        "        if u < acc_prob1:\n",
        "              theta1[i+1,] = theta1_current\n",
        "              s1[i+1,] = s1_current\n",
        "              rate1+=1\n",
        "        else: \n",
        "              theta1[i+1,] = theta1[i,]\n",
        "              s1[i+1,] = s1[i,]\n",
        "\n",
        "        if u < acc_prob2:\n",
        "              theta2[i+1,] = theta2_current\n",
        "              s2[i+1,] = s2_current\n",
        "              rate2+=1\n",
        "        else: \n",
        "              theta2[i+1,]=theta2[i,]\n",
        "              s2[i+1,] = s2[i,]\n",
        "\n",
        "        \n",
        "    return theta1,theta2, rate1, rate2"
      ],
      "metadata": {
        "id": "pKR9H_PkThSx"
      },
      "execution_count": null,
      "outputs": []
    },
    {
      "cell_type": "code",
      "source": [
        "aobs = 3\n",
        "bobs = 1\n",
        "gobs = 2\n",
        "kobs = 0.5\n",
        "n = 100\n",
        "h = 0.6\n",
        "y_obs = np.zeros(n)\n",
        "for i in range(n):\n",
        "  z = tfd.Normal(0,1).sample() \n",
        "  y_obs[i] = quantile_fun_param(aobs,bobs,gobs,kobs,z)"
      ],
      "metadata": {
        "id": "odbhmKW9TzE7"
      },
      "execution_count": null,
      "outputs": []
    },
    {
      "cell_type": "code",
      "source": [
        "theta1_post,theta2_post,acc1_all,acc2_all = abc_coupling_gandk(1000, S2, y_obs, 0.6)  "
      ],
      "metadata": {
        "id": "mfTxwKXxThSx"
      },
      "execution_count": null,
      "outputs": []
    },
    {
      "cell_type": "code",
      "source": [
        "np.mean(theta1_post[50:,0])"
      ],
      "metadata": {
        "colab": {
          "base_uri": "https://localhost:8080/"
        },
        "outputId": "c0551ac6-7494-4ce9-d5f0-af8affcadc91",
        "id": "8G_7RG7qThSy"
      },
      "execution_count": null,
      "outputs": [
        {
          "output_type": "execute_result",
          "data": {
            "text/plain": [
              "2.8814800350650938"
            ]
          },
          "metadata": {},
          "execution_count": 117
        }
      ]
    },
    {
      "cell_type": "code",
      "source": [
        "np.mean(theta2_post[:,0])"
      ],
      "metadata": {
        "colab": {
          "base_uri": "https://localhost:8080/"
        },
        "outputId": "f3329cd9-1e93-4915-e2ea-fbfbdbf44da7",
        "id": "UjuOzv1MThSy"
      },
      "execution_count": null,
      "outputs": [
        {
          "output_type": "execute_result",
          "data": {
            "text/plain": [
              "2.8134465666306694"
            ]
          },
          "metadata": {},
          "execution_count": 118
        }
      ]
    },
    {
      "cell_type": "code",
      "source": [
        "np.mean(theta1_post[:,1])"
      ],
      "metadata": {
        "colab": {
          "base_uri": "https://localhost:8080/"
        },
        "id": "IETzqY2P1XWJ",
        "outputId": "fe84c3ce-8510-4f2e-81ed-ad5c66e26d60"
      },
      "execution_count": null,
      "outputs": [
        {
          "output_type": "execute_result",
          "data": {
            "text/plain": [
              "0.9447723809997056"
            ]
          },
          "metadata": {},
          "execution_count": 119
        }
      ]
    },
    {
      "cell_type": "code",
      "source": [
        "np.mean(theta2_post[:,1])"
      ],
      "metadata": {
        "colab": {
          "base_uri": "https://localhost:8080/"
        },
        "id": "knhrGIRq1X6Q",
        "outputId": "e339d45b-f559-4c79-f9ef-b633dc4b9a1e"
      },
      "execution_count": null,
      "outputs": [
        {
          "output_type": "execute_result",
          "data": {
            "text/plain": [
              "1.2062380842871685"
            ]
          },
          "metadata": {},
          "execution_count": 120
        }
      ]
    },
    {
      "cell_type": "code",
      "source": [
        "np.mean(theta1_post[:,2])"
      ],
      "metadata": {
        "colab": {
          "base_uri": "https://localhost:8080/"
        },
        "id": "YogNvBp_1YcJ",
        "outputId": "c18da259-a93e-4b45-91b7-1f09bb6a2d22"
      },
      "execution_count": null,
      "outputs": [
        {
          "output_type": "execute_result",
          "data": {
            "text/plain": [
              "7.3773838445475795"
            ]
          },
          "metadata": {},
          "execution_count": 121
        }
      ]
    },
    {
      "cell_type": "code",
      "source": [
        "np.mean(theta2_post[:,2])"
      ],
      "metadata": {
        "colab": {
          "base_uri": "https://localhost:8080/"
        },
        "id": "3iVa0Rcf1Y1J",
        "outputId": "72a03a5d-3ed7-4286-926c-aedb2f1f4c37"
      },
      "execution_count": null,
      "outputs": [
        {
          "output_type": "execute_result",
          "data": {
            "text/plain": [
              "7.21810246533565"
            ]
          },
          "metadata": {},
          "execution_count": 122
        }
      ]
    },
    {
      "cell_type": "code",
      "source": [
        "np.mean(theta1_post[:,3])"
      ],
      "metadata": {
        "colab": {
          "base_uri": "https://localhost:8080/"
        },
        "id": "B83xBrPg1ZYe",
        "outputId": "cd19281d-1bb8-4bde-da64-57699f4a7a32"
      },
      "execution_count": null,
      "outputs": [
        {
          "output_type": "execute_result",
          "data": {
            "text/plain": [
              "0.5097174986061356"
            ]
          },
          "metadata": {},
          "execution_count": 123
        }
      ]
    },
    {
      "cell_type": "code",
      "source": [
        "np.mean(theta2_post[:,3])"
      ],
      "metadata": {
        "colab": {
          "base_uri": "https://localhost:8080/"
        },
        "id": "tHp3O1801is6",
        "outputId": "902a3c0f-5375-4895-fa82-e93099083fcc"
      },
      "execution_count": null,
      "outputs": [
        {
          "output_type": "execute_result",
          "data": {
            "text/plain": [
              "0.24475643005029038"
            ]
          },
          "metadata": {},
          "execution_count": 124
        }
      ]
    },
    {
      "cell_type": "code",
      "source": [
        "acc1_all"
      ],
      "metadata": {
        "colab": {
          "base_uri": "https://localhost:8080/"
        },
        "outputId": "9f36a325-660d-4e36-ea1f-c9a297e1194d",
        "id": "yi8GuTjVThSy"
      },
      "execution_count": null,
      "outputs": [
        {
          "output_type": "execute_result",
          "data": {
            "text/plain": [
              "193"
            ]
          },
          "metadata": {},
          "execution_count": 132
        }
      ]
    },
    {
      "cell_type": "code",
      "source": [
        "acc2_all"
      ],
      "metadata": {
        "colab": {
          "base_uri": "https://localhost:8080/"
        },
        "outputId": "35176e68-ff3d-4710-86fe-485072278365",
        "id": "t_mIbG7nThSy"
      },
      "execution_count": null,
      "outputs": [
        {
          "output_type": "execute_result",
          "data": {
            "text/plain": [
              "189"
            ]
          },
          "metadata": {},
          "execution_count": 133
        }
      ]
    },
    {
      "cell_type": "code",
      "source": [
        "plt.plot(theta1_post[:,3])\n",
        "plt.plot(theta2_post[:,3])"
      ],
      "metadata": {
        "colab": {
          "base_uri": "https://localhost:8080/",
          "height": 282
        },
        "id": "XKyPe9Mb1omv",
        "outputId": "878e3631-2961-4260-cc4a-61fa61ed3a31"
      },
      "execution_count": null,
      "outputs": [
        {
          "output_type": "execute_result",
          "data": {
            "text/plain": [
              "[<matplotlib.lines.Line2D at 0x7facc92631d0>]"
            ]
          },
          "metadata": {},
          "execution_count": 130
        },
        {
          "output_type": "display_data",
          "data": {
            "image/png": "[encoded data removed]",
            "text/plain": [
              "<Figure size 432x288 with 1 Axes>"
            ]
          },
          "metadata": {
            "needs_background": "light"
          }
        }
      ]
    },
    {
      "cell_type": "code",
      "source": [
        "k_post = []\n",
        "for i in range(len(k1_post[:,0])):\n",
        "  k_post.append([k1_post[i,0],k2_post[i,0]])\n",
        "plt.plot(k_post)"
      ],
      "metadata": {
        "colab": {
          "base_uri": "https://localhost:8080/",
          "height": 300
        },
        "outputId": "0e240f49-6a62-495f-c8c6-4659e44c6e14",
        "id": "x1RQYxf6ThSy"
      },
      "execution_count": null,
      "outputs": [
        {
          "output_type": "execute_result",
          "data": {
            "text/plain": [
              "[<matplotlib.lines.Line2D at 0x7facc978ea10>,\n",
              " <matplotlib.lines.Line2D at 0x7facc978ec50>]"
            ]
          },
          "metadata": {},
          "execution_count": 107
        },
        {
          "output_type": "display_data",
          "data": {
            "image/png": "[encoded data removed]",
            "text/plain": [
              "<Figure size 432x288 with 1 Axes>"
            ]
          },
          "metadata": {
            "needs_background": "light"
          }
        }
      ]
    },
    {
      "cell_type": "code",
      "source": [
        "k1_post[:10,1]"
      ],
      "metadata": {
        "colab": {
          "base_uri": "https://localhost:8080/"
        },
        "id": "th-jGE2rtwdP",
        "outputId": "20e22e82-1a8d-494a-99a7-58e527c8d73a"
      },
      "execution_count": null,
      "outputs": [
        {
          "output_type": "execute_result",
          "data": {
            "text/plain": [
              "array([3.12727356, 3.12727356, 3.12727356, 3.12727356, 3.12727356,\n",
              "       3.12727356, 2.01927777, 0.88986428, 0.88986428, 0.90266426])"
            ]
          },
          "metadata": {},
          "execution_count": 93
        }
      ]
    },
    {
      "cell_type": "code",
      "source": [
        "k2_post[:10,1]"
      ],
      "metadata": {
        "colab": {
          "base_uri": "https://localhost:8080/"
        },
        "id": "OaitYNOwt3uY",
        "outputId": "3099f377-b3c1-4b39-fd61-a0a0fd83e509"
      },
      "execution_count": null,
      "outputs": [
        {
          "output_type": "execute_result",
          "data": {
            "text/plain": [
              "array([2.0730176, 0.940269 , 0.940269 , 0.940269 , 0.940269 , 0.940269 ,\n",
              "       0.940269 , 0.940269 , 0.940269 , 0.940269 ])"
            ]
          },
          "metadata": {},
          "execution_count": 94
        }
      ]
    }
  ]
}