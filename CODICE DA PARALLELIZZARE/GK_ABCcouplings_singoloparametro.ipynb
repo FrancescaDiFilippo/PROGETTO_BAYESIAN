{
  "nbformat": 4,
  "nbformat_minor": 0,
  "metadata": {
    "colab": {
      "name": "GK_ABCcouplings_singoloparametro.ipynb",
      "provenance": []
    },
    "kernelspec": {
      "name": "python3",
      "display_name": "Python 3"
    },
    "language_info": {
      "name": "python"
    }
  },
  "cells": [
    {
      "cell_type": "code",
      "execution_count": 42,
      "metadata": {
        "id": "6Y6284G_Fo-Z"
      },
      "outputs": [],
      "source": [
        "import numpy as np\n",
        "import matplotlib.pyplot as plt\n",
        "import seaborn as sns\n",
        "import pandas as pd\n",
        "import scipy.stats as sstat\n",
        "from mpmath import mp\n",
        "import math\n",
        "import random\n",
        "from scipy.stats import multivariate_normal\n",
        "from sklearn import preprocessing as p\n",
        "\n",
        "psd = pd.DataFrame\n",
        "from tensorflow_probability.substrates import numpy as tfp\n",
        "tfd = tfp.distributions"
      ]
    },
    {
      "cell_type": "code",
      "source": [
        "def prior_unif():\n",
        "  return tfd.Uniform(0,10)"
      ],
      "metadata": {
        "id": "WgVRaJOqFtYa"
      },
      "execution_count": 43,
      "outputs": []
    },
    {
      "cell_type": "code",
      "source": [
        "def prior_out(a,b,g,k):\n",
        "  a_prior = tfd.Uniform(0,10).prob(a)\n",
        "  b_prior = tfd.Uniform(0,10).prob(b)\n",
        "  g_prior = tfd.Uniform(0,10).prob(g)\n",
        "  k_prior = tfd.Uniform(0,10).prob(k)\n",
        "  return  a_prior *b_prior * g_prior*  k_prior "
      ],
      "metadata": {
        "id": "7DNQzj4XFvl_"
      },
      "execution_count": 44,
      "outputs": []
    },
    {
      "cell_type": "code",
      "source": [
        "def my_kernel(u):\n",
        "  return 1/(np.sqrt(2*math.pi))*np.exp(-1/2*u**2)"
      ],
      "metadata": {
        "id": "O6vDAz-LFyNY"
      },
      "execution_count": 45,
      "outputs": []
    },
    {
      "cell_type": "code",
      "source": [
        "def K_h(u,h):\n",
        "  return my_kernel(u/h)/h"
      ],
      "metadata": {
        "id": "WmKY0-50F0aU"
      },
      "execution_count": 46,
      "outputs": []
    },
    {
      "cell_type": "code",
      "source": [
        "def S2(y):\n",
        "  quantiles= np.zeros(9)\n",
        "  for i in range(9):\n",
        "      quantiles[i]= np.quantile(y,0.1+0.1*i)       #quantili 0,1 0,2 0,3 0,4 0,5 0,6 0,7 0,8 0,9\n",
        "  return quantiles"
      ],
      "metadata": {
        "id": "TnwPYmKmF2Wd"
      },
      "execution_count": 47,
      "outputs": []
    },
    {
      "cell_type": "code",
      "source": [
        "def S1(y):\n",
        "  return np.mean(y)"
      ],
      "metadata": {
        "id": "ediWJYLSJD8p"
      },
      "execution_count": 48,
      "outputs": []
    },
    {
      "cell_type": "code",
      "source": [
        "from scipy.spatial import distance\n",
        "\n",
        "def distance(s_old, s_obs):\n",
        "   return np.linalg.norm(s_old-s_obs)\n",
        "   # return distance.mahalanobis(s_old, s_obs, iv)\n",
        "\n",
        "      "
      ],
      "metadata": {
        "id": "4yHLKTdoF72a"
      },
      "execution_count": 49,
      "outputs": []
    },
    {
      "cell_type": "code",
      "source": [
        "def quantile_fun(a,b,g,k,z):\n",
        "    y = a+b*(1+0.8*(1-np.exp(-g*z))/(1+np.exp(-g*z)))*((1+z**2)**k)*z\n",
        "    return y"
      ],
      "metadata": {
        "id": "Wo9xzvD6F-Xa"
      },
      "execution_count": 50,
      "outputs": []
    },
    {
      "cell_type": "code",
      "source": [
        "##MAXIMAL COUPLING OF THETA\n",
        "def maximal_coupling(x,y):\n",
        "      current_x = x\n",
        "      current_y = y  \n",
        "      proposed_x = current_x + tfd.Normal(0,1).sample()\n",
        "      pX = sstat.norm.pdf(proposed_x,current_x,1)\n",
        "      w = tfd.Uniform(0,1).sample()*pX\n",
        "      qX = sstat.norm.pdf(proposed_x,current_y,1)\n",
        "      if w < qX:\n",
        "          x_new = proposed_x\n",
        "          y_new = proposed_x\n",
        "      else:\n",
        "          t = True\n",
        "          while t == True:\n",
        "                proposed_y = current_y + tfd.Normal(0,1).sample()\n",
        "                qY =  sstat.norm.pdf(proposed_y,current_y,1) \n",
        "                w =  tfd.Uniform(0,1).sample()*qY\n",
        "                pY = sstat.norm.pdf(proposed_y,current_x,1)\n",
        "                if w > pY :\n",
        "                  t = False\n",
        "\n",
        "          x_new = proposed_x\n",
        "          y_new = proposed_y  \n",
        "\n",
        "\n",
        "      return [x_new, y_new]"
      ],
      "metadata": {
        "id": "wlvBON-6Jpei"
      },
      "execution_count": 51,
      "outputs": []
    },
    {
      "cell_type": "code",
      "source": [
        "def prob(H,s_obs,s_current,a_current,s_i,a_i):   #s[i,],a[i]\n",
        "  NUM = (K_h(distance(np.array(s_current), np.array(s_obs)),H)*prior_unif().prob(a_current))\n",
        "  DEN = (K_h(distance(np.array(s_i),np.array(s_obs)),H)* prior_unif().prob(a_i))\n",
        "  return NUM/DEN    "
      ],
      "metadata": {
        "id": "V7B9jk54NB7d"
      },
      "execution_count": 60,
      "outputs": []
    },
    {
      "cell_type": "code",
      "source": [
        "def abc_algo_single_a (N, S, y_obs,h):\n",
        "    s_obs = S(y_obs)\n",
        "    s1 = np.zeros((N+1,9))\n",
        "    s2 = np.zeros((N+1,9))\n",
        "    y1 = np.zeros(n)\n",
        "    y2 = np.zeros(n)\n",
        "    y1_current = np.zeros(n)\n",
        "    y2_current = np.zeros(n)\n",
        "    a1 = np.zeros(N+1)\n",
        "    a2 = np.zeros(N+1)\n",
        "    k1=0\n",
        "    k2=0\n",
        "    a1_0 =prior_unif().sample(1)\n",
        "    a2_0 =prior_unif().sample(1)\n",
        "    for i in range(n):\n",
        "      z = tfd.Normal(0,1).sample() \n",
        "      y1[i]=quantile_fun(a1_0,b_0,g_0,k_0,z)\n",
        "    s1_0 = S(y1)\n",
        "\n",
        "    for i in range(n):\n",
        "      z = tfd.Normal(0,1).sample() \n",
        "      y2[i]=quantile_fun(a2_0,b_0,g_0,k_0,z)\n",
        "    s2_0 = S(y2)\n",
        "   \n",
        "    H=h\n",
        "    #while K_h(mahal(np.array(s_0),np.array(s_obs)),H)<=0:\n",
        "    while K_h(distance(np.array(s1_0),np.array(s_obs)),H)<=0:    \n",
        "        a1_0 =prior_unif().sample()\n",
        "        for j in range(n):\n",
        "          z = tfd.Normal(0,1).sample()\n",
        "          y1[j]=quantile_fun(a1_0,b_0,g_0,k_0,z)\n",
        "        s1_0 = S(y1)\n",
        "   \n",
        "    a1[0]=a1_0\n",
        "\n",
        "    while K_h(distance(np.array(s2_0),np.array(s_obs)),H)<=0:    \n",
        "        a2_0 =prior_unif().sample()\n",
        "        for j in range(n):\n",
        "          z = tfd.Normal(0,1).sample()\n",
        "          y2[j]=quantile_fun(a2_0,b_0,g_0,k_0,z)\n",
        "        s2_0 = S(y2)\n",
        "   \n",
        "    a2[0]=a2_0\n",
        "    \n",
        "\n",
        "    for i in range(N):\n",
        "        \n",
        "        a1_current,a2_current = maximal_coupling(a1[i],a2[i])\n",
        "        b_current = b_0\n",
        "        g_current = g_0\n",
        "        k_current = k_0      \n",
        "        for j in range(n):\n",
        "          z = tfd.Normal(0,1).sample() \n",
        "          y1_current[j] = quantile_fun(a1_current,b_current,g_current,k_current,z)\n",
        "          y2_current[j] = quantile_fun(a2_current,b_current,g_current,k_current,z)\n",
        "        s1_current = S(y1_current)\n",
        "        s2_current = S(y2_current)\n",
        "\n",
        "       \n",
        "        #den_num=tfd.Normal(theta_muold,1).prob(theta_mucurrent)*tfd.Normal(theta_tauold,1).prob(theta_taucurrent)\n",
        "        #den_den=tfd.Normal(theta_mucurrent,1).prob(theta_muold)*tfd.Normal(theta_taucurrent,1).prob(theta_tauold)\n",
        "        \n",
        "        prob1 = prob(H,s_obs,s1_current,a1_current,s1[i,],a1[i])   #s[i,],a[i]unif().prob(a[i]))\n",
        "        prob2 = prob(H,s_obs,s2_current,a2_current,s2[i,],a2[i])\n",
        "\n",
        "        acc_prob1 = min([1.,prob1])\n",
        "        acc_prob2 = min([1.,prob2])\n",
        "      \n",
        "        u = tfd.Uniform(0,1).sample()\n",
        "        if u < acc_prob1:\n",
        "              a1[i+1] = a1_current\n",
        "              s1[i+1,] = s1_current\n",
        "              k1+=1\n",
        "        else: \n",
        "              a1[i+1] = a1[i]\n",
        "              s1[i+1,] = s1[i,]\n",
        "\n",
        "        if u < acc_prob2:\n",
        "              a2[i+1] = a2_current\n",
        "              s2[i+1,] = s2_current\n",
        "              k2+=1\n",
        "        else: \n",
        "              a2[i+1] = a2[i]\n",
        "              s2[i+1,] = s2[i,]\n",
        "\n",
        "        \n",
        "    return a1,a2,k1,k2"
      ],
      "metadata": {
        "id": "D4OcC1GBGA6v"
      },
      "execution_count": 61,
      "outputs": []
    },
    {
      "cell_type": "code",
      "source": [
        "aobs = 3\n",
        "bobs = 1\n",
        "gobs = 2\n",
        "kobs = 0.5\n",
        "n = 100\n",
        "h = 0.6\n",
        "y_obs = np.zeros(n)\n",
        "for i in range(n):\n",
        "  z = tfd.Normal(0,1).sample() \n",
        "  y_obs[i] = quantile_fun(aobs,bobs,gobs,kobs,z)"
      ],
      "metadata": {
        "id": "WYDzzRkmGK8I"
      },
      "execution_count": 54,
      "outputs": []
    },
    {
      "cell_type": "code",
      "source": [
        "g_0 =2\n",
        "b_0 =1\n",
        "k_0=0.5"
      ],
      "metadata": {
        "id": "oBwpsXWtGMwq"
      },
      "execution_count": 55,
      "outputs": []
    },
    {
      "cell_type": "code",
      "source": [
        "a1_post,a2_post,acc1,acc2 = abc_algo_single_a (500, S2, y_obs, h)  "
      ],
      "metadata": {
        "id": "TZ0k2IY4GOzS"
      },
      "execution_count": 62,
      "outputs": []
    },
    {
      "cell_type": "code",
      "source": [
        "np.mean(a1_post)"
      ],
      "metadata": {
        "colab": {
          "base_uri": "https://localhost:8080/"
        },
        "id": "Qpbhq38AGTOg",
        "outputId": "f1ff2c46-8f33-49fc-a8ec-088f75152e93"
      },
      "execution_count": 63,
      "outputs": [
        {
          "output_type": "execute_result",
          "data": {
            "text/plain": [
              "3.0901032273997804"
            ]
          },
          "metadata": {},
          "execution_count": 63
        }
      ]
    },
    {
      "cell_type": "code",
      "source": [
        "np.mean(a2_post)"
      ],
      "metadata": {
        "colab": {
          "base_uri": "https://localhost:8080/"
        },
        "id": "6qVtEYg4PjCH",
        "outputId": "1ca919c8-5d09-466e-f990-698f65bbd900"
      },
      "execution_count": 64,
      "outputs": [
        {
          "output_type": "execute_result",
          "data": {
            "text/plain": [
              "3.3538434571380207"
            ]
          },
          "metadata": {},
          "execution_count": 64
        }
      ]
    },
    {
      "cell_type": "code",
      "source": [
        "acc1"
      ],
      "metadata": {
        "colab": {
          "base_uri": "https://localhost:8080/"
        },
        "id": "i-F_wsanGV0n",
        "outputId": "d8063046-c772-4d68-df0e-073e3f46fa76"
      },
      "execution_count": 65,
      "outputs": [
        {
          "output_type": "execute_result",
          "data": {
            "text/plain": [
              "104"
            ]
          },
          "metadata": {},
          "execution_count": 65
        }
      ]
    },
    {
      "cell_type": "code",
      "source": [
        "acc2"
      ],
      "metadata": {
        "colab": {
          "base_uri": "https://localhost:8080/"
        },
        "id": "qBRJ0ixRPlnK",
        "outputId": "88464ff8-81ec-4c03-defd-893f44b0da06"
      },
      "execution_count": 66,
      "outputs": [
        {
          "output_type": "execute_result",
          "data": {
            "text/plain": [
              "100"
            ]
          },
          "metadata": {},
          "execution_count": 66
        }
      ]
    },
    {
      "cell_type": "code",
      "source": [
        "a_post = []\n",
        "for i in range(len(a1_post)):\n",
        "  a_post.append([a1_post[i],a2_post[i]])\n",
        "plt.plot(a_post)"
      ],
      "metadata": {
        "colab": {
          "base_uri": "https://localhost:8080/",
          "height": 300
        },
        "id": "8JFO23CkPwAa",
        "outputId": "a791a6b5-1d38-4b5c-a309-fa857585deae"
      },
      "execution_count": 67,
      "outputs": [
        {
          "output_type": "execute_result",
          "data": {
            "text/plain": [
              "[<matplotlib.lines.Line2D at 0x7fa5aaeac350>,\n",
              " <matplotlib.lines.Line2D at 0x7fa5aaeac590>]"
            ]
          },
          "metadata": {},
          "execution_count": 67
        },
        {
          "output_type": "display_data",
          "data": {
            "image/png": "[encoded data removed]",
            "text/plain": [
              "<Figure size 432x288 with 1 Axes>"
            ]
          },
          "metadata": {
            "needs_background": "light"
          }
        }
      ]
    },
    {
      "cell_type": "code",
      "source": [
        "plt.hist(a1_post)"
      ],
      "metadata": {
        "colab": {
          "base_uri": "https://localhost:8080/",
          "height": 352
        },
        "id": "apzCVHTyGbI2",
        "outputId": "183812aa-a168-455c-f496-c25fac65e886"
      },
      "execution_count": 69,
      "outputs": [
        {
          "output_type": "execute_result",
          "data": {
            "text/plain": [
              "(array([  1.,   1.,   5.,   0.,   0.,  25., 110., 220., 120.,  19.]),\n",
              " array([0.6865949 , 1.01062751, 1.33466011, 1.65869272, 1.98272532,\n",
              "        2.30675793, 2.63079054, 2.95482314, 3.27885575, 3.60288835,\n",
              "        3.92692096]),\n",
              " <a list of 10 Patch objects>)"
            ]
          },
          "metadata": {},
          "execution_count": 69
        },
        {
          "output_type": "display_data",
          "data": {
            "image/png": "[encoded data removed]",
            "text/plain": [
              "<Figure size 432x288 with 1 Axes>"
            ]
          },
          "metadata": {
            "needs_background": "light"
          }
        }
      ]
    }
  ]
}