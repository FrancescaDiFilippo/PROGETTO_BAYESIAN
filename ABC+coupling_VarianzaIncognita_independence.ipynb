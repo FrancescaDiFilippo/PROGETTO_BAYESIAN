{
  "nbformat": 4,
  "nbformat_minor": 5,
  "metadata": {
    "kernelspec": {
      "display_name": "Python 3 (ipykernel)",
      "language": "python",
      "name": "python3"
    },
    "language_info": {
      "codemirror_mode": {
        "name": "ipython",
        "version": 3
      },
      "file_extension": ".py",
      "mimetype": "text/x-python",
      "name": "python",
      "nbconvert_exporter": "python",
      "pygments_lexer": "ipython3",
      "version": "3.9.7"
    },
    "colab": {
      "name": "ABC+coupling_VarianzaIncognita_independence.ipynb",
      "provenance": [],
      "collapsed_sections": []
    }
  },
  "cells": [
    {
      "cell_type": "code",
      "metadata": {
        "id": "ea31ed18-18f6-41bf-820c-8b9ab3a6eb7b"
      },
      "source": [
        "import numpy as np\n",
        "import matplotlib.pyplot as plt\n",
        "import seaborn as sns\n",
        "import pandas as pd\n",
        "import scipy.stats as sstat\n",
        "from mpmath import mp\n",
        "import math\n",
        "import random\n",
        "from scipy.stats import multivariate_normal\n",
        "\n",
        "psd = pd.DataFrame\n",
        "from tensorflow_probability.substrates import numpy as tfp\n",
        "tfd = tfp.distributions"
      ],
      "id": "ea31ed18-18f6-41bf-820c-8b9ab3a6eb7b",
      "execution_count": 55,
      "outputs": []
    },
    {
      "cell_type": "markdown",
      "source": [
        "Generiamo 1000 sample da una normale:\n",
        "\n",
        "\\begin{equation*}\n",
        "\\begin{aligned}\n",
        "    y_{obs} &\\sim \\mathcal{N}(\\mu_{obs}, σ_{obs} ^2) \\\\\n",
        "\\end{aligned}\n",
        "\\end{equation*}\n",
        "\n",
        "e scegliamo come modello:\n",
        "\n",
        "\\begin{equation*}\n",
        "\\begin{aligned}\n",
        "    y_i | \\mu &\\sim ^{iid} \\mathcal{N}(\\mu, \\sigma_{obs} ^2)  \\\\\n",
        "    \\mu & \\sim \\mathcal{N}(\\mu_0, \\sigma_0^2)\n",
        "\\end{aligned}\n",
        "\\end{equation*}\n",
        "\n",
        "$\\sigma_{obs}$ noto\n",
        "\n",
        "$\\mu_0, \\sigma_0$ fissati"
      ],
      "metadata": {
        "id": "tkZvVSYObRBv"
      },
      "id": "tkZvVSYObRBv"
    },
    {
      "cell_type": "markdown",
      "source": [
        "$\\mathscr{L}(y_i|\\mu)$:"
      ],
      "metadata": {
        "id": "I8CxF5fEdrKe"
      },
      "id": "I8CxF5fEdrKe"
    },
    {
      "cell_type": "code",
      "metadata": {
        "id": "TTSAOsuISlBL"
      },
      "source": [
        "def single_lik(mu,tau):\n",
        "   return tfd.Normal(mu,np.sqrt(1/tau))"
      ],
      "id": "TTSAOsuISlBL",
      "execution_count": 56,
      "outputs": []
    },
    {
      "cell_type": "markdown",
      "source": [
        "# $\\pi(\\mu)$:"
      ],
      "metadata": {
        "id": "GPNG3rfGeI9H"
      },
      "id": "GPNG3rfGeI9H"
    },
    {
      "cell_type": "code",
      "source": [
        "def prior_mu():\n",
        "    return tfd.Normal(mu0,1/tau0)"
      ],
      "metadata": {
        "id": "xkExXqz-rVjc"
      },
      "id": "xkExXqz-rVjc",
      "execution_count": 57,
      "outputs": []
    },
    {
      "cell_type": "code",
      "source": [
        "def prior_tau():\n",
        "    return tfd.Gamma(c,d)"
      ],
      "metadata": {
        "id": "9uVMhINVru2p"
      },
      "id": "9uVMhINVru2p",
      "execution_count": 58,
      "outputs": []
    },
    {
      "cell_type": "markdown",
      "source": [
        "proposal distribution $g(\\theta'|\\theta)$= $N(\\theta, 1)$"
      ],
      "metadata": {
        "id": "7WJZCt2MeXaX"
      },
      "id": "7WJZCt2MeXaX"
    },
    {
      "cell_type": "code",
      "source": [
        "def proposal_mu(mu):\n",
        "  return tfd.Normal(mu,1)"
      ],
      "metadata": {
        "id": "KvO2e-f8MGuh"
      },
      "id": "KvO2e-f8MGuh",
      "execution_count": 59,
      "outputs": []
    },
    {
      "cell_type": "code",
      "source": [
        "def proposal_tau(tau):\n",
        "  return tfd.Gamma(tau*6,6)"
      ],
      "metadata": {
        "id": "losm8Q2lMNOI"
      },
      "id": "losm8Q2lMNOI",
      "execution_count": 60,
      "outputs": []
    },
    {
      "cell_type": "markdown",
      "source": [
        "definiamo la funzione Kernel Gaussiana"
      ],
      "metadata": {
        "id": "Qxg0rrR5fVse"
      },
      "id": "Qxg0rrR5fVse"
    },
    {
      "cell_type": "code",
      "metadata": {
        "id": "q7BAYb1rZ24M"
      },
      "source": [
        "def my_kernel(u):\n",
        "  return 1/(np.sqrt(2*math.pi))*np.exp(-1/2*u**2)"
      ],
      "id": "q7BAYb1rZ24M",
      "execution_count": 61,
      "outputs": []
    },
    {
      "cell_type": "code",
      "metadata": {
        "id": "wFEIc1dEa6Al"
      },
      "source": [
        "def K_h(u,h):\n",
        "  return my_kernel(u/h)/h"
      ],
      "id": "wFEIc1dEa6Al",
      "execution_count": 62,
      "outputs": []
    },
    {
      "cell_type": "markdown",
      "source": [
        "Come summary statistics utilizziamo:\n",
        "\n",
        "\n",
        "*   Quantili\n",
        "*   Media campionaria\n",
        "\n"
      ],
      "metadata": {
        "id": "HIXl408VfcgR"
      },
      "id": "HIXl408VfcgR"
    },
    {
      "cell_type": "code",
      "metadata": {
        "id": "2NUHjqBFfA8J"
      },
      "source": [
        "def S2(y):\n",
        "  quantiles=[]\n",
        "  for i in range(9):\n",
        "      quantiles.append(np.quantile(y,0.1+0.1*i))         #quantili 0,1 0,2 0,3 0,4 0,5 0,6 0,7 0,8 0,9\n",
        "  return quantiles"
      ],
      "id": "2NUHjqBFfA8J",
      "execution_count": 63,
      "outputs": []
    },
    {
      "cell_type": "code",
      "source": [
        "def S1(y):\n",
        "  s_1 = np.mean(y)\n",
        "  s_2 = np.var(y)\n",
        "  return [s_1,s_2]"
      ],
      "metadata": {
        "id": "bdJNO64L_cLP"
      },
      "id": "bdJNO64L_cLP",
      "execution_count": 64,
      "outputs": []
    },
    {
      "cell_type": "code",
      "source": [
        "##MAXIMAL COUPLING FOR DATASET GENERATION\n",
        "def maximal_coupling2(mu_x,tau_x,mu_y,tau_y):\n",
        "\n",
        "      proposed_x = single_lik(mu_x,tau_x).sample()\n",
        "      pX =  single_lik(mu_x,tau_x).prob(proposed_x)\n",
        "      w = tfd.Uniform(0,1).sample()*pX\n",
        "      qX = single_lik(mu_y,tau_y).prob(proposed_x)\n",
        "      if w < qX:\n",
        "          x_new = proposed_x\n",
        "          y_new = proposed_x\n",
        "      else:\n",
        "          t = True\n",
        "          while t == True:\n",
        "                proposed_y = single_lik(mu_y,tau_y).sample()\n",
        "                qY =  single_lik(mu_y,tau_y).prob(proposed_y) \n",
        "                w =  tfd.Uniform(0,1).sample()*qY\n",
        "                pY = single_lik(mu_x,tau_x).prob(proposed_y)\n",
        "                if w > pY :\n",
        "                  t = False\n",
        "\n",
        "          x_new = proposed_x\n",
        "          y_new = proposed_y  \n",
        "          \n",
        "      return x_new,y_new"
      ],
      "metadata": {
        "id": "jVuuWN0iZce9"
      },
      "id": "jVuuWN0iZce9",
      "execution_count": 65,
      "outputs": []
    },
    {
      "cell_type": "code",
      "source": [
        "##MAXIMAL COUPLING OF MU\n",
        "def maximal_coupling_mu(x,y):\n",
        "\n",
        "      current_x = x\n",
        "      current_y = y  \n",
        "      proposed_x = current_x + tfd.Normal(0,1).sample()\n",
        "      pX = sstat.norm.pdf(proposed_x,current_x,1)\n",
        "      w = tfd.Uniform(0,1).sample()*pX\n",
        "      qX = sstat.norm.pdf(proposed_x,current_y,1)\n",
        "      if w < qX:\n",
        "          x_new = proposed_x\n",
        "          y_new = proposed_x\n",
        "      else:\n",
        "          t = True\n",
        "          while t == True:\n",
        "                proposed_y = current_y + tfd.Normal(0,1).sample()\n",
        "                print(proposed_y)\n",
        "                qY =  sstat.norm.pdf(proposed_y,current_y,1) \n",
        "                w =  tfd.Uniform(0,1).sample()*qY\n",
        "                pY = sstat.norm.pdf(proposed_y,current_x,1)\n",
        "                if w > pY :\n",
        "                  t = False\n",
        "\n",
        "          x_new = proposed_x\n",
        "          y_new = proposed_y\n",
        "\n",
        "      return x_new, y_new"
      ],
      "metadata": {
        "id": "60PPkbJXYQ4k"
      },
      "id": "60PPkbJXYQ4k",
      "execution_count": 71,
      "outputs": []
    },
    {
      "cell_type": "code",
      "source": [
        "##MAXIMAL COUPLING OF TAU\n",
        "def maximal_coupling_tau(x,y):\n",
        "      \n",
        "      current_x = x\n",
        "      current_y = y  \n",
        "      proposed_x = proposal_tau(current_x)\n",
        "      pX = proposal_tau(current_x).prob(proposed_x)\n",
        "      w = tfd.Uniform(0,1).sample()*pX\n",
        "      qX = proposal_tau(current_y).prob(proposed_x)\n",
        "      if w < qX:\n",
        "          x_new = proposed_x\n",
        "          y_new = proposed_x\n",
        "      else:\n",
        "          t = True\n",
        "          while t == True:\n",
        "                proposed_y = proposal_tau(current_x)\n",
        "                qY =  proposal_tau(current_y).prob(proposed_y) \n",
        "                w =  tfd.Uniform(0,1).sample()*qY\n",
        "                pY = proposal_tau(current_x).prob(proposed_y)\n",
        "                if w > pY :\n",
        "                  t = False\n",
        "\n",
        "          x_new = proposed_x\n",
        "          y_new = proposed_y  \n",
        "\n",
        "      return x_new, y_new"
      ],
      "metadata": {
        "id": "hPDXUalqYbes"
      },
      "id": "hPDXUalqYbes",
      "execution_count": 72,
      "outputs": []
    },
    {
      "cell_type": "markdown",
      "metadata": {
        "id": "pjFy716PTf9o"
      },
      "source": [
        "ABC algorithm:"
      ],
      "id": "pjFy716PTf9o"
    },
    {
      "cell_type": "code",
      "metadata": {
        "id": "08d5186c-a5b1-454f-a356-aeef3b2b17ef"
      },
      "source": [
        "def abc_algo (N, S, y_obs, h):\n",
        "    \n",
        "    s_obs = S(y_obs)\n",
        "    theta_mu_x = []\n",
        "    theta_tau_x = []\n",
        "    theta_mu_y = []\n",
        "    theta_tau_y = []\n",
        "    datax_current = []\n",
        "    datay_current = [] \n",
        "    theta_tau_x0 = prior_tau().sample()\n",
        "    theta_tau_y0 = prior_tau().sample()\n",
        "    theta_mu_x0 = prior_mu().sample()\n",
        "    theta_mu_y0 = prior_mu().sample()\n",
        "\n",
        "    for j in range (100):\n",
        "                  newdata_x,newdata_y = maximal_coupling2(theta_mu_x0,theta_tau_x0,theta_mu_y0,theta_tau_y0)\n",
        "                  datax_current.append(newdata_x)\n",
        "                  datay_current.append(newdata_y)\n",
        "    sx_0 = S(datax_current)\n",
        "    sy_0 = S(datay_current)\n",
        "\n",
        "    while K_h(np.linalg.norm(np.array(sx_0)-np.array(s_obs)),h)<=0:\n",
        "        theta_tau_x0 = prior_tau().sample()\n",
        "        theta_mu_x0 = prior_mu().sample()\n",
        "        datax_0 = single_lik(theta_mu_x0,theta_tau_x0).sample(100) \n",
        "        sx_0 = S(datax_0)\n",
        "\n",
        "\n",
        "    while K_h(np.linalg.norm(np.array(sy_0)-np.array(s_obs)),h)<=0:\n",
        "        theta_tau_y0 = prior_tau().sample()\n",
        "        theta_mu_y0 = prior_mu().sample()\n",
        "        datay_0 = single_lik(theta_mu_y0,theta_tau_y0).sample(100) \n",
        "        sy_0 = S(datay_0)\n",
        "      \n",
        "    theta_mu_x.append(theta_mu_x0)\n",
        "    theta_tau_x.append(theta_tau_x0)\n",
        "    theta_mu_y.append(theta_mu_y0)\n",
        "    theta_tau_y.append(theta_tau_y0)\n",
        "   \n",
        "    theta_muold_x = theta_mu_x0\n",
        "    theta_tauold_x = theta_tau_x0\n",
        "    theta_muold_y = theta_mu_y0\n",
        "    theta_tauold_y = theta_tau_y0\n",
        "    sx_old = sx_0\n",
        "    sy_old = sy_0\n",
        "    \n",
        "\n",
        "    for i in range(N):\n",
        "        theta_mucurrent_x,theta_mucurrent_y = maximal_coupling_mu(theta_muold_x,theta_muold_y)\n",
        "        theta_taucurrent_x,theta_taucurrent_y = maximal_coupling_tau(theta_tauold_x,theta_tauold_y)\n",
        "\n",
        "        datax_current = []\n",
        "        datay_current = []\n",
        "\n",
        "        for j in range (100):\n",
        "                  [newdata_x,newdata_y] = maximal_coupling2(theta_mucurrent_x,theta_taucurrent_x,theta_mucurrent_y,theta_taucurrent_y)\n",
        "                  datax_current.append(newdata_x)\n",
        "                  datay_current.append(newdata_y)\n",
        "\n",
        "        sx_current = S(datax_current)\n",
        "        sy_current = S(datay_current) \n",
        "               \n",
        "        xprob = min([1.,(K_h(np.linalg.norm(np.array(sx_current) - np.array(s_obs)),h)*prior_tau().prob(theta_taucurrent_x)*prior_mu().prob(theta_mucurrent_x)*proposal_tau(theta_tauold_x).prob(theta_taucurrent_x))/(\n",
        "             K_h(np.linalg.norm(np.array(sx_old)-np.array(s_obs)),h)*(prior_tau().prob(theta_tauold_x)*prior_mu().prob(theta_muold_x))*proposal_tau(theta_taucurrent_x).prob(theta_tauold_x))])\n",
        "        yprob = min([1.,(K_h(np.linalg.norm(np.array(sy_current) - np.array(s_obs)),h)*prior_tau().prob(theta_taucurrent_y)*prior_mu().prob(theta_mucurrent_y)*proposal_tau(theta_tauold_y).prob(theta_taucurrent_y))/(\n",
        "             K_h(np.linalg.norm(np.array(sy_old)-np.array(s_obs)),h)*(prior_tau().prob(theta_tauold_y)*prior_mu().prob(theta_muold_y))*proposal_tau(theta_taucurrent_y).prob(theta_tauold_y))])\n",
        "        \n",
        "        u = tfd.Uniform(0,1).sample()\n",
        "\n",
        "        if u < xprob:\n",
        "              theta_mui_x = theta_mucurrent_x\n",
        "              theta_taui_x = theta_taucurrent_x\n",
        "              s_ix = sx_current\n",
        "        else: \n",
        "              theta_mui_x = theta_muold_x\n",
        "              theta_taui_x = theta_tauold_x\n",
        "              s_ix = sx_old\n",
        "\n",
        "        if u < yprob:\n",
        "              theta_mui_y = theta_mucurrent_y\n",
        "              theta_taui_y = theta_taucurrent_y\n",
        "              s_iy = sy_current\n",
        "        else: \n",
        "              theta_mui_y = theta_muold_y\n",
        "              theta_taui_y = theta_tauold_y\n",
        "              s_iy = sy_old\n",
        "              \n",
        "\n",
        "        theta_muold_x = theta_mui_x\n",
        "        theta_tauold_x = theta_taui_x\n",
        "        sx_old = s_ix\n",
        "\n",
        "        theta_muold_y = theta_mui_y\n",
        "        theta_tauold_y = theta_taui_y\n",
        "        sy_old = s_iy\n",
        "        \n",
        "        theta_mu_x.append(theta_mui_x)\n",
        "        theta_tau_x.append(theta_taui_x)\n",
        "        theta_mu_y.append(theta_mui_y)\n",
        "        theta_tau_y.append(theta_taui_y)\n",
        "        \n",
        "        \n",
        "    return  theta_mu_x, theta_mu_y, theta_tau_x, theta_tau_y"
      ],
      "id": "08d5186c-a5b1-454f-a356-aeef3b2b17ef",
      "execution_count": 68,
      "outputs": []
    },
    {
      "cell_type": "markdown",
      "source": [
        "testiamo con le seguenti variabili:"
      ],
      "metadata": {
        "id": "3-5tUImBf2d4"
      },
      "id": "3-5tUImBf2d4"
    },
    {
      "cell_type": "code",
      "source": [
        "##VARIABILI:\n",
        "c = 1\n",
        "d = 1\n",
        "mu0 = 34\n",
        "tau0 = 0.3\n",
        "k = 5\n",
        "n = 100\n",
        "mu_obs = 30\n",
        "tau_obs = 0.5\n",
        "y_obs = tfp.distributions.Normal(mu_obs,np.sqrt(1/tau_obs)).sample(100)"
      ],
      "metadata": {
        "id": "hqEynA9h84fo"
      },
      "id": "hqEynA9h84fo",
      "execution_count": 73,
      "outputs": []
    },
    {
      "cell_type": "code",
      "source": [
        "provamux, provamuy, provataux, provatauy = abc_algo (1000, S2, y_obs, 0.2)   "
      ],
      "metadata": {
        "id": "JhRGickt2QNl",
        "colab": {
          "base_uri": "https://localhost:8080/",
          "height": 433
        },
        "outputId": "99a39c0c-9e39-4fdd-876e-1543a2ec8537"
      },
      "id": "JhRGickt2QNl",
      "execution_count": 77,
      "outputs": [
        {
          "output_type": "stream",
          "name": "stdout",
          "text": [
            "28.176176\n"
          ]
        },
        {
          "output_type": "error",
          "ename": "ValueError",
          "evalue": "ignored",
          "traceback": [
            "\u001b[0;31m---------------------------------------------------------------------------\u001b[0m",
            "\u001b[0;31mTypeError\u001b[0m                                 Traceback (most recent call last)",
            "\u001b[0;31mTypeError\u001b[0m: float() argument must be a string or a number, not 'Gamma'",
            "\nThe above exception was the direct cause of the following exception:\n",
            "\u001b[0;31mValueError\u001b[0m                                Traceback (most recent call last)",
            "\u001b[0;32m<ipython-input-77-71f26c7fdbe8>\u001b[0m in \u001b[0;36m<module>\u001b[0;34m()\u001b[0m\n\u001b[0;32m----> 1\u001b[0;31m \u001b[0mprovamux\u001b[0m\u001b[0;34m,\u001b[0m \u001b[0mprovamuy\u001b[0m\u001b[0;34m,\u001b[0m \u001b[0mprovataux\u001b[0m\u001b[0;34m,\u001b[0m \u001b[0mprovatauy\u001b[0m \u001b[0;34m=\u001b[0m \u001b[0mabc_algo\u001b[0m \u001b[0;34m(\u001b[0m\u001b[0;36m1000\u001b[0m\u001b[0;34m,\u001b[0m \u001b[0mS2\u001b[0m\u001b[0;34m,\u001b[0m \u001b[0my_obs\u001b[0m\u001b[0;34m,\u001b[0m \u001b[0;36m0.2\u001b[0m\u001b[0;34m)\u001b[0m\u001b[0;34m\u001b[0m\u001b[0;34m\u001b[0m\u001b[0m\n\u001b[0m",
            "\u001b[0;32m<ipython-input-68-8dfb6eda67c1>\u001b[0m in \u001b[0;36mabc_algo\u001b[0;34m(N, S, y_obs, h)\u001b[0m\n\u001b[1;32m     47\u001b[0m     \u001b[0;32mfor\u001b[0m \u001b[0mi\u001b[0m \u001b[0;32min\u001b[0m \u001b[0mrange\u001b[0m\u001b[0;34m(\u001b[0m\u001b[0mN\u001b[0m\u001b[0;34m)\u001b[0m\u001b[0;34m:\u001b[0m\u001b[0;34m\u001b[0m\u001b[0;34m\u001b[0m\u001b[0m\n\u001b[1;32m     48\u001b[0m         \u001b[0mtheta_mucurrent_x\u001b[0m\u001b[0;34m,\u001b[0m\u001b[0mtheta_mucurrent_y\u001b[0m \u001b[0;34m=\u001b[0m \u001b[0mmaximal_coupling_mu\u001b[0m\u001b[0;34m(\u001b[0m\u001b[0mtheta_muold_x\u001b[0m\u001b[0;34m,\u001b[0m\u001b[0mtheta_muold_y\u001b[0m\u001b[0;34m)\u001b[0m\u001b[0;34m\u001b[0m\u001b[0;34m\u001b[0m\u001b[0m\n\u001b[0;32m---> 49\u001b[0;31m         \u001b[0mtheta_taucurrent_x\u001b[0m\u001b[0;34m,\u001b[0m\u001b[0mtheta_taucurrent_y\u001b[0m \u001b[0;34m=\u001b[0m \u001b[0mmaximal_coupling_tau\u001b[0m\u001b[0;34m(\u001b[0m\u001b[0mtheta_tauold_x\u001b[0m\u001b[0;34m,\u001b[0m\u001b[0mtheta_tauold_y\u001b[0m\u001b[0;34m)\u001b[0m\u001b[0;34m\u001b[0m\u001b[0;34m\u001b[0m\u001b[0m\n\u001b[0m\u001b[1;32m     50\u001b[0m \u001b[0;34m\u001b[0m\u001b[0m\n\u001b[1;32m     51\u001b[0m         \u001b[0mdatax_current\u001b[0m \u001b[0;34m=\u001b[0m \u001b[0;34m[\u001b[0m\u001b[0;34m]\u001b[0m\u001b[0;34m\u001b[0m\u001b[0;34m\u001b[0m\u001b[0m\n",
            "\u001b[0;32m<ipython-input-72-721545e274b3>\u001b[0m in \u001b[0;36mmaximal_coupling_tau\u001b[0;34m(x, y)\u001b[0m\n\u001b[1;32m      4\u001b[0m       \u001b[0mcurrent_y\u001b[0m \u001b[0;34m=\u001b[0m \u001b[0my\u001b[0m\u001b[0;34m\u001b[0m\u001b[0;34m\u001b[0m\u001b[0m\n\u001b[1;32m      5\u001b[0m       \u001b[0mproposed_x\u001b[0m \u001b[0;34m=\u001b[0m \u001b[0mproposal_tau\u001b[0m\u001b[0;34m(\u001b[0m\u001b[0mcurrent_x\u001b[0m\u001b[0;34m)\u001b[0m\u001b[0;34m\u001b[0m\u001b[0;34m\u001b[0m\u001b[0m\n\u001b[0;32m----> 6\u001b[0;31m       \u001b[0mpX\u001b[0m \u001b[0;34m=\u001b[0m \u001b[0mproposal_tau\u001b[0m\u001b[0;34m(\u001b[0m\u001b[0mcurrent_x\u001b[0m\u001b[0;34m)\u001b[0m\u001b[0;34m.\u001b[0m\u001b[0mprob\u001b[0m\u001b[0;34m(\u001b[0m\u001b[0mproposed_x\u001b[0m\u001b[0;34m)\u001b[0m\u001b[0;34m\u001b[0m\u001b[0;34m\u001b[0m\u001b[0m\n\u001b[0m\u001b[1;32m      7\u001b[0m       \u001b[0mw\u001b[0m \u001b[0;34m=\u001b[0m \u001b[0mtfd\u001b[0m\u001b[0;34m.\u001b[0m\u001b[0mUniform\u001b[0m\u001b[0;34m(\u001b[0m\u001b[0;36m0\u001b[0m\u001b[0;34m,\u001b[0m\u001b[0;36m1\u001b[0m\u001b[0;34m)\u001b[0m\u001b[0;34m.\u001b[0m\u001b[0msample\u001b[0m\u001b[0;34m(\u001b[0m\u001b[0;34m)\u001b[0m\u001b[0;34m*\u001b[0m\u001b[0mpX\u001b[0m\u001b[0;34m\u001b[0m\u001b[0;34m\u001b[0m\u001b[0m\n\u001b[1;32m      8\u001b[0m       \u001b[0mqX\u001b[0m \u001b[0;34m=\u001b[0m \u001b[0mproposal_tau\u001b[0m\u001b[0;34m(\u001b[0m\u001b[0mcurrent_y\u001b[0m\u001b[0;34m)\u001b[0m\u001b[0;34m.\u001b[0m\u001b[0mprob\u001b[0m\u001b[0;34m(\u001b[0m\u001b[0mproposed_x\u001b[0m\u001b[0;34m)\u001b[0m\u001b[0;34m\u001b[0m\u001b[0;34m\u001b[0m\u001b[0m\n",
            "\u001b[0;32m/usr/local/lib/python3.7/dist-packages/tensorflow_probability/substrates/numpy/distributions/distribution.py\u001b[0m in \u001b[0;36mprob\u001b[0;34m(self, value, name, **kwargs)\u001b[0m\n\u001b[1;32m   1342\u001b[0m         \u001b[0mvalues\u001b[0m \u001b[0mof\u001b[0m \u001b[0mtype\u001b[0m\u001b[0;31m \u001b[0m\u001b[0;31m`\u001b[0m\u001b[0mself\u001b[0m\u001b[0;34m.\u001b[0m\u001b[0mdtype\u001b[0m\u001b[0;31m`\u001b[0m\u001b[0;34m.\u001b[0m\u001b[0;34m\u001b[0m\u001b[0;34m\u001b[0m\u001b[0m\n\u001b[1;32m   1343\u001b[0m     \"\"\"\n\u001b[0;32m-> 1344\u001b[0;31m     \u001b[0;32mreturn\u001b[0m \u001b[0mself\u001b[0m\u001b[0;34m.\u001b[0m\u001b[0m_call_prob\u001b[0m\u001b[0;34m(\u001b[0m\u001b[0mvalue\u001b[0m\u001b[0;34m,\u001b[0m \u001b[0mname\u001b[0m\u001b[0;34m,\u001b[0m \u001b[0;34m**\u001b[0m\u001b[0mkwargs\u001b[0m\u001b[0;34m)\u001b[0m\u001b[0;34m\u001b[0m\u001b[0;34m\u001b[0m\u001b[0m\n\u001b[0m\u001b[1;32m   1345\u001b[0m \u001b[0;34m\u001b[0m\u001b[0m\n\u001b[1;32m   1346\u001b[0m   \u001b[0;32mdef\u001b[0m \u001b[0m_call_unnormalized_log_prob\u001b[0m\u001b[0;34m(\u001b[0m\u001b[0mself\u001b[0m\u001b[0;34m,\u001b[0m \u001b[0mvalue\u001b[0m\u001b[0;34m,\u001b[0m \u001b[0mname\u001b[0m\u001b[0;34m,\u001b[0m \u001b[0;34m**\u001b[0m\u001b[0mkwargs\u001b[0m\u001b[0;34m)\u001b[0m\u001b[0;34m:\u001b[0m\u001b[0;34m\u001b[0m\u001b[0;34m\u001b[0m\u001b[0m\n",
            "\u001b[0;32m/usr/local/lib/python3.7/dist-packages/tensorflow_probability/substrates/numpy/distributions/distribution.py\u001b[0m in \u001b[0;36m_call_prob\u001b[0;34m(self, value, name, **kwargs)\u001b[0m\n\u001b[1;32m   1321\u001b[0m     value = nest_util.convert_to_nested_tensor(\n\u001b[1;32m   1322\u001b[0m         \u001b[0mvalue\u001b[0m\u001b[0;34m,\u001b[0m \u001b[0mname\u001b[0m\u001b[0;34m=\u001b[0m\u001b[0;34m'value'\u001b[0m\u001b[0;34m,\u001b[0m \u001b[0mdtype_hint\u001b[0m\u001b[0;34m=\u001b[0m\u001b[0mself\u001b[0m\u001b[0;34m.\u001b[0m\u001b[0mdtype\u001b[0m\u001b[0;34m,\u001b[0m\u001b[0;34m\u001b[0m\u001b[0;34m\u001b[0m\u001b[0m\n\u001b[0;32m-> 1323\u001b[0;31m         allow_packing=True)\n\u001b[0m\u001b[1;32m   1324\u001b[0m     \u001b[0;32mwith\u001b[0m \u001b[0mself\u001b[0m\u001b[0;34m.\u001b[0m\u001b[0m_name_and_control_scope\u001b[0m\u001b[0;34m(\u001b[0m\u001b[0mname\u001b[0m\u001b[0;34m,\u001b[0m \u001b[0mvalue\u001b[0m\u001b[0;34m,\u001b[0m \u001b[0mkwargs\u001b[0m\u001b[0;34m)\u001b[0m\u001b[0;34m:\u001b[0m\u001b[0;34m\u001b[0m\u001b[0;34m\u001b[0m\u001b[0m\n\u001b[1;32m   1325\u001b[0m       \u001b[0;32mif\u001b[0m \u001b[0mhasattr\u001b[0m\u001b[0;34m(\u001b[0m\u001b[0mself\u001b[0m\u001b[0;34m,\u001b[0m \u001b[0;34m'_prob'\u001b[0m\u001b[0;34m)\u001b[0m\u001b[0;34m:\u001b[0m\u001b[0;34m\u001b[0m\u001b[0;34m\u001b[0m\u001b[0m\n",
            "\u001b[0;32m/usr/local/lib/python3.7/dist-packages/tensorflow_probability/substrates/numpy/internal/nest_util.py\u001b[0m in \u001b[0;36mconvert_to_nested_tensor\u001b[0;34m(value, dtype, dtype_hint, allow_packing, as_shape_tensor, name)\u001b[0m\n\u001b[1;32m    346\u001b[0m   \u001b[0;31m# For unstructured calls, just use the provided name.\u001b[0m\u001b[0;34m\u001b[0m\u001b[0;34m\u001b[0m\u001b[0;34m\u001b[0m\u001b[0m\n\u001b[1;32m    347\u001b[0m   \u001b[0;32mif\u001b[0m \u001b[0;32mnot\u001b[0m \u001b[0mnest\u001b[0m\u001b[0;34m.\u001b[0m\u001b[0mis_nested\u001b[0m\u001b[0;34m(\u001b[0m\u001b[0mdtype\u001b[0m\u001b[0;34m)\u001b[0m\u001b[0;34m:\u001b[0m\u001b[0;34m\u001b[0m\u001b[0;34m\u001b[0m\u001b[0m\n\u001b[0;32m--> 348\u001b[0;31m     \u001b[0;32mreturn\u001b[0m \u001b[0mconvert_fn\u001b[0m\u001b[0;34m(\u001b[0m\u001b[0;34m(\u001b[0m\u001b[0;34m)\u001b[0m\u001b[0;34m,\u001b[0m \u001b[0mvalue\u001b[0m\u001b[0;34m,\u001b[0m \u001b[0mdtype\u001b[0m\u001b[0;34m,\u001b[0m \u001b[0mdtype_hint\u001b[0m\u001b[0;34m,\u001b[0m \u001b[0mname\u001b[0m\u001b[0;34m=\u001b[0m\u001b[0mname\u001b[0m\u001b[0;34m)\u001b[0m\u001b[0;34m\u001b[0m\u001b[0;34m\u001b[0m\u001b[0m\n\u001b[0m\u001b[1;32m    349\u001b[0m   \u001b[0;31m# For structured calls where name is provided, include a scope and name\u001b[0m\u001b[0;34m\u001b[0m\u001b[0;34m\u001b[0m\u001b[0;34m\u001b[0m\u001b[0m\n\u001b[1;32m    350\u001b[0m   \u001b[0;31m# members according to \"{path}.{to}.{element}\".\u001b[0m\u001b[0;34m\u001b[0m\u001b[0;34m\u001b[0m\u001b[0;34m\u001b[0m\u001b[0m\n",
            "\u001b[0;32m/usr/local/lib/python3.7/dist-packages/tensorflow_probability/substrates/numpy/internal/nest_util.py\u001b[0m in \u001b[0;36mconvert_fn\u001b[0;34m(path, value, dtype, dtype_hint, name)\u001b[0m\n\u001b[1;32m    341\u001b[0m       \u001b[0;32mreturn\u001b[0m \u001b[0mps\u001b[0m\u001b[0;34m.\u001b[0m\u001b[0mconvert_to_shape_tensor\u001b[0m\u001b[0;34m(\u001b[0m\u001b[0mvalue\u001b[0m\u001b[0;34m,\u001b[0m \u001b[0mdtype\u001b[0m\u001b[0;34m,\u001b[0m \u001b[0mdtype_hint\u001b[0m\u001b[0;34m,\u001b[0m \u001b[0mname\u001b[0m\u001b[0;34m=\u001b[0m\u001b[0mname\u001b[0m\u001b[0;34m)\u001b[0m\u001b[0;34m\u001b[0m\u001b[0;34m\u001b[0m\u001b[0m\n\u001b[1;32m    342\u001b[0m     \u001b[0;32melse\u001b[0m\u001b[0;34m:\u001b[0m\u001b[0;34m\u001b[0m\u001b[0;34m\u001b[0m\u001b[0m\n\u001b[0;32m--> 343\u001b[0;31m       \u001b[0;32mreturn\u001b[0m \u001b[0mtf\u001b[0m\u001b[0;34m.\u001b[0m\u001b[0mconvert_to_tensor\u001b[0m\u001b[0;34m(\u001b[0m\u001b[0mvalue\u001b[0m\u001b[0;34m,\u001b[0m \u001b[0mdtype\u001b[0m\u001b[0;34m,\u001b[0m \u001b[0mdtype_hint\u001b[0m\u001b[0;34m,\u001b[0m \u001b[0mname\u001b[0m\u001b[0;34m=\u001b[0m\u001b[0mname\u001b[0m\u001b[0;34m)\u001b[0m\u001b[0;34m\u001b[0m\u001b[0;34m\u001b[0m\u001b[0m\n\u001b[0m\u001b[1;32m    344\u001b[0m \u001b[0;34m\u001b[0m\u001b[0m\n\u001b[1;32m    345\u001b[0m   \u001b[0;31m### The following branches only affect naming.\u001b[0m\u001b[0;34m\u001b[0m\u001b[0;34m\u001b[0m\u001b[0;34m\u001b[0m\u001b[0m\n",
            "\u001b[0;32m/usr/local/lib/python3.7/dist-packages/tensorflow_probability/python/internal/backend/numpy/_utils.py\u001b[0m in \u001b[0;36mwrap\u001b[0;34m(***failed resolving arguments***)\u001b[0m\n\u001b[1;32m     60\u001b[0m   \u001b[0;32mdef\u001b[0m \u001b[0mwrap\u001b[0m\u001b[0;34m(\u001b[0m\u001b[0mwrapped\u001b[0m\u001b[0;34m,\u001b[0m \u001b[0minstance\u001b[0m\u001b[0;34m,\u001b[0m \u001b[0margs\u001b[0m\u001b[0;34m,\u001b[0m \u001b[0mkwargs\u001b[0m\u001b[0;34m)\u001b[0m\u001b[0;34m:\u001b[0m\u001b[0;34m\u001b[0m\u001b[0;34m\u001b[0m\u001b[0m\n\u001b[1;32m     61\u001b[0m     \u001b[0;32mdel\u001b[0m \u001b[0minstance\u001b[0m\u001b[0;34m,\u001b[0m \u001b[0mwrapped\u001b[0m\u001b[0;34m\u001b[0m\u001b[0;34m\u001b[0m\u001b[0m\n\u001b[0;32m---> 62\u001b[0;31m     \u001b[0;32mreturn\u001b[0m \u001b[0mnew_fn\u001b[0m\u001b[0;34m(\u001b[0m\u001b[0;34m*\u001b[0m\u001b[0margs\u001b[0m\u001b[0;34m,\u001b[0m \u001b[0;34m**\u001b[0m\u001b[0mkwargs\u001b[0m\u001b[0;34m)\u001b[0m\u001b[0;34m\u001b[0m\u001b[0;34m\u001b[0m\u001b[0m\n\u001b[0m\u001b[1;32m     63\u001b[0m   \u001b[0;32mreturn\u001b[0m \u001b[0mwrap\u001b[0m\u001b[0;34m(\u001b[0m\u001b[0moriginal_fn\u001b[0m\u001b[0;34m)\u001b[0m  \u001b[0;31m# pylint: disable=no-value-for-parameter\u001b[0m\u001b[0;34m\u001b[0m\u001b[0;34m\u001b[0m\u001b[0m\n\u001b[1;32m     64\u001b[0m \u001b[0;34m\u001b[0m\u001b[0m\n",
            "\u001b[0;32m/usr/local/lib/python3.7/dist-packages/tensorflow_probability/python/internal/backend/numpy/ops.py\u001b[0m in \u001b[0;36m_convert_to_tensor\u001b[0;34m(value, dtype, dtype_hint, name)\u001b[0m\n\u001b[1;32m    161\u001b[0m \u001b[0;34m\u001b[0m\u001b[0m\n\u001b[1;32m    162\u001b[0m   \u001b[0;32mif\u001b[0m \u001b[0mret\u001b[0m \u001b[0;32mis\u001b[0m \u001b[0;32mNone\u001b[0m\u001b[0;34m:\u001b[0m\u001b[0;34m\u001b[0m\u001b[0;34m\u001b[0m\u001b[0m\n\u001b[0;32m--> 163\u001b[0;31m     \u001b[0mret\u001b[0m \u001b[0;34m=\u001b[0m \u001b[0mconversion_func\u001b[0m\u001b[0;34m(\u001b[0m\u001b[0mvalue\u001b[0m\u001b[0;34m,\u001b[0m \u001b[0mdtype\u001b[0m\u001b[0;34m=\u001b[0m\u001b[0mdtype\u001b[0m\u001b[0;34m)\u001b[0m\u001b[0;34m\u001b[0m\u001b[0;34m\u001b[0m\u001b[0m\n\u001b[0m\u001b[1;32m    164\u001b[0m   \u001b[0;32mreturn\u001b[0m \u001b[0mret\u001b[0m\u001b[0;34m\u001b[0m\u001b[0;34m\u001b[0m\u001b[0m\n\u001b[1;32m    165\u001b[0m \u001b[0;34m\u001b[0m\u001b[0m\n",
            "\u001b[0;32m/usr/local/lib/python3.7/dist-packages/tensorflow_probability/python/internal/backend/numpy/ops.py\u001b[0m in \u001b[0;36m_default_convert_to_tensor\u001b[0;34m(value, dtype)\u001b[0m\n\u001b[1;32m    225\u001b[0m   \u001b[0;31m# float32 depending on the type of conversion error we see.\u001b[0m\u001b[0;34m\u001b[0m\u001b[0;34m\u001b[0m\u001b[0;34m\u001b[0m\u001b[0m\n\u001b[1;32m    226\u001b[0m   \u001b[0;32mtry\u001b[0m\u001b[0;34m:\u001b[0m\u001b[0;34m\u001b[0m\u001b[0;34m\u001b[0m\u001b[0m\n\u001b[0;32m--> 227\u001b[0;31m     \u001b[0;32mreturn\u001b[0m \u001b[0m_default_convert_to_tensor_with_dtype\u001b[0m\u001b[0;34m(\u001b[0m\u001b[0mvalue\u001b[0m\u001b[0;34m,\u001b[0m \u001b[0minferred_dtype\u001b[0m\u001b[0;34m)\u001b[0m\u001b[0;34m\u001b[0m\u001b[0;34m\u001b[0m\u001b[0m\n\u001b[0m\u001b[1;32m    228\u001b[0m   \u001b[0;32mexcept\u001b[0m \u001b[0m_Int64ToInt32Error\u001b[0m \u001b[0;32mas\u001b[0m \u001b[0me\u001b[0m\u001b[0;34m:\u001b[0m\u001b[0;34m\u001b[0m\u001b[0;34m\u001b[0m\u001b[0m\n\u001b[1;32m    229\u001b[0m     \u001b[0;32mreturn\u001b[0m \u001b[0mnp\u001b[0m\u001b[0;34m.\u001b[0m\u001b[0marray\u001b[0m\u001b[0;34m(\u001b[0m\u001b[0mvalue\u001b[0m\u001b[0;34m,\u001b[0m \u001b[0mdtype\u001b[0m\u001b[0;34m=\u001b[0m\u001b[0mnp\u001b[0m\u001b[0;34m.\u001b[0m\u001b[0mint64\u001b[0m\u001b[0;34m)\u001b[0m\u001b[0;34m\u001b[0m\u001b[0;34m\u001b[0m\u001b[0m\n",
            "\u001b[0;32m/usr/local/lib/python3.7/dist-packages/tensorflow_probability/python/internal/backend/numpy/ops.py\u001b[0m in \u001b[0;36m_default_convert_to_tensor_with_dtype\u001b[0;34m(value, dtype, error_if_mismatch)\u001b[0m\n\u001b[1;32m    271\u001b[0m     \u001b[0;32mif\u001b[0m \u001b[0mdtype\u001b[0m \u001b[0;32mis\u001b[0m \u001b[0;32mnot\u001b[0m \u001b[0;32mNone\u001b[0m\u001b[0;34m:\u001b[0m\u001b[0;34m\u001b[0m\u001b[0;34m\u001b[0m\u001b[0m\n\u001b[1;32m    272\u001b[0m       \u001b[0;31m# arr.astype(None) forces conversion to float64\u001b[0m\u001b[0;34m\u001b[0m\u001b[0;34m\u001b[0m\u001b[0;34m\u001b[0m\u001b[0m\n\u001b[0;32m--> 273\u001b[0;31m       \u001b[0;32mreturn\u001b[0m \u001b[0marr\u001b[0m\u001b[0;34m.\u001b[0m\u001b[0mastype\u001b[0m\u001b[0;34m(\u001b[0m\u001b[0mdtype\u001b[0m\u001b[0;34m)\u001b[0m\u001b[0;34m\u001b[0m\u001b[0;34m\u001b[0m\u001b[0m\n\u001b[0m\u001b[1;32m    274\u001b[0m     \u001b[0;32mreturn\u001b[0m \u001b[0marr\u001b[0m\u001b[0;34m\u001b[0m\u001b[0;34m\u001b[0m\u001b[0m\n\u001b[1;32m    275\u001b[0m   \u001b[0;32melif\u001b[0m \u001b[0misinstance\u001b[0m\u001b[0;34m(\u001b[0m\u001b[0mvalue\u001b[0m\u001b[0;34m,\u001b[0m \u001b[0mcomplex\u001b[0m\u001b[0;34m)\u001b[0m\u001b[0;34m:\u001b[0m\u001b[0;34m\u001b[0m\u001b[0;34m\u001b[0m\u001b[0m\n",
            "\u001b[0;31mValueError\u001b[0m: setting an array element with a sequence."
          ]
        }
      ]
    },
    {
      "cell_type": "code",
      "source": [
        "plt.hist(provamux[100:])"
      ],
      "metadata": {
        "id": "Le_Uq4b5gK0Z"
      },
      "id": "Le_Uq4b5gK0Z",
      "execution_count": null,
      "outputs": []
    },
    {
      "cell_type": "code",
      "source": [
        "plt.hist(provatau[100:])"
      ],
      "metadata": {
        "id": "G8iFF2HmNJ-D"
      },
      "id": "G8iFF2HmNJ-D",
      "execution_count": null,
      "outputs": []
    },
    {
      "cell_type": "code",
      "source": [
        "np.mean(provamu[100:])"
      ],
      "metadata": {
        "id": "aQLXbXBzpabA"
      },
      "id": "aQLXbXBzpabA",
      "execution_count": null,
      "outputs": []
    },
    {
      "cell_type": "code",
      "source": [
        "np.mean(provatau[100:])"
      ],
      "metadata": {
        "id": "PQiZUu0BM4Dt"
      },
      "id": "PQiZUu0BM4Dt",
      "execution_count": null,
      "outputs": []
    },
    {
      "cell_type": "markdown",
      "source": [
        "controlliamo il risultato plottando la posterior corretta"
      ],
      "metadata": {
        "id": "31KPkK-Of_5x"
      },
      "id": "31KPkK-Of_5x"
    }
  ]
}