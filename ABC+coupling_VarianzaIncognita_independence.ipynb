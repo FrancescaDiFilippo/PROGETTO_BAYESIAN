{
  "nbformat": 4,
  "nbformat_minor": 5,
  "metadata": {
    "kernelspec": {
      "display_name": "Python 3 (ipykernel)",
      "language": "python",
      "name": "python3"
    },
    "language_info": {
      "codemirror_mode": {
        "name": "ipython",
        "version": 3
      },
      "file_extension": ".py",
      "mimetype": "text/x-python",
      "name": "python",
      "nbconvert_exporter": "python",
      "pygments_lexer": "ipython3",
      "version": "3.9.7"
    },
    "colab": {
      "name": "ABC+coupling_VarianzaIncognita_independence.ipynb",
      "provenance": [],
      "collapsed_sections": []
    }
  },
  "cells": [
    {
      "cell_type": "code",
      "metadata": {
        "id": "ea31ed18-18f6-41bf-820c-8b9ab3a6eb7b"
      },
      "source": [
        "import numpy as np\n",
        "import matplotlib.pyplot as plt\n",
        "import seaborn as sns\n",
        "import pandas as pd\n",
        "import scipy.stats as sstat\n",
        "from mpmath import mp\n",
        "import math\n",
        "import random\n",
        "from scipy.stats import multivariate_normal\n",
        "\n",
        "psd = pd.DataFrame\n",
        "from tensorflow_probability.substrates import numpy as tfp\n",
        "tfd = tfp.distributions"
      ],
      "id": "ea31ed18-18f6-41bf-820c-8b9ab3a6eb7b",
      "execution_count": 42,
      "outputs": []
    },
    {
      "cell_type": "markdown",
      "source": [
        "Generiamo 1000 sample da una normale:\n",
        "\n",
        "\\begin{equation*}\n",
        "\\begin{aligned}\n",
        "    y_{obs} &\\sim \\mathcal{N}(\\mu_{obs}, σ_{obs} ^2) \\\\\n",
        "\\end{aligned}\n",
        "\\end{equation*}\n",
        "\n",
        "e scegliamo come modello:\n",
        "\n",
        "\\begin{equation*}\n",
        "\\begin{aligned}\n",
        "    y_i | \\mu &\\sim ^{iid} \\mathcal{N}(\\mu, \\sigma_{obs} ^2)  \\\\\n",
        "    \\mu & \\sim \\mathcal{N}(\\mu_0, \\sigma_0^2)\n",
        "\\end{aligned}\n",
        "\\end{equation*}\n",
        "\n",
        "$\\sigma_{obs}$ noto\n",
        "\n",
        "$\\mu_0, \\sigma_0$ fissati"
      ],
      "metadata": {
        "id": "tkZvVSYObRBv"
      },
      "id": "tkZvVSYObRBv"
    },
    {
      "cell_type": "markdown",
      "source": [
        "$\\mathscr{L}(y_i|\\mu)$:"
      ],
      "metadata": {
        "id": "I8CxF5fEdrKe"
      },
      "id": "I8CxF5fEdrKe"
    },
    {
      "cell_type": "code",
      "metadata": {
        "id": "TTSAOsuISlBL"
      },
      "source": [
        "def single_lik(mu,tau):\n",
        "   return tfd.Normal(mu,np.sqrt(1/tau))"
      ],
      "id": "TTSAOsuISlBL",
      "execution_count": 43,
      "outputs": []
    },
    {
      "cell_type": "markdown",
      "source": [
        "# $\\pi(\\mu)$:"
      ],
      "metadata": {
        "id": "GPNG3rfGeI9H"
      },
      "id": "GPNG3rfGeI9H"
    },
    {
      "cell_type": "code",
      "source": [
        "def prior_mu():\n",
        "    return tfd.Normal(mu0,1/tau0)"
      ],
      "metadata": {
        "id": "xkExXqz-rVjc"
      },
      "id": "xkExXqz-rVjc",
      "execution_count": 44,
      "outputs": []
    },
    {
      "cell_type": "code",
      "source": [
        "def prior_tau():\n",
        "    return tfd.Gamma(c,d)"
      ],
      "metadata": {
        "id": "9uVMhINVru2p"
      },
      "id": "9uVMhINVru2p",
      "execution_count": 45,
      "outputs": []
    },
    {
      "cell_type": "markdown",
      "source": [
        "proposal distribution $g(\\theta'|\\theta)$= $N(\\theta, 1)$"
      ],
      "metadata": {
        "id": "7WJZCt2MeXaX"
      },
      "id": "7WJZCt2MeXaX"
    },
    {
      "cell_type": "code",
      "source": [
        "def proposal_mu(mu):\n",
        "  return tfd.Normal(mu,1)"
      ],
      "metadata": {
        "id": "KvO2e-f8MGuh"
      },
      "id": "KvO2e-f8MGuh",
      "execution_count": 46,
      "outputs": []
    },
    {
      "cell_type": "code",
      "source": [
        "def proposal_tau(tau):\n",
        "  return tfd.Gamma(tau*6,6)"
      ],
      "metadata": {
        "id": "losm8Q2lMNOI"
      },
      "id": "losm8Q2lMNOI",
      "execution_count": 47,
      "outputs": []
    },
    {
      "cell_type": "markdown",
      "source": [
        "definiamo la funzione Kernel Gaussiana"
      ],
      "metadata": {
        "id": "Qxg0rrR5fVse"
      },
      "id": "Qxg0rrR5fVse"
    },
    {
      "cell_type": "code",
      "metadata": {
        "id": "q7BAYb1rZ24M"
      },
      "source": [
        "def my_kernel(u):\n",
        "  return 1/(np.sqrt(2*math.pi))*np.exp(-1/2*u**2)"
      ],
      "id": "q7BAYb1rZ24M",
      "execution_count": 48,
      "outputs": []
    },
    {
      "cell_type": "code",
      "metadata": {
        "id": "wFEIc1dEa6Al"
      },
      "source": [
        "def K_h(u,h):\n",
        "  return my_kernel(u/h)/h"
      ],
      "id": "wFEIc1dEa6Al",
      "execution_count": 49,
      "outputs": []
    },
    {
      "cell_type": "markdown",
      "source": [
        "Come summary statistics utilizziamo:\n",
        "\n",
        "\n",
        "*   Quantili\n",
        "*   Media campionaria\n",
        "\n"
      ],
      "metadata": {
        "id": "HIXl408VfcgR"
      },
      "id": "HIXl408VfcgR"
    },
    {
      "cell_type": "code",
      "metadata": {
        "id": "2NUHjqBFfA8J"
      },
      "source": [
        "def S2(y):\n",
        "  quantiles=[]\n",
        "  for i in range(9):\n",
        "      quantiles.append(np.quantile(y,0.1+0.1*i))         #quantili 0,1 0,2 0,3 0,4 0,5 0,6 0,7 0,8 0,9\n",
        "  return quantiles"
      ],
      "id": "2NUHjqBFfA8J",
      "execution_count": 50,
      "outputs": []
    },
    {
      "cell_type": "code",
      "source": [
        "def S1(y):\n",
        "  s_1 = np.mean(y)\n",
        "  s_2 = np.var(y)\n",
        "  return [s_1,s_2]"
      ],
      "metadata": {
        "id": "bdJNO64L_cLP"
      },
      "id": "bdJNO64L_cLP",
      "execution_count": 51,
      "outputs": []
    },
    {
      "cell_type": "code",
      "source": [
        "##MAXIMAL COUPLING FOR DATASET GENERATION\n",
        "def maximal_coupling2(mu_x,tau_x,mu_y,tau_y):\n",
        "\n",
        "      proposed_x = single_lik(mu_x,tau_x).sample()\n",
        "      pX =  single_lik(mu_x,tau_x).prob(proposed_x)\n",
        "      w = tfd.Uniform(0,1).sample()*pX\n",
        "      qX = single_lik(mu_y,tau_y).prob(proposed_x)\n",
        "      if w < qX:\n",
        "          x_new = proposed_x\n",
        "          y_new = proposed_x\n",
        "      else:\n",
        "          t = True\n",
        "          while t == True:\n",
        "                proposed_y = single_lik(mu_y,tau_y).sample()\n",
        "                qY =  single_lik(mu_y,tau_y).prob(proposed_y) \n",
        "                w =  tfd.Uniform(0,1).sample()*qY\n",
        "                pY = single_lik(mu_x,tau_x).prob(proposed_y)\n",
        "                if w > pY :\n",
        "                  t = False\n",
        "\n",
        "          x_new = proposed_x\n",
        "          y_new = proposed_y  \n",
        "          \n",
        "      return x_new,y_new"
      ],
      "metadata": {
        "id": "jVuuWN0iZce9"
      },
      "id": "jVuuWN0iZce9",
      "execution_count": 52,
      "outputs": []
    },
    {
      "cell_type": "code",
      "source": [
        "##MAXIMAL COUPLING OF MU\n",
        "def maximal_coupling_mu(x,y):\n",
        "\n",
        "      current_x = x\n",
        "      current_y = y  \n",
        "      proposed_x = current_x + tfd.Normal(0,1).sample()\n",
        "      pX = sstat.norm.pdf(proposed_x,current_x,1)\n",
        "      w = tfd.Uniform(0,1).sample()*pX\n",
        "      qX = sstat.norm.pdf(proposed_x,current_y,1)\n",
        "      if w < qX:\n",
        "          x_new = proposed_x\n",
        "          y_new = proposed_x\n",
        "      else:\n",
        "          t = True\n",
        "          while t == True:\n",
        "                proposed_y = current_y + tfd.Normal(0,1).sample()\n",
        "                qY =  sstat.norm.pdf(proposed_y,current_y,1) \n",
        "                w =  tfd.Uniform(0,1).sample()*qY\n",
        "                pY = sstat.norm.pdf(proposed_y,current_x,1)\n",
        "                if w > pY :\n",
        "                  t = False\n",
        "\n",
        "          x_new = proposed_x\n",
        "          y_new = proposed_y\n",
        "\n",
        "      return x_new, y_new"
      ],
      "metadata": {
        "id": "60PPkbJXYQ4k"
      },
      "id": "60PPkbJXYQ4k",
      "execution_count": 53,
      "outputs": []
    },
    {
      "cell_type": "code",
      "source": [
        "##MAXIMAL COUPLING OF TAU\n",
        "def maximal_coupling_tau(x,y):\n",
        "      \n",
        "      current_x = x\n",
        "      current_y = y  \n",
        "      proposed_x = proposal_tau(current_x).sample()\n",
        "      pX = proposal_tau(current_x).prob(proposed_x)\n",
        "      w = tfd.Uniform(0,1).sample()*pX\n",
        "      qX = proposal_tau(current_y).prob(proposed_x)\n",
        "      if w < qX:\n",
        "          x_new = proposed_x\n",
        "          y_new = proposed_x\n",
        "      else:\n",
        "          t = True\n",
        "          while t == True:\n",
        "                proposed_y = proposal_tau(current_x).sample()\n",
        "                qY =  proposal_tau(current_y).prob(proposed_y) \n",
        "                w =  tfd.Uniform(0,1).sample()*qY\n",
        "                pY = proposal_tau(current_x).prob(proposed_y)\n",
        "                if w > pY :\n",
        "                  t = False\n",
        "\n",
        "          x_new = proposed_x\n",
        "          y_new = proposed_y  \n",
        "\n",
        "      return x_new, y_new"
      ],
      "metadata": {
        "id": "hPDXUalqYbes"
      },
      "id": "hPDXUalqYbes",
      "execution_count": 54,
      "outputs": []
    },
    {
      "cell_type": "markdown",
      "metadata": {
        "id": "pjFy716PTf9o"
      },
      "source": [
        "ABC algorithm:"
      ],
      "id": "pjFy716PTf9o"
    },
    {
      "cell_type": "code",
      "metadata": {
        "id": "08d5186c-a5b1-454f-a356-aeef3b2b17ef"
      },
      "source": [
        "def abc_algo (N, S, y_obs, h):\n",
        "    \n",
        "    s_obs = S(y_obs)\n",
        "    theta_mu_x = []\n",
        "    theta_tau_x = []\n",
        "    theta_mu_y = []\n",
        "    theta_tau_y = []\n",
        "    datax_current = []\n",
        "    datay_current = [] \n",
        "    theta_tau_x0 = prior_tau().sample()\n",
        "    theta_tau_y0 = prior_tau().sample()\n",
        "    theta_mu_x0 = prior_mu().sample()\n",
        "    theta_mu_y0 = prior_mu().sample()\n",
        "\n",
        "    for j in range (100):\n",
        "                  newdata_x,newdata_y = maximal_coupling2(theta_mu_x0,theta_tau_x0,theta_mu_y0,theta_tau_y0)\n",
        "                  datax_current.append(newdata_x)\n",
        "                  datay_current.append(newdata_y)\n",
        "    sx_0 = S(datax_current)\n",
        "    sy_0 = S(datay_current)\n",
        "\n",
        "    while K_h(np.linalg.norm(np.array(sx_0)-np.array(s_obs)),h)<=0:\n",
        "        theta_tau_x0 = prior_tau().sample()\n",
        "        theta_mu_x0 = prior_mu().sample()\n",
        "        datax_0 = single_lik(theta_mu_x0,theta_tau_x0).sample(100) \n",
        "        sx_0 = S(datax_0)\n",
        "\n",
        "\n",
        "    while K_h(np.linalg.norm(np.array(sy_0)-np.array(s_obs)),h)<=0:\n",
        "        theta_tau_y0 = prior_tau().sample()\n",
        "        theta_mu_y0 = prior_mu().sample()\n",
        "        datay_0 = single_lik(theta_mu_y0,theta_tau_y0).sample(100) \n",
        "        sy_0 = S(datay_0)\n",
        "      \n",
        "    theta_mu_x.append(theta_mu_x0)\n",
        "    theta_tau_x.append(theta_tau_x0)\n",
        "    theta_mu_y.append(theta_mu_y0)\n",
        "    theta_tau_y.append(theta_tau_y0)\n",
        "   \n",
        "    theta_muold_x = theta_mu_x0\n",
        "    theta_tauold_x = theta_tau_x0\n",
        "    theta_muold_y = theta_mu_y0\n",
        "    theta_tauold_y = theta_tau_y0\n",
        "    sx_old = sx_0\n",
        "    sy_old = sy_0\n",
        "    \n",
        "\n",
        "    for i in range(N):\n",
        "        theta_mucurrent_x,theta_mucurrent_y = maximal_coupling_mu(theta_muold_x,theta_muold_y)\n",
        "        theta_taucurrent_x,theta_taucurrent_y = maximal_coupling_tau(theta_tauold_x,theta_tauold_y)\n",
        "\n",
        "        datax_current = []\n",
        "        datay_current = []\n",
        "\n",
        "        for j in range (100):\n",
        "                  [newdata_x,newdata_y] = maximal_coupling2(theta_mucurrent_x,theta_taucurrent_x,theta_mucurrent_y,theta_taucurrent_y)\n",
        "                  datax_current.append(newdata_x)\n",
        "                  datay_current.append(newdata_y)\n",
        "\n",
        "        sx_current = S(datax_current)\n",
        "        sy_current = S(datay_current) \n",
        "               \n",
        "        xprob = min([1.,(K_h(np.linalg.norm(np.array(sx_current) - np.array(s_obs)),h)*prior_tau().prob(theta_taucurrent_x)*prior_mu().prob(theta_mucurrent_x)*proposal_tau(theta_tauold_x).prob(theta_taucurrent_x))/(\n",
        "             K_h(np.linalg.norm(np.array(sx_old)-np.array(s_obs)),h)*(prior_tau().prob(theta_tauold_x)*prior_mu().prob(theta_muold_x))*proposal_tau(theta_taucurrent_x).prob(theta_tauold_x))])\n",
        "        yprob = min([1.,(K_h(np.linalg.norm(np.array(sy_current) - np.array(s_obs)),h)*prior_tau().prob(theta_taucurrent_y)*prior_mu().prob(theta_mucurrent_y)*proposal_tau(theta_tauold_y).prob(theta_taucurrent_y))/(\n",
        "             K_h(np.linalg.norm(np.array(sy_old)-np.array(s_obs)),h)*(prior_tau().prob(theta_tauold_y)*prior_mu().prob(theta_muold_y))*proposal_tau(theta_taucurrent_y).prob(theta_tauold_y))])\n",
        "        \n",
        "        u = tfd.Uniform(0,1).sample()\n",
        "\n",
        "        if u < xprob:\n",
        "              theta_mui_x = theta_mucurrent_x\n",
        "              theta_taui_x = theta_taucurrent_x\n",
        "              s_ix = sx_current\n",
        "        else: \n",
        "              theta_mui_x = theta_muold_x\n",
        "              theta_taui_x = theta_tauold_x\n",
        "              s_ix = sx_old\n",
        "\n",
        "        if u < yprob:\n",
        "              theta_mui_y = theta_mucurrent_y\n",
        "              theta_taui_y = theta_taucurrent_y\n",
        "              s_iy = sy_current\n",
        "        else: \n",
        "              theta_mui_y = theta_muold_y\n",
        "              theta_taui_y = theta_tauold_y\n",
        "              s_iy = sy_old\n",
        "              \n",
        "\n",
        "        theta_muold_x = theta_mui_x\n",
        "        theta_tauold_x = theta_taui_x\n",
        "        sx_old = s_ix\n",
        "\n",
        "        theta_muold_y = theta_mui_y\n",
        "        theta_tauold_y = theta_taui_y\n",
        "        sy_old = s_iy\n",
        "        \n",
        "        theta_mu_x.append(theta_mui_x)\n",
        "        theta_tau_x.append(theta_taui_x)\n",
        "        theta_mu_y.append(theta_mui_y)\n",
        "        theta_tau_y.append(theta_taui_y)\n",
        "        \n",
        "        \n",
        "    return  theta_mu_x, theta_mu_y, theta_tau_x, theta_tau_y"
      ],
      "id": "08d5186c-a5b1-454f-a356-aeef3b2b17ef",
      "execution_count": 55,
      "outputs": []
    },
    {
      "cell_type": "markdown",
      "source": [
        "testiamo con le seguenti variabili:"
      ],
      "metadata": {
        "id": "3-5tUImBf2d4"
      },
      "id": "3-5tUImBf2d4"
    },
    {
      "cell_type": "code",
      "source": [
        "##VARIABILI:\n",
        "c = 1\n",
        "d = 1\n",
        "mu0 = 34\n",
        "tau0 = 0.3\n",
        "k = 5\n",
        "n = 100\n",
        "mu_obs = 30\n",
        "tau_obs = 0.5\n",
        "y_obs = tfp.distributions.Normal(mu_obs,np.sqrt(1/tau_obs)).sample(100)"
      ],
      "metadata": {
        "id": "hqEynA9h84fo"
      },
      "id": "hqEynA9h84fo",
      "execution_count": 76,
      "outputs": []
    },
    {
      "cell_type": "code",
      "source": [
        "provamux, provamuy, provataux, provatauy = abc_algo (500, S2, y_obs, 0.5)   "
      ],
      "metadata": {
        "id": "JhRGickt2QNl"
      },
      "id": "JhRGickt2QNl",
      "execution_count": 77,
      "outputs": []
    },
    {
      "cell_type": "code",
      "source": [
        "mu_coupled = []\n",
        "for i in range(len(provamux)):\n",
        "  mu_coupled.append([provamux[i],provamuy[i]])\n",
        "plt.plot(mu_coupled)"
      ],
      "metadata": {
        "colab": {
          "base_uri": "https://localhost:8080/",
          "height": 300
        },
        "id": "RPw5WyPf6EEu",
        "outputId": "e561df97-268c-4700-efab-439879077091"
      },
      "id": "RPw5WyPf6EEu",
      "execution_count": 78,
      "outputs": [
        {
          "output_type": "execute_result",
          "data": {
            "text/plain": [
              "[<matplotlib.lines.Line2D at 0x7f84d58f5250>,\n",
              " <matplotlib.lines.Line2D at 0x7f84d58f5490>]"
            ]
          },
          "metadata": {},
          "execution_count": 78
        },
        {
          "output_type": "display_data",
          "data": {
            "image/png": "[encoded data removed]",
            "text/plain": [
              "<Figure size 432x288 with 1 Axes>"
            ]
          },
          "metadata": {
            "needs_background": "light"
          }
        }
      ]
    },
    {
      "cell_type": "code",
      "source": [
        "tau_coupled = []\n",
        "for i in range(len(provataux)):\n",
        "  tau_coupled.append([provataux[i],provatauy[i]])\n",
        "plt.plot(tau_coupled)"
      ],
      "metadata": {
        "colab": {
          "base_uri": "https://localhost:8080/",
          "height": 300
        },
        "id": "sfotqfX46uQY",
        "outputId": "e4ef7de0-3040-4858-c2b6-50aa1896a23c"
      },
      "id": "sfotqfX46uQY",
      "execution_count": 79,
      "outputs": [
        {
          "output_type": "execute_result",
          "data": {
            "text/plain": [
              "[<matplotlib.lines.Line2D at 0x7f84d58679d0>,\n",
              " <matplotlib.lines.Line2D at 0x7f84d5867c10>]"
            ]
          },
          "metadata": {},
          "execution_count": 79
        },
        {
          "output_type": "display_data",
          "data": {
            "image/png": "[encoded data removed]",
            "text/plain": [
              "<Figure size 432x288 with 1 Axes>"
            ]
          },
          "metadata": {
            "needs_background": "light"
          }
        }
      ]
    },
    {
      "cell_type": "code",
      "source": [
        "plt.hist(provamuy,bins=20)"
      ],
      "metadata": {
        "id": "Le_Uq4b5gK0Z",
        "colab": {
          "base_uri": "https://localhost:8080/",
          "height": 387
        },
        "outputId": "e5619d4a-47e6-4b47-f269-288b81e0b282"
      },
      "id": "Le_Uq4b5gK0Z",
      "execution_count": 80,
      "outputs": [
        {
          "output_type": "execute_result",
          "data": {
            "text/plain": [
              "(array([ 28., 102., 267.,  77.,  15.,   0.,   0.,   4.,   0.,   0.,   0.,\n",
              "          0.,   0.,   0.,   0.,   1.,   1.,   5.,   0.,   1.]),\n",
              " array([29.438963, 29.737179, 30.035395, 30.33361 , 30.631826, 30.930042,\n",
              "        31.228258, 31.526474, 31.82469 , 32.122906, 32.42112 , 32.719337,\n",
              "        33.01755 , 33.31577 , 33.613983, 33.9122  , 34.210415, 34.508633,\n",
              "        34.806847, 35.105064, 35.40328 ], dtype=float32),\n",
              " <a list of 20 Patch objects>)"
            ]
          },
          "metadata": {},
          "execution_count": 80
        },
        {
          "output_type": "display_data",
          "data": {
            "image/png": "[encoded data removed]",
            "text/plain": [
              "<Figure size 432x288 with 1 Axes>"
            ]
          },
          "metadata": {
            "needs_background": "light"
          }
        }
      ]
    },
    {
      "cell_type": "code",
      "source": [
        "plt.hist(provataux)"
      ],
      "metadata": {
        "id": "G8iFF2HmNJ-D",
        "colab": {
          "base_uri": "https://localhost:8080/",
          "height": 352
        },
        "outputId": "d815bdc9-524c-49e6-958d-6bf63376add7"
      },
      "id": "G8iFF2HmNJ-D",
      "execution_count": 81,
      "outputs": [
        {
          "output_type": "execute_result",
          "data": {
            "text/plain": [
              "(array([226., 194.,  58.,   7.,   4.,   2.,   0.,   1.,   0.,   9.]),\n",
              " array([0.18721641, 0.3954857 , 0.60375498, 0.81202427, 1.02029355,\n",
              "        1.22856284, 1.43683212, 1.64510141, 1.8533707 , 2.06163998,\n",
              "        2.26990927]),\n",
              " <a list of 10 Patch objects>)"
            ]
          },
          "metadata": {},
          "execution_count": 81
        },
        {
          "output_type": "display_data",
          "data": {
            "image/png": "[encoded data removed]",
            "text/plain": [
              "<Figure size 432x288 with 1 Axes>"
            ]
          },
          "metadata": {
            "needs_background": "light"
          }
        }
      ]
    },
    {
      "cell_type": "code",
      "source": [
        "np.mean(provamux)"
      ],
      "metadata": {
        "id": "aQLXbXBzpabA",
        "colab": {
          "base_uri": "https://localhost:8080/"
        },
        "outputId": "0ff0163b-e039-47de-888c-57b985e3d17a"
      },
      "id": "aQLXbXBzpabA",
      "execution_count": 82,
      "outputs": [
        {
          "output_type": "execute_result",
          "data": {
            "text/plain": [
              "30.180103"
            ]
          },
          "metadata": {},
          "execution_count": 82
        }
      ]
    },
    {
      "cell_type": "code",
      "source": [
        "np.mean(provamuy)"
      ],
      "metadata": {
        "colab": {
          "base_uri": "https://localhost:8080/"
        },
        "id": "-PuYEpQv_5By",
        "outputId": "06e8db2a-ef31-4881-fa39-1b767adba01d"
      },
      "id": "-PuYEpQv_5By",
      "execution_count": 84,
      "outputs": [
        {
          "output_type": "execute_result",
          "data": {
            "text/plain": [
              "30.211502"
            ]
          },
          "metadata": {},
          "execution_count": 84
        }
      ]
    },
    {
      "cell_type": "code",
      "source": [
        "np.mean(provataux)"
      ],
      "metadata": {
        "colab": {
          "base_uri": "https://localhost:8080/"
        },
        "id": "lnafErJ5_752",
        "outputId": "12b2a8cd-bc1c-4baf-dbb9-8eee214ab58a"
      },
      "id": "lnafErJ5_752",
      "execution_count": 85,
      "outputs": [
        {
          "output_type": "execute_result",
          "data": {
            "text/plain": [
              "0.46739114935340836"
            ]
          },
          "metadata": {},
          "execution_count": 85
        }
      ]
    },
    {
      "cell_type": "code",
      "source": [
        "np.mean(provatauy)"
      ],
      "metadata": {
        "id": "PQiZUu0BM4Dt",
        "colab": {
          "base_uri": "https://localhost:8080/"
        },
        "outputId": "b0813242-2523-45cf-ef8b-3b4578ea03ce"
      },
      "id": "PQiZUu0BM4Dt",
      "execution_count": 86,
      "outputs": [
        {
          "output_type": "execute_result",
          "data": {
            "text/plain": [
              "0.4616352950512614"
            ]
          },
          "metadata": {},
          "execution_count": 86
        }
      ]
    },
    {
      "cell_type": "markdown",
      "source": [
        "controlliamo il risultato plottando la posterior corretta"
      ],
      "metadata": {
        "id": "31KPkK-Of_5x"
      },
      "id": "31KPkK-Of_5x"
    }
  ]
}