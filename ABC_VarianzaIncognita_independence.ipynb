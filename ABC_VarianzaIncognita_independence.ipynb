{
  "nbformat": 4,
  "nbformat_minor": 5,
  "metadata": {
    "kernelspec": {
      "display_name": "Python 3 (ipykernel)",
      "language": "python",
      "name": "python3"
    },
    "language_info": {
      "codemirror_mode": {
        "name": "ipython",
        "version": 3
      },
      "file_extension": ".py",
      "mimetype": "text/x-python",
      "name": "python",
      "nbconvert_exporter": "python",
      "pygments_lexer": "ipython3",
      "version": "3.9.7"
    },
    "colab": {
      "name": "ABC_VarianzaIncognita_independence.ipynb",
      "provenance": [],
      "collapsed_sections": []
    }
  },
  "cells": [
    {
      "cell_type": "code",
      "metadata": {
        "id": "ea31ed18-18f6-41bf-820c-8b9ab3a6eb7b"
      },
      "source": [
        "import numpy as np\n",
        "import matplotlib.pyplot as plt\n",
        "import seaborn as sns\n",
        "import pandas as pd\n",
        "import scipy.stats as sstat\n",
        "from mpmath import mp\n",
        "import math\n",
        "import random\n",
        "from scipy.stats import multivariate_normal\n",
        "\n",
        "psd = pd.DataFrame\n",
        "from tensorflow_probability.substrates import numpy as tfp\n",
        "tfd = tfp.distributions"
      ],
      "id": "ea31ed18-18f6-41bf-820c-8b9ab3a6eb7b",
      "execution_count": 1,
      "outputs": []
    },
    {
      "cell_type": "markdown",
      "source": [
        "Generiamo 1000 sample da una normale:\n",
        "\n",
        "\\begin{equation*}\n",
        "\\begin{aligned}\n",
        "    y_{obs} &\\sim \\mathcal{N}(\\mu_{obs}, σ_{obs} ^2) \\\\\n",
        "\\end{aligned}\n",
        "\\end{equation*}\n",
        "\n",
        "e scegliamo come modello:\n",
        "\n",
        "\\begin{equation*}\n",
        "\\begin{aligned}\n",
        "    y_i | \\mu &\\sim ^{iid} \\mathcal{N}(\\mu, \\sigma_{obs} ^2)  \\\\\n",
        "    \\mu & \\sim \\mathcal{N}(\\mu_0, \\sigma_0^2)\n",
        "\\end{aligned}\n",
        "\\end{equation*}\n",
        "\n",
        "$\\sigma_{obs}$ noto\n",
        "\n",
        "$\\mu_0, \\sigma_0$ fissati"
      ],
      "metadata": {
        "id": "tkZvVSYObRBv"
      },
      "id": "tkZvVSYObRBv"
    },
    {
      "cell_type": "markdown",
      "source": [
        "$\\mathscr{L}(y_i|\\mu)$:"
      ],
      "metadata": {
        "id": "I8CxF5fEdrKe"
      },
      "id": "I8CxF5fEdrKe"
    },
    {
      "cell_type": "code",
      "metadata": {
        "id": "TTSAOsuISlBL"
      },
      "source": [
        "def single_lik(mu,tau):\n",
        "   return tfd.Normal(mu,np.sqrt(1/tau))"
      ],
      "id": "TTSAOsuISlBL",
      "execution_count": 2,
      "outputs": []
    },
    {
      "cell_type": "markdown",
      "source": [
        "# $\\pi(\\mu)$:"
      ],
      "metadata": {
        "id": "GPNG3rfGeI9H"
      },
      "id": "GPNG3rfGeI9H"
    },
    {
      "cell_type": "code",
      "source": [
        "#c =\n",
        "#d =\n",
        "#mu0 =\n",
        "#k ="
      ],
      "metadata": {
        "id": "VAXcwM36sD_4"
      },
      "id": "VAXcwM36sD_4",
      "execution_count": null,
      "outputs": []
    },
    {
      "cell_type": "code",
      "source": [
        "def prior_mu():\n",
        "    return tfd.Normal(mu0,1/tau0)"
      ],
      "metadata": {
        "id": "xkExXqz-rVjc"
      },
      "id": "xkExXqz-rVjc",
      "execution_count": 3,
      "outputs": []
    },
    {
      "cell_type": "code",
      "source": [
        "def prior_tau():\n",
        "    return tfd.Gamma(c,d)"
      ],
      "metadata": {
        "id": "9uVMhINVru2p"
      },
      "id": "9uVMhINVru2p",
      "execution_count": 4,
      "outputs": []
    },
    {
      "cell_type": "code",
      "source": [
        "#def total_prior():\n",
        " # tfd.NormalGam\n",
        "  #  t = tfd.Gamma(c,d).sample()\n",
        "   # return tfd.Normal(mu0,1/(k*t))"
      ],
      "metadata": {
        "id": "IVTtI4hrj9b_"
      },
      "id": "IVTtI4hrj9b_",
      "execution_count": null,
      "outputs": []
    },
    {
      "cell_type": "markdown",
      "source": [
        "proposal distribution $g(\\theta'|\\theta)$= $N(\\theta, 1)$"
      ],
      "metadata": {
        "id": "7WJZCt2MeXaX"
      },
      "id": "7WJZCt2MeXaX"
    },
    {
      "cell_type": "code",
      "metadata": {
        "id": "JRpqTBiqYTOl"
      },
      "source": [
        "def proposal(theta1):\n",
        "  return tfd.Normal(theta1,1)"
      ],
      "id": "JRpqTBiqYTOl",
      "execution_count": 5,
      "outputs": []
    },
    {
      "cell_type": "code",
      "source": [
        "def total_proposal(mu,tau): \n",
        "  return sstat.multivariate_normal([mu,tau],[[1,0],[0,0.2]])"
      ],
      "metadata": {
        "id": "a4d4zZCe0K1E"
      },
      "id": "a4d4zZCe0K1E",
      "execution_count": 6,
      "outputs": []
    },
    {
      "cell_type": "code",
      "source": [
        "def proposal_mu(mu):\n",
        "  return tfd.Normal(mu,1)"
      ],
      "metadata": {
        "id": "KvO2e-f8MGuh"
      },
      "id": "KvO2e-f8MGuh",
      "execution_count": 7,
      "outputs": []
    },
    {
      "cell_type": "code",
      "source": [
        ""
      ],
      "metadata": {
        "id": "RZFW_vK1Mjwo"
      },
      "id": "RZFW_vK1Mjwo",
      "execution_count": null,
      "outputs": []
    },
    {
      "cell_type": "code",
      "source": [
        "def proposal_tau(tau):\n",
        "  return tfd.Gamma(tau*4,4)"
      ],
      "metadata": {
        "id": "losm8Q2lMNOI"
      },
      "id": "losm8Q2lMNOI",
      "execution_count": 8,
      "outputs": []
    },
    {
      "cell_type": "markdown",
      "source": [
        "definiamo la funzione Kernel Gaussiana"
      ],
      "metadata": {
        "id": "Qxg0rrR5fVse"
      },
      "id": "Qxg0rrR5fVse"
    },
    {
      "cell_type": "code",
      "metadata": {
        "id": "q7BAYb1rZ24M"
      },
      "source": [
        "def my_kernel(u):\n",
        "  return 1/(np.sqrt(2*math.pi))*np.exp(-1/2*u**2)"
      ],
      "id": "q7BAYb1rZ24M",
      "execution_count": 9,
      "outputs": []
    },
    {
      "cell_type": "code",
      "metadata": {
        "id": "wFEIc1dEa6Al"
      },
      "source": [
        "def K_h(u,h):\n",
        "  return my_kernel(u/h)/h"
      ],
      "id": "wFEIc1dEa6Al",
      "execution_count": 10,
      "outputs": []
    },
    {
      "cell_type": "markdown",
      "source": [
        "Come summary statistics utilizziamo:\n",
        "\n",
        "\n",
        "*   Quantili\n",
        "*   Media campionaria\n",
        "\n"
      ],
      "metadata": {
        "id": "HIXl408VfcgR"
      },
      "id": "HIXl408VfcgR"
    },
    {
      "cell_type": "code",
      "metadata": {
        "id": "2NUHjqBFfA8J"
      },
      "source": [
        "def S2(y):\n",
        "  quantiles=[]\n",
        "  for i in range(9):\n",
        "      quantiles.append(np.quantile(y,0.1+0.1*i))         #quantili 0,1 0,2 0,3 0,4 0,5 0,6 0,7 0,8 0,9\n",
        "  return quantiles"
      ],
      "id": "2NUHjqBFfA8J",
      "execution_count": 11,
      "outputs": []
    },
    {
      "cell_type": "code",
      "source": [
        "def S1(y):\n",
        "  s_1 = np.mean(y)\n",
        "  s_2 = np.var(y)\n",
        "  return [s_1,s_2]"
      ],
      "metadata": {
        "id": "bdJNO64L_cLP"
      },
      "id": "bdJNO64L_cLP",
      "execution_count": 12,
      "outputs": []
    },
    {
      "cell_type": "markdown",
      "metadata": {
        "id": "pjFy716PTf9o"
      },
      "source": [
        "ABC algorithm:"
      ],
      "id": "pjFy716PTf9o"
    },
    {
      "cell_type": "code",
      "metadata": {
        "id": "08d5186c-a5b1-454f-a356-aeef3b2b17ef"
      },
      "source": [
        "def abc_algo (N, S, y_obs, h):\n",
        "    s_obs = S(y_obs)\n",
        "    theta_mu = []\n",
        "    theta_tau = []\n",
        "    s = []\n",
        "    y = []\n",
        "    theta_tau0 = prior_tau().sample()\n",
        "    print(theta_tau0)\n",
        "    theta_mu0 = prior_mu().sample()\n",
        "    y_0 = single_lik(theta_mu0,theta_tau0).sample(100) \n",
        "    s_0 = S(y_0)\n",
        "    \n",
        "    while K_h(np.linalg.norm(np.array(s_0)-np.array(s_obs)),h)<=0:\n",
        "        theta_tau0 = prior_tau().sample()\n",
        "        theta_mu0 = prior_mu().sample()\n",
        "        y_0 = single_lik(theta_mu0,theta_tau0).sample(100) \n",
        "        s_0 = S(y_0)\n",
        "      \n",
        "    theta_mu.append(theta_mu0)\n",
        "    theta_tau.append(theta_tau0)\n",
        "    s.append(s_0)\n",
        "    #y.append(y_0)\n",
        "    theta_muold = theta_mu0\n",
        "    theta_tauold = theta_tau0\n",
        "    s_old = s_0\n",
        "    #y_old = y_0\n",
        "\n",
        "    for i in range(N):\n",
        "        theta_mucurrent = proposal_mu(theta_muold).sample()\n",
        "        theta_taucurrent = proposal_tau(theta_tauold).sample()\n",
        "        y_current = single_lik(theta_mucurrent,theta_taucurrent).sample(1000)\n",
        "        s_current = S(y_current)\n",
        "               \n",
        "        prob = min([1.,(K_h(np.linalg.norm(np.array(s_current) - np.array(s_obs)),h)*prior_tau().prob(theta_taucurrent)*prior_mu().prob(theta_mucurrent)*proposal_tau(theta_tauold).prob(theta_taucurrent))/(\n",
        "             K_h(np.linalg.norm(np.array(s_old)-np.array(s_obs)),h)*(prior_tau().prob(theta_tauold)*prior_mu().prob(theta_muold))*proposal_tau(theta_taucurrent).prob(theta_tauold))])\n",
        "        #PROPOSAL_MU è SIMMETRICA E SI SEMPLIFICA\n",
        "        #nella seconda ho semplificato la proposal\n",
        "        #prob = min([1.,(K_h(np.linalg.norm(np.array(s_current) - np.array(s_obs)),h)*prior_tau().prob(theta_taucurrent)*prior_mu(theta_taucurrent).prob(theta_mucurrent))/(\n",
        "          #   K_h(np.linalg.norm(np.array(s_old)-np.array(s_obs)),h)*(prior_tau().prob(theta_tauold)*prior_mu(theta_tauold).prob(theta_muold)))])\n",
        "        \n",
        "        u = tfd.Uniform(0,1).sample()\n",
        "        if u < prob:\n",
        "              theta_mui = theta_mucurrent\n",
        "              theta_taui = theta_taucurrent\n",
        "              s_i = s_current\n",
        "        else: \n",
        "              theta_mui = theta_muold\n",
        "              theta_taui = theta_tauold\n",
        "              s_i = s_old\n",
        "              #y.pop()\n",
        "              #y.append(y_old)\n",
        "\n",
        "        theta_muold = theta_mui\n",
        "        theta_tauold = theta_taui\n",
        "        s_old = s_i\n",
        "        \n",
        "        theta_mu.append(theta_mui)\n",
        "        theta_tau.append(theta_taui)\n",
        "        s.append(s_i)\n",
        "        \n",
        "    return  theta_mu, theta_tau   #theta_tau"
      ],
      "id": "08d5186c-a5b1-454f-a356-aeef3b2b17ef",
      "execution_count": 19,
      "outputs": []
    },
    {
      "cell_type": "markdown",
      "source": [
        "testiamo con le seguenti variabili:"
      ],
      "metadata": {
        "id": "3-5tUImBf2d4"
      },
      "id": "3-5tUImBf2d4"
    },
    {
      "cell_type": "code",
      "source": [
        "##VARIABILI:\n",
        "c = 1\n",
        "d = 1\n",
        "mu0 = 34\n",
        "tau0 = 0.3\n",
        "k = 5\n",
        "n = 100\n",
        "mu_obs = 30\n",
        "tau_obs = 0.5\n",
        "y_obs = tfp.distributions.Normal(mu_obs,np.sqrt(1/tau_obs)).sample(100)"
      ],
      "metadata": {
        "id": "hqEynA9h84fo"
      },
      "id": "hqEynA9h84fo",
      "execution_count": 30,
      "outputs": []
    },
    {
      "cell_type": "code",
      "source": [
        "provamu, provatau = abc_algo (1000, S2, y_obs, 0.2)   "
      ],
      "metadata": {
        "id": "JhRGickt2QNl",
        "colab": {
          "base_uri": "https://localhost:8080/"
        },
        "outputId": "1fe80e0b-ad23-40ec-a4e6-eca5339d5810"
      },
      "id": "JhRGickt2QNl",
      "execution_count": 31,
      "outputs": [
        {
          "output_type": "stream",
          "name": "stdout",
          "text": [
            "2.1832695\n"
          ]
        }
      ]
    },
    {
      "cell_type": "code",
      "source": [
        "plt.hist(provamu[100:])"
      ],
      "metadata": {
        "id": "Le_Uq4b5gK0Z",
        "colab": {
          "base_uri": "https://localhost:8080/",
          "height": 352
        },
        "outputId": "639934ab-572a-4042-a664-6b60f57f2f7f"
      },
      "id": "Le_Uq4b5gK0Z",
      "execution_count": 32,
      "outputs": [
        {
          "output_type": "execute_result",
          "data": {
            "text/plain": [
              "(array([  8.,   0.,  39.,  46.,  25.,  90., 268., 146.,  43., 236.]),\n",
              " array([29.712513, 29.753122, 29.79373 , 29.83434 , 29.874949, 29.915558,\n",
              "        29.956165, 29.996775, 30.037384, 30.077991, 30.1186  ],\n",
              "       dtype=float32),\n",
              " <a list of 10 Patch objects>)"
            ]
          },
          "metadata": {},
          "execution_count": 32
        },
        {
          "output_type": "display_data",
          "data": {
            "image/png": "[encoded data removed]",
            "text/plain": [
              "<Figure size 432x288 with 1 Axes>"
            ]
          },
          "metadata": {
            "needs_background": "light"
          }
        }
      ]
    },
    {
      "cell_type": "code",
      "source": [
        "plt.hist(provatau[100:])"
      ],
      "metadata": {
        "colab": {
          "base_uri": "https://localhost:8080/",
          "height": 355
        },
        "id": "G8iFF2HmNJ-D",
        "outputId": "bb2645c0-3015-4852-d554-2903b3db4ae0"
      },
      "id": "G8iFF2HmNJ-D",
      "execution_count": 33,
      "outputs": [
        {
          "output_type": "execute_result",
          "data": {
            "text/plain": [
              "(array([ 14., 179., 132., 288., 100.,  16.,  56.,  70.,  17.,  29.]),\n",
              " array([0.42814936, 0.45772145, 0.48729353, 0.51686561, 0.5464377 ,\n",
              "        0.57600978, 0.60558186, 0.63515394, 0.66472603, 0.69429811,\n",
              "        0.72387019]),\n",
              " <a list of 10 Patch objects>)"
            ]
          },
          "metadata": {},
          "execution_count": 33
        },
        {
          "output_type": "display_data",
          "data": {
            "image/png": "[encoded data removed]",
            "text/plain": [
              "<Figure size 432x288 with 1 Axes>"
            ]
          },
          "metadata": {
            "needs_background": "light"
          }
        }
      ]
    },
    {
      "cell_type": "code",
      "source": [
        "np.mean(provamu[100:])"
      ],
      "metadata": {
        "id": "aQLXbXBzpabA",
        "colab": {
          "base_uri": "https://localhost:8080/"
        },
        "outputId": "3311b289-5af2-4e2b-c3bc-67d8b58d4d34"
      },
      "id": "aQLXbXBzpabA",
      "execution_count": 34,
      "outputs": [
        {
          "output_type": "execute_result",
          "data": {
            "text/plain": [
              "29.99368"
            ]
          },
          "metadata": {},
          "execution_count": 34
        }
      ]
    },
    {
      "cell_type": "code",
      "source": [
        "np.mean(provatau[100:])"
      ],
      "metadata": {
        "colab": {
          "base_uri": "https://localhost:8080/"
        },
        "id": "PQiZUu0BM4Dt",
        "outputId": "60fe4a14-61ac-4f60-f232-fd6bb06e9f42"
      },
      "id": "PQiZUu0BM4Dt",
      "execution_count": 35,
      "outputs": [
        {
          "output_type": "execute_result",
          "data": {
            "text/plain": [
              "0.5397487246628454"
            ]
          },
          "metadata": {},
          "execution_count": 35
        }
      ]
    },
    {
      "cell_type": "markdown",
      "source": [
        "controlliamo il risultato plottando la posterior corretta"
      ],
      "metadata": {
        "id": "31KPkK-Of_5x"
      },
      "id": "31KPkK-Of_5x"
    },
    {
      "cell_type": "code",
      "metadata": {
        "id": "kbEWXmM3dwij"
      },
      "source": [
        "#NO\n",
        "def real_posterior(mu0,n,y):\n",
        "    y= tfd.Normal(1/(1/sigma0**2 + n/sigma_obs**2)*(mu0/sigma0**2 + (np.sum(y)/sigma_obs**2)),1/(1/sigma0**2 + n/sigma_obs**2))   \n",
        "    return y"
      ],
      "id": "kbEWXmM3dwij",
      "execution_count": null,
      "outputs": []
    },
    {
      "cell_type": "code",
      "source": [
        "#NO\n",
        "import scipy.stats as stats\n",
        "x = np.linspace(mu_obs - 3*np.sqrt(1/tau_obs), mu_obs + 3*np.sqrt(1/tau_obs), 100)\n",
        "\n",
        "plt.hist(prova)\n",
        "#plt.plot(x, 10*stats.norm.pdf(x,1/(1/sigma0**2 + n/sigma_obs**2)*(mu0/sigma0**2 + (np.sum(y_obs)/sigma_obs**2)), 1/(1/sigma0**2 + n/sigma_obs**2)))\n",
        "plt.show()"
      ],
      "metadata": {
        "id": "B26DTJHWCAUT",
        "colab": {
          "base_uri": "https://localhost:8080/",
          "height": 265
        },
        "outputId": "fecc33a9-33ef-41cb-bbb4-2c98738aa2aa"
      },
      "id": "B26DTJHWCAUT",
      "execution_count": null,
      "outputs": [
        {
          "output_type": "display_data",
          "data": {
            "image/png": "[encoded data removed]",
            "text/plain": [
              "<Figure size 432x288 with 1 Axes>"
            ]
          },
          "metadata": {
            "needs_background": "light"
          }
        }
      ]
    },
    {
      "cell_type": "markdown",
      "source": [
        "MH restituisce delle μ sampled dalla prior e non dalla posterior "
      ],
      "metadata": {
        "id": "ymo7vFWWtpzB"
      },
      "id": "ymo7vFWWtpzB"
    }
  ]
}