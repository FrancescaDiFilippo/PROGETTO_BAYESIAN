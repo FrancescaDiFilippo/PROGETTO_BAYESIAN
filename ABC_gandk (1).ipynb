{
  "nbformat": 4,
  "nbformat_minor": 5,
  "metadata": {
    "kernelspec": {
      "display_name": "Python 3 (ipykernel)",
      "language": "python",
      "name": "python3"
    },
    "language_info": {
      "codemirror_mode": {
        "name": "ipython",
        "version": 3
      },
      "file_extension": ".py",
      "mimetype": "text/x-python",
      "name": "python",
      "nbconvert_exporter": "python",
      "pygments_lexer": "ipython3",
      "version": "3.9.7"
    },
    "colab": {
      "name": "ABC_gandk.ipynb",
      "provenance": [],
      "collapsed_sections": []
    }
  },
  "cells": [
    {
      "cell_type": "code",
      "metadata": {
        "id": "ea31ed18-18f6-41bf-820c-8b9ab3a6eb7b"
      },
      "source": [
        "import numpy as np\n",
        "import matplotlib.pyplot as plt\n",
        "import seaborn as sns\n",
        "import pandas as pd\n",
        "import scipy.stats as sstat\n",
        "from mpmath import mp\n",
        "import math\n",
        "import random\n",
        "from scipy.stats import multivariate_normal\n",
        "from sklearn import preprocessing as p\n",
        "\n",
        "psd = pd.DataFrame\n",
        "from tensorflow_probability.substrates import numpy as tfp\n",
        "tfd = tfp.distributions"
      ],
      "id": "ea31ed18-18f6-41bf-820c-8b9ab3a6eb7b",
      "execution_count": 1,
      "outputs": []
    },
    {
      "cell_type": "markdown",
      "source": [
        "##MODELLO:"
      ],
      "metadata": {
        "id": "--29oYe2-1gQ"
      },
      "id": "--29oYe2-1gQ"
    },
    {
      "cell_type": "markdown",
      "source": [
        "PRIOR DISTRIBUTION:\n",
        "\n",
        "$ a \\sim \\mathcal{Unif}([0,10])$\n",
        "\n",
        "$ b \\sim \\mathcal{Unif}([0,10])$\n",
        "\n",
        "$ g \\sim \\mathcal{Unif}([0,10])$\n",
        "\n",
        "$ k \\sim \\mathcal{Unif}([0,10])$"
      ],
      "metadata": {
        "id": "WhoZD7cVc7iJ"
      },
      "id": "WhoZD7cVc7iJ"
    },
    {
      "cell_type": "code",
      "source": [
        "def prior_unif():\n",
        "  return tfd.Uniform(0,10)"
      ],
      "metadata": {
        "id": "yvzaKjFrUYBa"
      },
      "id": "yvzaKjFrUYBa",
      "execution_count": 2,
      "outputs": []
    },
    {
      "cell_type": "code",
      "source": [
        "def prior_out(a,b,g,k):\n",
        "  a_prior = tfd.Uniform(0,10).prob(a)\n",
        "  b_prior = tfd.Uniform(0,10).prob(b)\n",
        "  g_prior = tfd.Uniform(0,10).prob(g)\n",
        "  k_prior = tfd.Uniform(0,10).prob(k)\n",
        "  return  a_prior *b_prior * g_prior*  k_prior "
      ],
      "metadata": {
        "id": "Y4ggBVv0lqz8"
      },
      "id": "Y4ggBVv0lqz8",
      "execution_count": 3,
      "outputs": []
    },
    {
      "cell_type": "markdown",
      "source": [
        "# KERNEL:"
      ],
      "metadata": {
        "id": "laYHKwuA_Jxn"
      },
      "id": "laYHKwuA_Jxn"
    },
    {
      "cell_type": "code",
      "metadata": {
        "id": "q7BAYb1rZ24M"
      },
      "source": [
        "def my_kernel(u):\n",
        "  return 1/(np.sqrt(2*math.pi))*np.exp(-1/2*u**2)"
      ],
      "id": "q7BAYb1rZ24M",
      "execution_count": 4,
      "outputs": []
    },
    {
      "cell_type": "code",
      "metadata": {
        "id": "wFEIc1dEa6Al"
      },
      "source": [
        "def K_h(u,h):\n",
        "  return my_kernel(u/h)/h"
      ],
      "id": "wFEIc1dEa6Al",
      "execution_count": 5,
      "outputs": []
    },
    {
      "cell_type": "code",
      "source": [
        "def multivariate_kernel(u,H):\n",
        "  det= np.linalg.det(H)\n",
        "  uu = np.linalg.inv(H)* u\n",
        "  KK= my_kernel(uu)\n",
        "  return (1/det)*KK"
      ],
      "metadata": {
        "id": "3Ah7OrxPfba6"
      },
      "id": "3Ah7OrxPfba6",
      "execution_count": 6,
      "outputs": []
    },
    {
      "cell_type": "markdown",
      "source": [
        "# SUMMARY:"
      ],
      "metadata": {
        "id": "OP0TNvny_R2e"
      },
      "id": "OP0TNvny_R2e"
    },
    {
      "cell_type": "code",
      "metadata": {
        "id": "2NUHjqBFfA8J"
      },
      "source": [
        "def S2(y):\n",
        "  quantiles= np.zeros(9)\n",
        "  for i in range(9):\n",
        "      quantiles[i]= np.quantile(y,0.1+0.1*i)       #quantili 0,1 0,2 0,3 0,4 0,5 0,6 0,7 0,8 0,9\n",
        "  return quantiles"
      ],
      "id": "2NUHjqBFfA8J",
      "execution_count": 7,
      "outputs": []
    },
    {
      "cell_type": "code",
      "source": [
        "def S1(y):\n",
        "  summary = np.zeros(11)\n",
        "  summary[0]= y[0]\n",
        "  for i in range(10):\n",
        "      summary[i+1]=y[((i+1)*25)-1]\n",
        "  return summary"
      ],
      "metadata": {
        "id": "bdJNO64L_cLP"
      },
      "id": "bdJNO64L_cLP",
      "execution_count": 8,
      "outputs": []
    },
    {
      "cell_type": "markdown",
      "source": [
        "# NORM:"
      ],
      "metadata": {
        "id": "3RM6Uraw_VF4"
      },
      "id": "3RM6Uraw_VF4"
    },
    {
      "cell_type": "code",
      "source": [
        "from scipy.spatial import distance\n",
        "\n",
        "def distance(s_old, s_obs):\n",
        "   return np.linalg.norm(s_old-s_obs)\n",
        "   # return distance.mahalanobis(s_old, s_obs, iv)\n",
        "\n",
        "      "
      ],
      "metadata": {
        "id": "48UrUWhCYbxl"
      },
      "id": "48UrUWhCYbxl",
      "execution_count": 9,
      "outputs": []
    },
    {
      "cell_type": "markdown",
      "source": [
        "##QUANTILE FUNCTION:\n",
        "\n",
        "$ a + b (1+0.8\\left(\\frac{1-\\mathcal{exp}(-g\\mathcal{z}(r))}{1+exp(-g\\mathcal{z}(r))}\\right)(1+\\mathcal{z}(r)^{2})^k\\mathcal{z}(r)$\n",
        "\n",
        "where\n",
        "\n",
        "$\\mathcal{z}(r) \\sim \\mathcal{N}(0,1)$"
      ],
      "metadata": {
        "id": "fb9hKAhwdYZQ"
      },
      "id": "fb9hKAhwdYZQ"
    },
    {
      "cell_type": "code",
      "source": [
        "def quantile_fun(a,b,g,k,z):\n",
        "    y = a+b*(1+0.8*(1-np.exp(-g*z))/(1+np.exp(-g*z)))*((1+z**2)**k)*z\n",
        "    return y\n",
        "      "
      ],
      "metadata": {
        "id": "16VlI3umQJph"
      },
      "id": "16VlI3umQJph",
      "execution_count": 10,
      "outputs": []
    },
    {
      "cell_type": "markdown",
      "metadata": {
        "id": "pjFy716PTf9o"
      },
      "source": [
        "## ABC ALGORITHM:"
      ],
      "id": "pjFy716PTf9o"
    },
    {
      "cell_type": "markdown",
      "source": [
        "INITIALIZATION:\n",
        "\n",
        "$\\mathcal{z}^{0}(r) \\sim \\mathcal{N}(0,1)$\n",
        "\n",
        "$ a^{(0)} \\sim \\mathcal{Unif}([0,10])$\n",
        "\n",
        "$ b^{(0)} \\sim \\mathcal{Unif}([0,10])$\n",
        "\n",
        "$ g^{(0)} \\sim \\mathcal{Unif}([0,10])$\n",
        "\n",
        "$ k^{(0)} \\sim \\mathcal{Unif}([0,10])$\n",
        "\n",
        "$ y^{(0)} \\sim \\mathcal{quantile function}(\\mathcal{z}^{0}(r))$\n",
        "\n",
        "compute the summaries statistics:\n",
        "$s_a,s_b,s_g, s_k$\n",
        "QUANTILI DI Y??????????????'\n",
        "\n",
        "\n"
      ],
      "metadata": {
        "id": "VcyWimlVeZec"
      },
      "id": "VcyWimlVeZec"
    },
    {
      "cell_type": "markdown",
      "source": [
        "\n",
        "Untill $Kh(||s^{(0)}−s_{obs}||)>0$\n",
        "- Generate $\\theta^{(0)} \\sim \\mathcal{Unif}([0,10]^{4})$ from prior density.\n",
        "- Generate a sample of 1000 observations such that $y ∼ \\mathcal{quantile function}$\n",
        "- Compute $s^{(0)}=S(y)$\n",
        "\n"
      ],
      "metadata": {
        "id": "G9XZxpMLjnXb"
      },
      "id": "G9XZxpMLjnXb"
    },
    {
      "cell_type": "markdown",
      "source": [
        "for i in (1,...,n):\n",
        "\n",
        "1. RANDOM WALK:\n",
        "\n",
        "    given $\\ \\theta^{(i-1)}=(a^{(i-1)},b^{(i-1)},g^{(i-1)},k^{(i-1)})$\n",
        "\n",
        "    $\\theta^{(i)} \\sim \\mathcal{N}(\\theta^{(i-1)},I)$\n",
        "\n",
        "    $\\mathcal{z}^{i}(r) \\sim \\mathcal{N}(0,1)$\n",
        "\n",
        "    $ y^{(i)} \\sim \\mathcal{quantile function}(\\mathcal{z}^{i}(r))$\n",
        "\n",
        "    $ s^{(i)} =S(y^{(i)})$\n",
        "\n",
        "2. Accept $\\tau^{(i)}$ with probability $Kh(||s^{(i)}−s_{obs}||)π(\\theta^{(i)})/Kh(||s^{(i-1)}−s_{obs}||)\\pi(\\theta^{(i-1)})$ \n",
        "\n"
      ],
      "metadata": {
        "id": "h0EK46VtfwM-"
      },
      "id": "h0EK46VtfwM-"
    },
    {
      "cell_type": "code",
      "metadata": {
        "id": "LFAGsdCMLQZ_"
      },
      "source": [
        "#SINGOLO PARAMETRO\n",
        "\n",
        "def abc_algo_single_a (N, S, y_obs,h):\n",
        "    s_obs = S(y_obs)\n",
        "    s = np.zeros((N+1,9))\n",
        "    y = np.zeros(n)\n",
        "    y_current = np.zeros(n)\n",
        "    a = np.zeros(N+1)\n",
        "    k=0\n",
        "    a_0 =prior_unif().sample(1)\n",
        "    for i in range(n):\n",
        "      z = tfd.Normal(0,1).sample() \n",
        "      y[i]=quantile_fun(a_0,b_0,g_0,k_0,z)\n",
        "\n",
        "    s_0 = S(y)\n",
        "   \n",
        "    H=h\n",
        "    #while K_h(mahal(np.array(s_0),np.array(s_obs)),H)<=0:\n",
        "    while K_h(distance(np.array(s_0),np.array(s_obs)),H)<=0:    \n",
        "        a_0 =prior_unif().sample()\n",
        "        for j in range(n):\n",
        "          z = tfd.Normal(0,1).sample()\n",
        "          y[j]=quantile_fun(a_0,b_0,g_0,k_0,z)\n",
        "        s_0 = S(y)\n",
        "   \n",
        "    a[0]=a_0\n",
        "    \n",
        "\n",
        "    for i in range(N):\n",
        "        \n",
        "        a_current = tfd.Normal(a[i],1).sample()\n",
        "        b_current = b_0\n",
        "        g_current = g_0\n",
        "        k_current = k_0      \n",
        "        for j in range(n):\n",
        "          z = tfd.Normal(0,1).sample() \n",
        "          y_current[j] = quantile_fun(a_current,b_current,g_current,k_current,z)\n",
        "        s_current = S(y_current)\n",
        "\n",
        "       \n",
        "        #den_num=tfd.Normal(theta_muold,1).prob(theta_mucurrent)*tfd.Normal(theta_tauold,1).prob(theta_taucurrent)\n",
        "        #den_den=tfd.Normal(theta_mucurrent,1).prob(theta_muold)*tfd.Normal(theta_taucurrent,1).prob(theta_tauold)\n",
        "        \n",
        "        NUM= (K_h(distance(np.array(s_current), np.array(s_obs)),H)* prior_unif().prob(a_current))\n",
        "        DEN= (K_h(distance(np.array(s[i,]),np.array(s_obs)),H)* prior_unif().prob(a[i]))\n",
        "       \n",
        "        prob = min([1.,NUM/DEN])\n",
        "      \n",
        "        u = tfd.Uniform(0,1).sample()\n",
        "        if u < prob:\n",
        "              a[i+1]=a_current\n",
        "              s[i+1,]=s_current\n",
        "              k+=1\n",
        "        else: \n",
        "              a[i+1]=a[i]\n",
        "              s[i+1,]=s[i,]\n",
        "\n",
        "        \n",
        "    return a, k"
      ],
      "execution_count": 37,
      "outputs": [],
      "id": "LFAGsdCMLQZ_"
    },
    {
      "cell_type": "code",
      "metadata": {
        "id": "AxNrA3AEr5Z5"
      },
      "source": [
        "#GOLO PARAMETRO\n",
        "\n",
        "def abc_algo_single (N, S, y_obs,h):\n",
        "    s_obs = S(y_obs)\n",
        "    s = np.zeros((N+1,9))\n",
        "    y = np.zeros(n)\n",
        "    y_current = np.zeros(n)\n",
        "    g = np.zeros(N+1)\n",
        "    k=0\n",
        "    g_0 =prior_unif().sample(1)\n",
        "    for i in range(n):\n",
        "      z = tfd.Normal(0,1).sample() \n",
        "      y[i]=quantile_fun(a_0,b_0,g_0,k_0,z)\n",
        "\n",
        "    s_0 = S(y)\n",
        "   \n",
        "    H=h\n",
        "    #while K_h(mahal(np.array(s_0),np.array(s_obs)),H)<=0:\n",
        "    while K_h(distance(np.array(s_0),np.array(s_obs)),H)<=0:    \n",
        "        g_0 =prior_unif().sample()\n",
        "        for j in range(n):\n",
        "          z = tfd.Normal(0,1).sample()\n",
        "          y[j]=quantile_fun(a_0,b_0,g_0,k_0,z)\n",
        "        s_0 = S(y)\n",
        "   \n",
        "    g[0]=g_0\n",
        "    \n",
        "\n",
        "    for i in range(N):\n",
        "        \n",
        "        a_current = a_0\n",
        "        b_current = b_0\n",
        "        g_current = tfd.Normal(g[i],0.31).sample()\n",
        "        k_current = k_0      \n",
        "        for j in range(n):\n",
        "          z = tfd.Normal(0,1).sample() \n",
        "          y_current[j] = quantile_fun(a_current,b_current,g_current,k_current,z)\n",
        "        s_current = S(y_current)\n",
        "\n",
        "       \n",
        "        #den_num=tfd.Normal(theta_muold,1).prob(theta_mucurrent)*tfd.Normal(theta_tauold,1).prob(theta_taucurrent)\n",
        "        #den_den=tfd.Normal(theta_mucurrent,1).prob(theta_muold)*tfd.Normal(theta_taucurrent,1).prob(theta_tauold)\n",
        "        \n",
        "        NUM= (K_h(distance(np.array(s_current), np.array(s_obs)),H)* prior_unif().prob(g_current))\n",
        "        DEN= (K_h(distance(np.array(s[i,]),np.array(s_obs)),H)* prior_unif().prob(g[i]))\n",
        "       \n",
        "        prob = min([1.,NUM/DEN])\n",
        "      \n",
        "        u = tfd.Uniform(0,1).sample()\n",
        "        if u < prob:\n",
        "              g[i+1]=g_current\n",
        "              s[i+1,]=s_current\n",
        "              k+=1\n",
        "        else: \n",
        "              g[i+1]=g[i]\n",
        "              s[i+1,]=s[i,]\n",
        "\n",
        "        \n",
        "    return g, k"
      ],
      "execution_count": 21,
      "outputs": [],
      "id": "AxNrA3AEr5Z5"
    },
    {
      "cell_type": "code",
      "metadata": {
        "id": "08d5186c-a5b1-454f-a356-aeef3b2b17ef"
      },
      "source": [
        "def abc_algo (N, S, y_obs,h):\n",
        "    s_obs = S(y_obs)\n",
        "    s = np.zeros((N+1,9))\n",
        "    y = np.zeros(n)\n",
        "    y_current = np.zeros(n)\n",
        "    a = np.zeros(N+1)\n",
        "    b = np.zeros(N+1)\n",
        "    g = np.zeros(N+1)\n",
        "    k = np.zeros(N+1)\n",
        "    acc =0\n",
        "    a_0,b_0,g_0,k_0 =prior_unif().sample(4)\n",
        "    for i in range(n):\n",
        "      z = tfd.Normal(0,1).sample() \n",
        "      y[i]=quantile_fun(a_0,b_0,g_0,k_0,z)\n",
        "\n",
        "    s_0 = S(y)\n",
        "   \n",
        "    H=h\n",
        " \n",
        "    while K_h(distance(np.array(s_0),np.array(s_obs)),H)<=0:    \n",
        "        a_0,b_0,g_0,k_0 =prior_unif().sample(4)\n",
        "        for j in range(n):\n",
        "          z = tfd.Normal(0,1).sample()\n",
        "          y[j]=quantile_fun(a_0,b_0,g_0,k_0,z)\n",
        "        s_0 = S(y)\n",
        "   \n",
        "    a[0]=a_0\n",
        "    b[0]=b_0\n",
        "    g[0]=g_0\n",
        "    k[0]=k_0\n",
        "    s[0,]=s_0\n",
        "    \n",
        "\n",
        "    for i in range(N):\n",
        "        \n",
        "        a_current = tfd.Normal(a[i],1).sample()\n",
        "        b_current = tfd.Normal(b[i],1).sample()\n",
        "        g_current = tfd.Normal(g[i],1).sample()\n",
        "        k_current = tfd.Normal(k[i],1).sample()\n",
        "        \n",
        "        for j in range(n):\n",
        "          z = tfd.Normal(0,1).sample() \n",
        "          y_current[j] = quantile_fun(a_current,b_current,g_current,k_current,z)\n",
        "        s_current = S(y_current)\n",
        "\n",
        "       \n",
        "        #den_num=tfd.Normal(theta_muold,1).prob(theta_mucurrent)*tfd.Normal(theta_tauold,1).prob(theta_taucurrent)\n",
        "        #den_den=tfd.Normal(theta_mucurrent,1).prob(theta_muold)*tfd.Normal(theta_taucurrent,1).prob(theta_tauold)\n",
        "        \n",
        "        NUM= (K_h(distance(np.array(s_current), np.array(s_obs)),H)* prior_out(a_current,b_current,g_current,k_current))\n",
        "        DEN= (K_h(distance(np.array(s[i,]),np.array(s_obs)),H)* prior_out(a[i],b[i],g[i],k[i]))\n",
        "       \n",
        "        prob = min([1.,NUM/DEN])\n",
        "      \n",
        "        u = tfd.Uniform(0,1).sample()\n",
        "        if u < prob:\n",
        "              a[i+1]=a_current\n",
        "              b[i+1]=b_current\n",
        "              g[i+1]=g_current\n",
        "              k[i+1]=k_current\n",
        "              s[i+1]=s_current\n",
        "              acc +=1\n",
        "        else: \n",
        "              a[i+1]=a[i]\n",
        "              b[i+1]=b[i]\n",
        "              g[i+1]=g[i]\n",
        "              k[i+1]=k[i]\n",
        "              s[i+1,]=s[i,]\n",
        "\n",
        "        \n",
        "    return a,b,g,k"
      ],
      "id": "08d5186c-a5b1-454f-a356-aeef3b2b17ef",
      "execution_count": 12,
      "outputs": []
    },
    {
      "cell_type": "markdown",
      "source": [
        "# APPLICAZIONE:\n",
        "\n",
        "testiamo con le seguenti variabili:"
      ],
      "metadata": {
        "id": "3-5tUImBf2d4"
      },
      "id": "3-5tUImBf2d4"
    },
    {
      "cell_type": "code",
      "source": [
        "aobs = 3\n",
        "bobs =1\n",
        "gobs =2\n",
        "kobs=0.5\n",
        "n= 100\n",
        "h=0.1\n",
        "y_obs = np.zeros(n)\n",
        "for i in range(n):\n",
        "  z = tfd.Normal(0,1).sample() \n",
        "  y_obs[i] = quantile_fun(aobs,bobs,gobs,kobs,z)"
      ],
      "metadata": {
        "id": "Dk34x65rtgly"
      },
      "id": "Dk34x65rtgly",
      "execution_count": 23,
      "outputs": []
    },
    {
      "cell_type": "code",
      "source": [
        "g_0 =2\n",
        "b_0 =1\n",
        "k_0=0.5"
      ],
      "metadata": {
        "id": "X-1oykr_soge"
      },
      "id": "X-1oykr_soge",
      "execution_count": 24,
      "outputs": []
    },
    {
      "cell_type": "code",
      "source": [
        "a_post, acc = abc_algo_single_a (1000, S2, y_obs, h)  "
      ],
      "metadata": {
        "id": "JhRGickt2QNl",
        "colab": {
          "base_uri": "https://localhost:8080/"
        },
        "outputId": "92a4f3fa-ea19-46bd-da4c-d9d3bc15ddc0"
      },
      "id": "JhRGickt2QNl",
      "execution_count": 38,
      "outputs": [
        {
          "output_type": "stream",
          "name": "stderr",
          "text": [
            "/usr/local/lib/python3.7/dist-packages/ipykernel_launcher.py:47: RuntimeWarning: invalid value encountered in double_scalars\n",
            "/usr/local/lib/python3.7/dist-packages/ipykernel_launcher.py:47: RuntimeWarning: divide by zero encountered in double_scalars\n"
          ]
        }
      ]
    },
    {
      "cell_type": "markdown",
      "source": [
        "###### CHECK\n"
      ],
      "metadata": {
        "id": "FOHlDECMniRT"
      },
      "id": "FOHlDECMniRT"
    },
    {
      "cell_type": "code",
      "source": [
        "a_post=prova[0]\n",
        "b_post=prova[1]\n",
        "g_post=prova[2]\n",
        "k_post=prova[3]"
      ],
      "metadata": {
        "id": "Bdrcy2RLBJo5"
      },
      "id": "Bdrcy2RLBJo5",
      "execution_count": null,
      "outputs": []
    },
    {
      "cell_type": "code",
      "source": [
        "np.mean(prova[200:])"
      ],
      "metadata": {
        "colab": {
          "base_uri": "https://localhost:8080/"
        },
        "id": "lBZepdQ9HIYx",
        "outputId": "3d4f2a90-94fb-4fe1-9096-c7eff4fb9afa"
      },
      "id": "lBZepdQ9HIYx",
      "execution_count": 26,
      "outputs": [
        {
          "output_type": "stream",
          "name": "stderr",
          "text": [
            "/usr/local/lib/python3.7/dist-packages/numpy/core/fromnumeric.py:3373: RuntimeWarning: Mean of empty slice.\n",
            "  out=out, **kwargs)\n",
            "/usr/local/lib/python3.7/dist-packages/numpy/core/_methods.py:170: RuntimeWarning: invalid value encountered in double_scalars\n",
            "  ret = ret.dtype.type(ret / rcount)\n"
          ]
        },
        {
          "output_type": "execute_result",
          "data": {
            "text/plain": [
              "nan"
            ]
          },
          "metadata": {},
          "execution_count": 26
        }
      ]
    },
    {
      "cell_type": "code",
      "source": [
        "np.unique(prova[0:200])"
      ],
      "metadata": {
        "colab": {
          "base_uri": "https://localhost:8080/"
        },
        "id": "yq-XyFYb5TiE",
        "outputId": "f5b8d1bc-db40-4e23-a27d-f6b97cde132a"
      },
      "id": "yq-XyFYb5TiE",
      "execution_count": 20,
      "outputs": [
        {
          "output_type": "execute_result",
          "data": {
            "text/plain": [
              "array([2.31540826, 2.34833568, 2.40879631, 2.57859454, 2.5788316 ,\n",
              "       3.06784058, 3.22507736, 3.22782516, 3.3638218 ])"
            ]
          },
          "metadata": {},
          "execution_count": 20
        }
      ]
    },
    {
      "cell_type": "code",
      "source": [
        "np.mean(a_post)"
      ],
      "metadata": {
        "colab": {
          "base_uri": "https://localhost:8080/"
        },
        "id": "WNiof8weJ2BZ",
        "outputId": "30b9e2bb-306e-4444-f9a4-753b35b89152"
      },
      "id": "WNiof8weJ2BZ",
      "execution_count": 39,
      "outputs": [
        {
          "output_type": "execute_result",
          "data": {
            "text/plain": [
              "3.1044888317026964"
            ]
          },
          "metadata": {},
          "execution_count": 39
        }
      ]
    },
    {
      "cell_type": "code",
      "source": [
        "acc\n"
      ],
      "metadata": {
        "colab": {
          "base_uri": "https://localhost:8080/"
        },
        "id": "X_5BGTp2MqER",
        "outputId": "984e786f-be68-4578-f170-46ab8c8616c1"
      },
      "id": "X_5BGTp2MqER",
      "execution_count": 40,
      "outputs": [
        {
          "output_type": "execute_result",
          "data": {
            "text/plain": [
              "10"
            ]
          },
          "metadata": {},
          "execution_count": 40
        }
      ]
    },
    {
      "cell_type": "code",
      "source": [
        "plt.plot(a_post)"
      ],
      "metadata": {
        "colab": {
          "base_uri": "https://localhost:8080/",
          "height": 282
        },
        "id": "5wcYQv2bN429",
        "outputId": "1bb3764e-4bc9-4525-fe65-2e1e1ad31540"
      },
      "id": "5wcYQv2bN429",
      "execution_count": 36,
      "outputs": [
        {
          "output_type": "execute_result",
          "data": {
            "text/plain": [
              "[<matplotlib.lines.Line2D at 0x7fe4c7e65490>]"
            ]
          },
          "metadata": {},
          "execution_count": 36
        },
        {
          "output_type": "display_data",
          "data": {
            "image/png": "[encoded data removed]",
            "text/plain": [
              "<Figure size 432x288 with 1 Axes>"
            ]
          },
          "metadata": {
            "needs_background": "light"
          }
        }
      ]
    },
    {
      "cell_type": "code",
      "source": [
        "np.mean(g_post)"
      ],
      "metadata": {
        "colab": {
          "base_uri": "https://localhost:8080/"
        },
        "id": "YqpFo7ilJ4QW",
        "outputId": "ac9658ce-bd59-483c-f15b-c08d40b3f0c5"
      },
      "id": "YqpFo7ilJ4QW",
      "execution_count": null,
      "outputs": [
        {
          "output_type": "execute_result",
          "data": {
            "text/plain": [
              "1.8713173119344035"
            ]
          },
          "metadata": {},
          "execution_count": 144
        }
      ]
    },
    {
      "cell_type": "code",
      "source": [
        "np.mean(k_post)"
      ],
      "metadata": {
        "colab": {
          "base_uri": "https://localhost:8080/"
        },
        "id": "U5zNLzM6J6Sn",
        "outputId": "de4452b9-8403-4f25-d53a-fa8bafa89067"
      },
      "id": "U5zNLzM6J6Sn",
      "execution_count": null,
      "outputs": [
        {
          "output_type": "execute_result",
          "data": {
            "text/plain": [
              "1.3594015984433678"
            ]
          },
          "metadata": {},
          "execution_count": 145
        }
      ]
    },
    {
      "cell_type": "code",
      "source": [
        "plt.hist(a_post)"
      ],
      "metadata": {
        "id": "Le_Uq4b5gK0Z",
        "colab": {
          "base_uri": "https://localhost:8080/",
          "height": 352
        },
        "outputId": "e322b10f-e898-499b-9484-c30dd6e5ad65"
      },
      "id": "Le_Uq4b5gK0Z",
      "execution_count": null,
      "outputs": [
        {
          "output_type": "execute_result",
          "data": {
            "text/plain": [
              "(array([14.,  0.,  0.,  0.,  1., 74.,  4.,  0.,  0.,  8.]),\n",
              " array([2.16346161, 2.33383195, 2.50420229, 2.67457263, 2.84494297,\n",
              "        3.01531331, 3.18568365, 3.35605399, 3.52642433, 3.69679467,\n",
              "        3.86716501]),\n",
              " <a list of 10 Patch objects>)"
            ]
          },
          "metadata": {},
          "execution_count": 113
        },
        {
          "output_type": "display_data",
          "data": {
            "image/png": "[encoded data removed]",
            "text/plain": [
              "<Figure size 432x288 with 1 Axes>"
            ]
          },
          "metadata": {
            "needs_background": "light"
          }
        }
      ]
    },
    {
      "cell_type": "code",
      "source": [
        "plt.hist(prova)"
      ],
      "metadata": {
        "colab": {
          "base_uri": "https://localhost:8080/",
          "height": 352
        },
        "id": "1ddqTt0tw0MI",
        "outputId": "2b9e653d-d486-401b-fb29-d248b8e93ad3"
      },
      "id": "1ddqTt0tw0MI",
      "execution_count": null,
      "outputs": [
        {
          "output_type": "execute_result",
          "data": {
            "text/plain": [
              "(array([291., 586., 115.,   1.,   1.,   1.,   3.,   0.,   0.,   3.]),\n",
              " array([2.64780437, 2.9004057 , 3.15300703, 3.40560835, 3.65820968,\n",
              "        3.910811  , 4.16341233, 4.41601366, 4.66861498, 4.92121631,\n",
              "        5.17381763]),\n",
              " <a list of 10 Patch objects>)"
            ]
          },
          "metadata": {},
          "execution_count": 39
        },
        {
          "output_type": "display_data",
          "data": {
            "image/png": "[encoded data removed]",
            "text/plain": [
              "<Figure size 432x288 with 1 Axes>"
            ]
          },
          "metadata": {
            "needs_background": "light"
          }
        }
      ]
    },
    {
      "cell_type": "code",
      "source": [
        "np.mean(k_post)"
      ],
      "metadata": {
        "colab": {
          "base_uri": "https://localhost:8080/"
        },
        "id": "tl86R9FSTiWy",
        "outputId": "31dc114b-fc34-45d7-9461-7357fa962434"
      },
      "id": "tl86R9FSTiWy",
      "execution_count": null,
      "outputs": [
        {
          "output_type": "execute_result",
          "data": {
            "text/plain": [
              "1.4417349810909619"
            ]
          },
          "metadata": {},
          "execution_count": 106
        }
      ]
    }
  ]
}