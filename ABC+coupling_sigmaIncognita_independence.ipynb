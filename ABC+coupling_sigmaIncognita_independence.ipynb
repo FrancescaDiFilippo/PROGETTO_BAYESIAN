{
  "nbformat": 4,
  "nbformat_minor": 5,
  "metadata": {
    "kernelspec": {
      "display_name": "Python 3 (ipykernel)",
      "language": "python",
      "name": "python3"
    },
    "language_info": {
      "codemirror_mode": {
        "name": "ipython",
        "version": 3
      },
      "file_extension": ".py",
      "mimetype": "text/x-python",
      "name": "python",
      "nbconvert_exporter": "python",
      "pygments_lexer": "ipython3",
      "version": "3.9.7"
    },
    "colab": {
      "name": "ABC+coupling_sigmaIncognita_independence.ipynb",
      "provenance": [],
      "collapsed_sections": []
    }
  },
  "cells": [
    {
      "cell_type": "code",
      "metadata": {
        "id": "ea31ed18-18f6-41bf-820c-8b9ab3a6eb7b"
      },
      "source": [
        "import numpy as np\n",
        "import matplotlib.pyplot as plt\n",
        "import seaborn as sns\n",
        "import pandas as pd\n",
        "import scipy.stats as sstat\n",
        "from mpmath import mp\n",
        "import math\n",
        "import random\n",
        "from scipy.stats import multivariate_normal\n",
        "\n",
        "psd = pd.DataFrame\n",
        "from tensorflow_probability.substrates import numpy as tfp\n",
        "tfd = tfp.distributions"
      ],
      "id": "ea31ed18-18f6-41bf-820c-8b9ab3a6eb7b",
      "execution_count": 1,
      "outputs": []
    },
    {
      "cell_type": "markdown",
      "source": [
        "Generiamo 1000 sample da una normale:\n",
        "\n",
        "\\begin{equation*}\n",
        "\\begin{aligned}\n",
        "    y_{obs} &\\sim \\mathcal{N}(\\mu_{obs}, σ_{obs} ^2) \\\\\n",
        "\\end{aligned}\n",
        "\\end{equation*}\n",
        "\n",
        "e scegliamo come modello:\n",
        "\n",
        "\\begin{equation*}\n",
        "\\begin{aligned}\n",
        "    y_i | \\mu &\\sim ^{iid} \\mathcal{N}(\\mu, \\sigma_{obs} ^2)  \\\\\n",
        "    \\mu & \\sim \\mathcal{N}(\\mu_0, \\sigma_0^2)\n",
        "\\end{aligned}\n",
        "\\end{equation*}\n",
        "\n",
        "$\\sigma_{obs}$ noto\n",
        "\n",
        "$\\mu_0, \\sigma_0$ fissati"
      ],
      "metadata": {
        "id": "tkZvVSYObRBv"
      },
      "id": "tkZvVSYObRBv"
    },
    {
      "cell_type": "markdown",
      "source": [
        "$\\mathscr{L}(y_i|\\mu)$:"
      ],
      "metadata": {
        "id": "I8CxF5fEdrKe"
      },
      "id": "I8CxF5fEdrKe"
    },
    {
      "cell_type": "code",
      "metadata": {
        "id": "TTSAOsuISlBL"
      },
      "source": [
        "def single_lik(mu,sigma):\n",
        "   return tfd.Normal(mu,sigma)"
      ],
      "id": "TTSAOsuISlBL",
      "execution_count": 2,
      "outputs": []
    },
    {
      "cell_type": "markdown",
      "source": [
        "# $\\pi(\\mu)$:"
      ],
      "metadata": {
        "id": "GPNG3rfGeI9H"
      },
      "id": "GPNG3rfGeI9H"
    },
    {
      "cell_type": "code",
      "source": [
        "def prior_mu():\n",
        "    return tfd.Normal(mu0,sigma0)"
      ],
      "metadata": {
        "id": "xkExXqz-rVjc"
      },
      "id": "xkExXqz-rVjc",
      "execution_count": 3,
      "outputs": []
    },
    {
      "cell_type": "code",
      "source": [
        "def prior_sigma2():\n",
        "    return tfd.InverseGamma(c,d)"
      ],
      "metadata": {
        "id": "9uVMhINVru2p"
      },
      "id": "9uVMhINVru2p",
      "execution_count": 28,
      "outputs": []
    },
    {
      "cell_type": "markdown",
      "source": [
        "proposal distribution $g(\\theta'|\\theta)$= $N(\\theta, 1)$"
      ],
      "metadata": {
        "id": "7WJZCt2MeXaX"
      },
      "id": "7WJZCt2MeXaX"
    },
    {
      "cell_type": "code",
      "source": [
        "def proposal_mu(mu):\n",
        "  return tfd.Normal(mu,1)"
      ],
      "metadata": {
        "id": "KvO2e-f8MGuh"
      },
      "id": "KvO2e-f8MGuh",
      "execution_count": 5,
      "outputs": []
    },
    {
      "cell_type": "code",
      "source": [
        "def proposal_sigma(sigma):\n",
        "  return tfd.LogNormal(sigma,0.1)"
      ],
      "metadata": {
        "id": "losm8Q2lMNOI"
      },
      "id": "losm8Q2lMNOI",
      "execution_count": 60,
      "outputs": []
    },
    {
      "cell_type": "markdown",
      "source": [
        "definiamo la funzione Kernel Gaussiana"
      ],
      "metadata": {
        "id": "Qxg0rrR5fVse"
      },
      "id": "Qxg0rrR5fVse"
    },
    {
      "cell_type": "code",
      "metadata": {
        "id": "q7BAYb1rZ24M"
      },
      "source": [
        "def my_kernel(u):\n",
        "  return 1/(np.sqrt(2*math.pi))*np.exp(-1/2*u**2)"
      ],
      "id": "q7BAYb1rZ24M",
      "execution_count": 7,
      "outputs": []
    },
    {
      "cell_type": "code",
      "metadata": {
        "id": "wFEIc1dEa6Al"
      },
      "source": [
        "def K_h(u,h):\n",
        "  return my_kernel(u/h)/h"
      ],
      "id": "wFEIc1dEa6Al",
      "execution_count": 8,
      "outputs": []
    },
    {
      "cell_type": "markdown",
      "source": [
        "Come summary statistics utilizziamo:\n",
        "\n",
        "\n",
        "*   Quantili\n",
        "*   Media campionaria\n",
        "\n"
      ],
      "metadata": {
        "id": "HIXl408VfcgR"
      },
      "id": "HIXl408VfcgR"
    },
    {
      "cell_type": "code",
      "metadata": {
        "id": "2NUHjqBFfA8J"
      },
      "source": [
        "def S2(y):\n",
        "  quantiles=[]\n",
        "  for i in range(9):\n",
        "      quantiles.append(np.quantile(y,0.1+0.1*i))         #quantili 0,1 0,2 0,3 0,4 0,5 0,6 0,7 0,8 0,9\n",
        "  return quantiles"
      ],
      "id": "2NUHjqBFfA8J",
      "execution_count": 9,
      "outputs": []
    },
    {
      "cell_type": "code",
      "source": [
        "def S1(y):\n",
        "  s_1 = np.mean(y)\n",
        "  s_2 = np.var(y)\n",
        "  return [s_1,s_2]"
      ],
      "metadata": {
        "id": "bdJNO64L_cLP"
      },
      "id": "bdJNO64L_cLP",
      "execution_count": 10,
      "outputs": []
    },
    {
      "cell_type": "code",
      "source": [
        "##MAXIMAL COUPLING FOR DATASET GENERATION\n",
        "def maximal_coupling2(mu_x,sigma_x,mu_y,sigma_y):\n",
        "\n",
        "      proposed_x = single_lik(mu_x,sigma_x).sample()\n",
        "      pX =  single_lik(mu_x,sigma_x).prob(proposed_x)\n",
        "      w = tfd.Uniform(0,1).sample()*pX\n",
        "      qX = single_lik(mu_y,sigma_y).prob(proposed_x)\n",
        "      if w < qX:\n",
        "          x_new = proposed_x\n",
        "          y_new = proposed_x\n",
        "      else:\n",
        "          t = True\n",
        "          while t == True:\n",
        "                proposed_y = single_lik(mu_y,sigma_y).sample()\n",
        "                qY =  single_lik(mu_y,sigma_y).prob(proposed_y) \n",
        "                w =  tfd.Uniform(0,1).sample()*qY\n",
        "                pY = single_lik(mu_x,sigma_x).prob(proposed_y)\n",
        "                if w > pY :\n",
        "                  t = False\n",
        "\n",
        "          x_new = proposed_x\n",
        "          y_new = proposed_y  \n",
        "          \n",
        "      return x_new,y_new"
      ],
      "metadata": {
        "id": "jVuuWN0iZce9"
      },
      "id": "jVuuWN0iZce9",
      "execution_count": 11,
      "outputs": []
    },
    {
      "cell_type": "code",
      "source": [
        "##MAXIMAL COUPLING OF MU\n",
        "def maximal_coupling_mu(x,y):\n",
        "\n",
        "      current_x = x\n",
        "      current_y = y  \n",
        "      proposed_x = current_x + tfd.Normal(0,0.1).sample()\n",
        "      pX = sstat.norm.pdf(proposed_x,current_x,1)\n",
        "      w = tfd.Uniform(0,1).sample()*pX\n",
        "      qX = sstat.norm.pdf(proposed_x,current_y,1)\n",
        "      if w < qX:\n",
        "          x_new = proposed_x\n",
        "          y_new = proposed_x\n",
        "      else:\n",
        "          t = True\n",
        "          while t == True:\n",
        "                proposed_y = current_y + tfd.Normal(0,1).sample()\n",
        "                qY =  sstat.norm.pdf(proposed_y,current_y,1) \n",
        "                w =  tfd.Uniform(0,1).sample()*qY\n",
        "                pY = sstat.norm.pdf(proposed_y,current_x,1)\n",
        "                if w > pY :\n",
        "                  t = False\n",
        "\n",
        "          x_new = proposed_x\n",
        "          y_new = proposed_y\n",
        "\n",
        "      return x_new, y_new"
      ],
      "metadata": {
        "id": "60PPkbJXYQ4k"
      },
      "id": "60PPkbJXYQ4k",
      "execution_count": 70,
      "outputs": []
    },
    {
      "cell_type": "code",
      "source": [
        "##MAXIMAL COUPLING OF TAU\n",
        "def maximal_coupling_sigma(x,y):\n",
        "      \n",
        "      current_x = x\n",
        "      current_y = y  \n",
        "      proposed_x = proposal_sigma(current_x).sample()\n",
        "      pX = proposal_sigma(current_x).prob(proposed_x)\n",
        "      w = tfd.Uniform(0,1).sample()*pX\n",
        "      qX = proposal_sigma(current_y).prob(proposed_x)\n",
        "      if w < qX:\n",
        "          x_new = proposed_x\n",
        "          y_new = proposed_x\n",
        "      else:\n",
        "          t = True\n",
        "          while t == True:\n",
        "                proposed_y = proposal_sigma(current_x).sample()\n",
        "                qY =  proposal_sigma(current_y).prob(proposed_y) \n",
        "                w =  tfd.Uniform(0,1).sample()*qY\n",
        "                pY = proposal_sigma(current_x).prob(proposed_y)\n",
        "                if w > pY :\n",
        "                  t = False\n",
        "\n",
        "          x_new = proposed_x\n",
        "          y_new = proposed_y  \n",
        "\n",
        "      return x_new, y_new"
      ],
      "metadata": {
        "id": "hPDXUalqYbes"
      },
      "id": "hPDXUalqYbes",
      "execution_count": 19,
      "outputs": []
    },
    {
      "cell_type": "markdown",
      "metadata": {
        "id": "pjFy716PTf9o"
      },
      "source": [
        "ABC algorithm:"
      ],
      "id": "pjFy716PTf9o"
    },
    {
      "cell_type": "code",
      "metadata": {
        "id": "08d5186c-a5b1-454f-a356-aeef3b2b17ef"
      },
      "source": [
        "def abc_algo (N, S, y_obs, h):\n",
        "    acc_x = 0\n",
        "    acc_y = 0\n",
        "    s_obs = S(y_obs)\n",
        "    theta_mu_x = []\n",
        "    theta_sigma_x = []\n",
        "    theta_mu_y = []\n",
        "    theta_sigma_y = []\n",
        "    datax_current = []\n",
        "    datay_current = [] \n",
        "    theta_sigma_x0 = np.sqrt(prior_sigma2().sample())\n",
        "    theta_sigma_y0 = np.sqrt(prior_sigma2().sample())\n",
        "    theta_mu_x0 = prior_mu().sample()\n",
        "    theta_mu_y0 = prior_mu().sample()\n",
        "\n",
        "    for j in range (100):\n",
        "                  newdata_x,newdata_y = maximal_coupling2(theta_mu_x0,theta_sigma_x0,theta_mu_y0,theta_sigma_y0)\n",
        "                  datax_current.append(newdata_x)\n",
        "                  datay_current.append(newdata_y)\n",
        "    sx_0 = S(datax_current)\n",
        "    sy_0 = S(datay_current)\n",
        "\n",
        "    while K_h(np.linalg.norm(np.array(sx_0)-np.array(s_obs)),h)<=0:\n",
        "        theta_sigma_x0 = np.sqrt(prior_sigma2().sample())\n",
        "        theta_mu_x0 = prior_mu().sample()\n",
        "        datax_0 = single_lik(theta_mu_x0,theta_sigma_x0).sample(100) \n",
        "        sx_0 = S(datax_0)\n",
        "\n",
        "\n",
        "    while K_h(np.linalg.norm(np.array(sy_0)-np.array(s_obs)),h)<=0:\n",
        "        theta_sigma_y0 =np.sqrt(prior_sigma2().sample())\n",
        "        theta_mu_y0 = prior_mu().sample()\n",
        "        datay_0 = single_lik(theta_mu_y0,theta_sigma_y0).sample(100) \n",
        "        sy_0 = S(datay_0)\n",
        "      \n",
        "    theta_mu_x.append(theta_mu_x0)\n",
        "    theta_sigma_x.append(theta_sigma_x0)\n",
        "    theta_mu_y.append(theta_mu_y0)\n",
        "    theta_sigma_y.append(theta_sigma_y0)\n",
        "   \n",
        "    theta_muold_x = theta_mu_x0\n",
        "    theta_sigmaold_x = theta_sigma_x0\n",
        "    theta_muold_y = theta_mu_y0\n",
        "    theta_sigmaold_y = theta_sigma_y0\n",
        "    sx_old = sx_0\n",
        "    sy_old = sy_0\n",
        "    \n",
        "\n",
        "    for i in range(N):\n",
        "        theta_mucurrent_x,theta_mucurrent_y = maximal_coupling_mu(theta_muold_x,theta_muold_y)\n",
        "        theta_sigmacurrent_x,theta_sigmacurrent_y = maximal_coupling_sigma(theta_sigmaold_x,theta_sigmaold_y)\n",
        "\n",
        "        datax_current = []\n",
        "        datay_current = [] \n",
        "\n",
        "        for j in range (100):\n",
        "                  [newdata_x,newdata_y] = maximal_coupling2(theta_mucurrent_x,theta_sigmacurrent_x,theta_mucurrent_y,theta_sigmacurrent_y)\n",
        "                  datax_current.append(newdata_x)\n",
        "                  datay_current.append(newdata_y)\n",
        "\n",
        "        sx_current = S(datax_current)\n",
        "        sy_current = S(datay_current) \n",
        "               \n",
        "        xprob = min([1.,(K_h(np.linalg.norm(np.array(sx_current) - np.array(s_obs)),h)*prior_sigma2().prob(theta_sigmacurrent_x**2)*prior_mu().prob(theta_mucurrent_x))/(\n",
        "             K_h(np.linalg.norm(np.array(sx_old)-np.array(s_obs)),h)*(prior_sigma2().prob(theta_sigmaold_x**2)*prior_mu().prob(theta_muold_x)))])\n",
        "        yprob = min([1.,(K_h(np.linalg.norm(np.array(sy_current) - np.array(s_obs)),h)*prior_sigma2().prob(theta_sigmacurrent_y**2)*prior_mu().prob(theta_mucurrent_y))/(\n",
        "             K_h(np.linalg.norm(np.array(sy_old)-np.array(s_obs)),h)*(prior_sigma2().prob(theta_sigmaold_y**2)*prior_mu().prob(theta_muold_y)))])\n",
        "        # xprob = min([1.,(K_h(np.linalg.norm(np.array(sx_current) - np.array(s_obs)),h)*prior_sigma2().prob(theta_sigmacurrent_x**2)*prior_mu().prob(theta_mucurrent_x)*proposal_sigma(theta_sigmaold_x).prob(theta_sigmacurrent_x))/(\n",
        "        #     K_h(np.linalg.norm(np.array(sx_old)-np.array(s_obs)),h)*(prior_sigma2().prob(theta_sigmaold_x**2)*prior_mu().prob(theta_muold_x))*proposal_sigma(theta_sigmacurrent_x).prob(theta_sigmaold_x))])\n",
        "        #yprob = min([1.,(K_h(np.linalg.norm(np.array(sy_current) - np.array(s_obs)),h)*prior_sigma2().prob(theta_sigmacurrent_y**2)*prior_mu().prob(theta_mucurrent_y)*proposal_sigma(theta_sigmaold_y).prob(theta_sigmacurrent_y))/(\n",
        "        #     K_h(np.linalg.norm(np.array(sy_old)-np.array(s_obs)),h)*(prior_sigma2().prob(theta_sigmaold_y**2)*prior_mu().prob(theta_muold_y))*proposal_sigma(theta_sigmacurrent_y).prob(theta_sigmaold_y))])\n",
        "        \n",
        "        u = tfd.Uniform(0,1).sample()\n",
        "\n",
        "        if u < xprob:\n",
        "              theta_mui_x = theta_mucurrent_x\n",
        "              theta_sigmai_x = theta_sigmacurrent_x\n",
        "              s_ix = sx_current\n",
        "              acc_x +=1\n",
        "        else: \n",
        "              theta_mui_x = theta_muold_x\n",
        "              theta_sigmai_x = theta_sigmaold_x\n",
        "              s_ix = sx_old\n",
        "\n",
        "        if u < yprob:\n",
        "              theta_mui_y = theta_mucurrent_y\n",
        "              theta_sigmai_y = theta_sigmacurrent_y\n",
        "              s_iy = sy_current\n",
        "              acc_y +=1\n",
        "        else: \n",
        "              theta_mui_y = theta_muold_y\n",
        "              theta_sigmai_y = theta_sigmaold_y\n",
        "              s_iy = sy_old\n",
        "              \n",
        "\n",
        "        theta_muold_x = theta_mui_x\n",
        "        theta_sigmaold_x = theta_sigmai_x\n",
        "        sx_old = s_ix\n",
        "\n",
        "        theta_muold_y = theta_mui_y\n",
        "        theta_sigmaold_y = theta_sigmai_y\n",
        "        sy_old = s_iy\n",
        "        \n",
        "        theta_mu_x.append(theta_mui_x)\n",
        "        theta_sigma_x.append(theta_sigmai_x)\n",
        "        theta_mu_y.append(theta_mui_y)\n",
        "        theta_sigma_y.append(theta_sigmai_y)\n",
        "        \n",
        "        \n",
        "    return  theta_mu_x, theta_mu_y, theta_sigma_x, theta_sigma_y, acc_x , acc_y"
      ],
      "id": "08d5186c-a5b1-454f-a356-aeef3b2b17ef",
      "execution_count": 69,
      "outputs": []
    },
    {
      "cell_type": "markdown",
      "source": [
        "testiamo con le seguenti variabili:"
      ],
      "metadata": {
        "id": "3-5tUImBf2d4"
      },
      "id": "3-5tUImBf2d4"
    },
    {
      "cell_type": "code",
      "source": [
        "##VARIABILI:\n",
        "c = 1\n",
        "d = 1\n",
        "mu0 = 34\n",
        "sigma0 = np.sqrt(3)\n",
        "k = 5\n",
        "n = 100\n",
        "mu_obs = 30\n",
        "sigma_obs = 2\n",
        "y_obs = tfp.distributions.Normal(mu_obs,np.sqrt(sigma_obs)).sample(100)"
      ],
      "metadata": {
        "id": "hqEynA9h84fo"
      },
      "id": "hqEynA9h84fo",
      "execution_count": 53,
      "outputs": []
    },
    {
      "cell_type": "code",
      "source": [
        "np.sqrt(2)"
      ],
      "metadata": {
        "colab": {
          "base_uri": "https://localhost:8080/"
        },
        "id": "YiOgOgF8_wky",
        "outputId": "8dc231de-6691-470d-8359-1335ef66f6e4"
      },
      "id": "YiOgOgF8_wky",
      "execution_count": 55,
      "outputs": [
        {
          "output_type": "execute_result",
          "data": {
            "text/plain": [
              "1.4142135623730951"
            ]
          },
          "metadata": {},
          "execution_count": 55
        }
      ]
    },
    {
      "cell_type": "code",
      "source": [
        "provamux, provamuy, provasigmax, provasigmay, acc_x , acc_y = abc_algo (500, S1, y_obs, 0.2)   "
      ],
      "metadata": {
        "id": "JhRGickt2QNl"
      },
      "id": "JhRGickt2QNl",
      "execution_count": null,
      "outputs": []
    },
    {
      "cell_type": "code",
      "source": [
        "np.mean(provamux[100:])"
      ],
      "metadata": {
        "colab": {
          "base_uri": "https://localhost:8080/"
        },
        "id": "h94CWvyd09a_",
        "outputId": "5752e07c-5048-444c-a731-815d263d0a0e"
      },
      "id": "h94CWvyd09a_",
      "execution_count": 68,
      "outputs": [
        {
          "output_type": "execute_result",
          "data": {
            "text/plain": [
              "35.853296438671535"
            ]
          },
          "metadata": {},
          "execution_count": 68
        }
      ]
    },
    {
      "cell_type": "code",
      "source": [
        "np.mean(provamuy)"
      ],
      "metadata": {
        "colab": {
          "base_uri": "https://localhost:8080/"
        },
        "id": "h83iISOK1UuR",
        "outputId": "88b6c0bb-9174-41fb-8249-1ed717a46df5"
      },
      "id": "h83iISOK1UuR",
      "execution_count": 65,
      "outputs": [
        {
          "output_type": "execute_result",
          "data": {
            "text/plain": [
              "34.4259771612406"
            ]
          },
          "metadata": {},
          "execution_count": 65
        }
      ]
    },
    {
      "cell_type": "code",
      "source": [
        "np.mean(provasigmax)"
      ],
      "metadata": {
        "colab": {
          "base_uri": "https://localhost:8080/"
        },
        "id": "c-InvFgH1XcH",
        "outputId": "dec3d4c2-daf0-48c7-8600-17fe05c30442"
      },
      "id": "c-InvFgH1XcH",
      "execution_count": 66,
      "outputs": [
        {
          "output_type": "execute_result",
          "data": {
            "text/plain": [
              "1.450344"
            ]
          },
          "metadata": {},
          "execution_count": 66
        }
      ]
    },
    {
      "cell_type": "code",
      "source": [
        "np.mean(provasigmay)"
      ],
      "metadata": {
        "colab": {
          "base_uri": "https://localhost:8080/"
        },
        "id": "lH9N-i9g1eO4",
        "outputId": "a2f7a91c-1d48-43f7-95eb-af626dbdad83"
      },
      "id": "lH9N-i9g1eO4",
      "execution_count": 67,
      "outputs": [
        {
          "output_type": "execute_result",
          "data": {
            "text/plain": [
              "1.4757614"
            ]
          },
          "metadata": {},
          "execution_count": 67
        }
      ]
    },
    {
      "cell_type": "code",
      "source": [
        "plt.hist(provamux[100:])"
      ],
      "metadata": {
        "id": "Le_Uq4b5gK0Z",
        "colab": {
          "base_uri": "https://localhost:8080/",
          "height": 404
        },
        "outputId": "cbe5b29e-0058-4c30-de2e-eef59b931650"
      },
      "id": "Le_Uq4b5gK0Z",
      "execution_count": 39,
      "outputs": [
        {
          "output_type": "stream",
          "name": "stderr",
          "text": [
            "Exception ignored in: <bound method WeakStructRef._cleanup of WeakStructRef(HashableWeakRef(<weakref at 0x7f38c6726a70; dead>))>\n",
            "Traceback (most recent call last):\n",
            "  File \"/usr/local/lib/python3.7/dist-packages/tensorflow_probability/substrates/numpy/internal/cache_util.py\", line 149, in _cleanup\n",
            "    if self._alive:\n",
            "AttributeError: _alive\n"
          ]
        },
        {
          "output_type": "execute_result",
          "data": {
            "text/plain": [
              "(array([0., 0., 0., 0., 0., 0., 0., 0., 0., 0.]),\n",
              " array([0. , 0.1, 0.2, 0.3, 0.4, 0.5, 0.6, 0.7, 0.8, 0.9, 1. ]),\n",
              " <a list of 10 Patch objects>)"
            ]
          },
          "metadata": {},
          "execution_count": 39
        },
        {
          "output_type": "display_data",
          "data": {
            "image/png": "[encoded data removed]",
            "text/plain": [
              "<Figure size 432x288 with 1 Axes>"
            ]
          },
          "metadata": {
            "needs_background": "light"
          }
        }
      ]
    },
    {
      "cell_type": "code",
      "source": [
        "plt.hist(provasigma[100:])"
      ],
      "metadata": {
        "id": "G8iFF2HmNJ-D",
        "colab": {
          "base_uri": "https://localhost:8080/",
          "height": 165
        },
        "outputId": "6cafc880-7a4d-490c-b33d-7c27e5a54f16"
      },
      "id": "G8iFF2HmNJ-D",
      "execution_count": 36,
      "outputs": [
        {
          "output_type": "error",
          "ename": "NameError",
          "evalue": "ignored",
          "traceback": [
            "\u001b[0;31m---------------------------------------------------------------------------\u001b[0m",
            "\u001b[0;31mNameError\u001b[0m                                 Traceback (most recent call last)",
            "\u001b[0;32m<ipython-input-36-16b093a470f0>\u001b[0m in \u001b[0;36m<module>\u001b[0;34m()\u001b[0m\n\u001b[0;32m----> 1\u001b[0;31m \u001b[0mplt\u001b[0m\u001b[0;34m.\u001b[0m\u001b[0mhist\u001b[0m\u001b[0;34m(\u001b[0m\u001b[0mprovasigma\u001b[0m\u001b[0;34m[\u001b[0m\u001b[0;36m100\u001b[0m\u001b[0;34m:\u001b[0m\u001b[0;34m]\u001b[0m\u001b[0;34m)\u001b[0m\u001b[0;34m\u001b[0m\u001b[0;34m\u001b[0m\u001b[0m\n\u001b[0m",
            "\u001b[0;31mNameError\u001b[0m: name 'provasigma' is not defined"
          ]
        }
      ]
    },
    {
      "cell_type": "code",
      "source": [
        "np.mean(provamu[100:])"
      ],
      "metadata": {
        "id": "aQLXbXBzpabA"
      },
      "id": "aQLXbXBzpabA",
      "execution_count": null,
      "outputs": []
    },
    {
      "cell_type": "code",
      "source": [
        "np.mean(provasigma[100:])"
      ],
      "metadata": {
        "id": "PQiZUu0BM4Dt"
      },
      "id": "PQiZUu0BM4Dt",
      "execution_count": null,
      "outputs": []
    },
    {
      "cell_type": "markdown",
      "source": [
        "controlliamo il risultato plottando la posterior corretta"
      ],
      "metadata": {
        "id": "31KPkK-Of_5x"
      },
      "id": "31KPkK-Of_5x"
    },
    {
      "cell_type": "code",
      "source": [
        ""
      ],
      "metadata": {
        "id": "yYfk53Gvu8Fl"
      },
      "id": "yYfk53Gvu8Fl",
      "execution_count": null,
      "outputs": []
    }
  ]
}