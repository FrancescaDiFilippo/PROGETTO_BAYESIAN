{
 "cells": [
  {
   "cell_type": "markdown",
   "id": "5224199b-6994-43c5-a296-f35e25679978",
   "metadata": {},
   "source": [
    "# Markov Chain Monte Carlo with Couplings and Approximate Bayesian Computation, parallelized, univariate mean Gaussian "
   ]
  },
  {
   "cell_type": "markdown",
   "id": "8c0606a6-8bb5-4536-a398-b9c8213f61a8",
   "metadata": {},
   "source": [
    "## Modules importing"
   ]
  },
  {
   "cell_type": "code",
   "execution_count": 1,
   "id": "7dc0c76c-1f63-458d-89cd-c0ecd1a7b2f1",
   "metadata": {},
   "outputs": [
    {
     "name": "stderr",
     "output_type": "stream",
     "text": [
      "2022-02-14 14:46:18.958868: W tensorflow/stream_executor/platform/default/dso_loader.cc:64] Could not load dynamic library 'libcudart.so.11.0'; dlerror: libcudart.so.11.0: cannot open shared object file: No such file or directory\n",
      "2022-02-14 14:46:18.958907: I tensorflow/stream_executor/cuda/cudart_stub.cc:29] Ignore above cudart dlerror if you do not have a GPU set up on your machine.\n"
     ]
    }
   ],
   "source": [
    "# system modules\n",
    "import os\n",
    "import time\n",
    "\n",
    "# mathematical and statistical modules\n",
    "import math\n",
    "import numpy as np\n",
    "import pandas as pd\n",
    "import scipy.stats as sstat\n",
    "#from mpmath import mp\n",
    "\n",
    "# tensorflow modules\n",
    "import tensorflow_probability.substrates.numpy as tfp\n",
    "import tensorflow_probability.substrates.numpy.distributions as tfd\n",
    "import tensorflow.random as tfr\n",
    "\n",
    "# visualization and plotting modules\n",
    "import matplotlib.pyplot as plt\n",
    "import seaborn as sns\n",
    "\n",
    "# parallelization modules \n",
    "from multiprocessing import Process, Queue, SimpleQueue"
   ]
  },
  {
   "cell_type": "markdown",
   "id": "1e1fd425-d2c3-4bd7-9b4e-667eacda8395",
   "metadata": {},
   "source": [
    "## Settings and data"
   ]
  },
  {
   "cell_type": "markdown",
   "id": "53aa99e7-4cb4-4221-8fb7-84ef84fabebc",
   "metadata": {},
   "source": [
    "### Parameters"
   ]
  },
  {
   "cell_type": "code",
   "execution_count": 2,
   "id": "404b012a-ac1e-4a57-85c2-8e7f03bbf1af",
   "metadata": {},
   "outputs": [],
   "source": [
    "#data\n",
    "number_of_data     = 100\n",
    "observations_mean  = np.array([10.])\n",
    "observations_sd    = np.sqrt(3.) \n",
    "\n",
    "#prior\n",
    "prior_mean = np.array([8.])\n",
    "prior_sd = 2\n",
    "\n",
    "#mcmc setting\n",
    "#x_start = np.array([14., 23.])\n",
    "#y_start = np.array([ 8., 16.])\n",
    "iterations = 1100\n",
    "burnin = 100\n",
    "\n",
    "# coupling tolerance\n",
    "chains_matching_tolerance = 1e-3\n",
    "\n",
    "# time averaged estimator parameter\n",
    "test_function_h = lambda x: x"
   ]
  },
  {
   "cell_type": "markdown",
   "id": "49cffef4-3cf7-4ebc-bcf2-f1a4dc74be05",
   "metadata": {},
   "source": [
    "## Generation of data\n",
    "Data are generated and placed in the variable \"observations_y\"; those data will be used in the likelihood function.\n",
    "\n",
    "ATTENZIONE: RISPETTO AI CODICI PRECEDENTI LE observations_y SONO TRASPOSTE!"
   ]
  },
  {
   "cell_type": "code",
   "execution_count": 3,
   "id": "2b19420d-b3ba-4ae5-818b-3a1e3eb026de",
   "metadata": {},
   "outputs": [
    {
     "data": {
      "text/plain": [
       "(100,)"
      ]
     },
     "execution_count": 3,
     "metadata": {},
     "output_type": "execute_result"
    }
   ],
   "source": [
    "observations_y = np.array(\n",
    "    np.random.normal(\n",
    "        loc=observations_mean, \n",
    "        scale=(observations_sd**2), \n",
    "        size=number_of_data\n",
    "    )\n",
    ")\n",
    "observations_y.shape"
   ]
  },
  {
   "cell_type": "markdown",
   "id": "4a8f71ee-a712-4d05-94da-2c90f2f2d4b7",
   "metadata": {},
   "source": [
    "### Distributions functions"
   ]
  },
  {
   "cell_type": "markdown",
   "id": "bbbb5451-9782-4867-8012-1c70abcda7e1",
   "metadata": {},
   "source": [
    "Likelihood functions: the first given the mean calculate the probability (pdf) of a given value, the second return a number of samples, as much as value, the third is the likelihood function."
   ]
  },
  {
   "cell_type": "code",
   "execution_count": 4,
   "id": "cf4ae02e-a2ac-4055-8c5e-4ab160f9d2e5",
   "metadata": {},
   "outputs": [],
   "source": [
    "def single_likelihood_prob(mean, value):\n",
    "    return sstat.norm(mean, (observations_sd**2)).pdf(value)"
   ]
  },
  {
   "cell_type": "code",
   "execution_count": 5,
   "id": "7a28a72c-5737-4f27-962c-17464d23f9a0",
   "metadata": {},
   "outputs": [],
   "source": [
    "def single_likelihood_sample(mean, value):\n",
    "    array = sstat.norm(mean, (observations_sd**2)).rvs(value)\n",
    "    return np.transpose(array)"
   ]
  },
  {
   "cell_type": "code",
   "execution_count": 6,
   "id": "d3f4c854-9566-453b-86c4-59b49ccf9333",
   "metadata": {},
   "outputs": [],
   "source": [
    "def likelihood(mu):\n",
    "    tau = 1/(observations_sd**2)\n",
    "    return np.exp(  \n",
    "        -(tau/2)*( \n",
    "            number_of_data * (mu - observations_mean)**2 \n",
    "            + np.sum( (np.transpose(observations_y) - observations_mean)**2, axis = 0) \n",
    "            )  \n",
    "        ) * 10.**10 #this coefficient is to avoid annihilation - it's a rescale"
   ]
  },
  {
   "cell_type": "markdown",
   "id": "5b548a79-f7e7-4158-893c-9a181b312ac0",
   "metadata": {},
   "source": [
    "Prior function and prior sampler (only one sample for each call)"
   ]
  },
  {
   "cell_type": "code",
   "execution_count": 7,
   "id": "7e61ce76-6fd1-4325-9f4b-d33a8f4ada37",
   "metadata": {},
   "outputs": [],
   "source": [
    "def prior(value):\n",
    "    return sstat.norm(\n",
    "        prior_mean, \n",
    "        (prior_sd**2)\n",
    "        ).pdf(value)"
   ]
  },
  {
   "cell_type": "code",
   "execution_count": 8,
   "id": "4ca52250-aa24-4952-b072-ac7300200ce4",
   "metadata": {},
   "outputs": [],
   "source": [
    "def prior_sampling():\n",
    "    return sstat.norm(\n",
    "        prior_mean, \n",
    "        (prior_sd**2)\n",
    "        ).rvs(1)"
   ]
  },
  {
   "cell_type": "markdown",
   "id": "ee41ddbe-217f-41db-9ae7-6a317b5cbb5a",
   "metadata": {
    "jp-MarkdownHeadingCollapsed": true,
    "tags": []
   },
   "source": [
    "Target distribution"
   ]
  },
  {
   "cell_type": "code",
   "execution_count": 9,
   "id": "e0f7af40-f606-4e7a-8885-91122a4bcfb6",
   "metadata": {
    "tags": []
   },
   "outputs": [],
   "source": [
    "def target(value):\n",
    "    return likelihood(value)*prior(value)"
   ]
  },
  {
   "cell_type": "markdown",
   "id": "e99682ce-913a-4976-9bad-6d068b92585e",
   "metadata": {},
   "source": [
    "Proposal probability and sample (one for each call), given the mean"
   ]
  },
  {
   "cell_type": "code",
   "execution_count": 10,
   "id": "e46607da-3c95-4909-82f6-d13fb06023f6",
   "metadata": {},
   "outputs": [],
   "source": [
    "def proposal_prob(mean, value):\n",
    "    proposal_sd = 0.1\n",
    "    return sstat.norm(mean, (proposal_sd**2)).pdf(value)"
   ]
  },
  {
   "cell_type": "code",
   "execution_count": 11,
   "id": "bfadef6c-9dcf-46ed-94f8-e2c65d99c449",
   "metadata": {},
   "outputs": [],
   "source": [
    "def proposal_sample(mean):\n",
    "    proposal_sd = 0.1\n",
    "    return sstat.norm(mean, (proposal_sd**2)).rvs(1)"
   ]
  },
  {
   "cell_type": "markdown",
   "id": "3eca7614-6537-4310-95c1-09f36cf9f345",
   "metadata": {},
   "source": [
    "Kernel for ABC"
   ]
  },
  {
   "cell_type": "code",
   "execution_count": 12,
   "id": "310f9ae1-4758-4d4c-a9d5-f86a39b17fa4",
   "metadata": {},
   "outputs": [],
   "source": [
    "def kernel(u):\n",
    "    return 1/(np.sqrt(2*math.pi))*np.exp(-1/2*u**2)"
   ]
  },
  {
   "cell_type": "code",
   "execution_count": 13,
   "id": "cd1bd0b5-d21b-4b69-aaa6-70de409ad3c2",
   "metadata": {},
   "outputs": [],
   "source": [
    "def K_h(u,h):\n",
    "    return kernel(u/h)/h"
   ]
  },
  {
   "cell_type": "markdown",
   "id": "90e22d86-b510-40a8-9bac-eaa91a851276",
   "metadata": {},
   "source": [
    "Summary statistics"
   ]
  },
  {
   "cell_type": "code",
   "execution_count": 14,
   "id": "2d191bf1-63bf-4165-89af-b87fe2cf7f0c",
   "metadata": {},
   "outputs": [],
   "source": [
    "def S1(y):\n",
    "    quantiles=np.empty(9)\n",
    "    for i in range(9):\n",
    "        quantiles[i] = np.quantile(\n",
    "            y,\n",
    "            0.1*(i+1)\n",
    "        ) \n",
    "    return quantiles"
   ]
  },
  {
   "cell_type": "code",
   "execution_count": 15,
   "id": "2d746d7d-6513-4e76-91d2-0c61c428a017",
   "metadata": {},
   "outputs": [],
   "source": [
    "def S2(y):\n",
    "      return np.mean(y)"
   ]
  },
  {
   "cell_type": "markdown",
   "id": "067ff4c5-d9f3-45e8-a4e2-021ce616f3aa",
   "metadata": {},
   "source": [
    "## Functions"
   ]
  },
  {
   "cell_type": "markdown",
   "id": "9120084e-e867-4de4-a48f-6128814a89f8",
   "metadata": {},
   "source": [
    "### Maximal coupling\n",
    "The algorithm:\n",
    "1)  \n",
    "    1) sample $X \\sim p$\n",
    "    2) sample $W|X \\sim \\mathcal{U}\\{[0,p(X)]\\}$ \\\n",
    "    if $W\\leq q(X)$ then output $(X,X)$\n",
    "2)  otherwise\n",
    "    1) sample $Y^\\star \\sim q$\n",
    "    2) sample $W^\\star | Y^\\star \\sim \\mathcal{U}\\{[0, q(Y^\\star)]\\}$ \\\n",
    "    until $W^\\star > p(Y^\\star)$ and output $(X,Y^\\star)$\n",
    "   "
   ]
  },
  {
   "cell_type": "code",
   "execution_count": 16,
   "id": "ac35a816-97e2-4935-bfde-0a9fd313ec36",
   "metadata": {},
   "outputs": [],
   "source": [
    "def maximal_coupling(x,y):     \n",
    "    dimensionality = 1\n",
    "\n",
    "    #sampling of X - point 1.A\n",
    "    #the new candidate is sampled from a normal centered in the given value\n",
    "    #x_candidate = np.random.multivariate_normal(mean=x, cov=np.eye(dimensionality), size=1)\n",
    "    x_candidate = sstat.multivariate_normal(x,np.eye(dimensionality)).rvs(1)\n",
    "    \n",
    "    #sampling of W|X - point 1.B\n",
    "    #evaluate pdf centered in x with scale 1 in x_cadidate\n",
    "    pX = sstat.multivariate_normal(x,np.eye(dimensionality)).pdf(x_candidate)\n",
    "    W = tfd.Uniform(0,pX).sample()\n",
    "    #sampling from uniform is inside the cycle on parameters \n",
    "    \n",
    "    # evaluation of qx - point 1 IF\n",
    "    qX = sstat.multivariate_normal(y, np.eye(dimensionality)).pdf(x_candidate)\n",
    "    \n",
    "    if W < qX:\n",
    "        x = x_candidate\n",
    "        y = x_candidate\n",
    "    else:\n",
    "        while True:\n",
    "            #sampling of Y* - point 2.A\n",
    "            y_candidate = sstat.multivariate_normal(y,np.eye(dimensionality)).rvs(1)\n",
    "\n",
    "            #sampling of W* - point 2.B\n",
    "            qY = sstat.multivariate_normal(y, np.eye(dimensionality)).pdf(y_candidate)\n",
    "            W =  tfd.Uniform(0,qY).sample()\n",
    "\n",
    "            # evaluation of py - point 2\n",
    "            pY = sstat.multivariate_normal(x,np.eye(dimensionality)).pdf(y_candidate)\n",
    "            if W > pY :\n",
    "                break\n",
    "\n",
    "        x = x_candidate\n",
    "        y = y_candidate\n",
    "\n",
    "    return (x, y)"
   ]
  },
  {
   "cell_type": "markdown",
   "id": "d1b23104-17c6-4570-a30a-fa9771b931f9",
   "metadata": {},
   "source": [
    "### Maximal coupling for ABC"
   ]
  },
  {
   "cell_type": "code",
   "execution_count": 17,
   "id": "88ec44e6-039e-4c0f-ba92-351931c50de5",
   "metadata": {},
   "outputs": [],
   "source": [
    "def maximal_coupling_abc(x,y):     \n",
    "    dimensionality = 1\n",
    "\n",
    "    #sampling of X - point 1.A\n",
    "    #the new candidate is sampled from a normal centered in the given value\n",
    "    #x_candidate = np.random.multivariate_normal(mean=x, cov=np.eye(dimensionality), size=1)\n",
    "    x_candidate = single_likelihood_sample(x, 1)\n",
    "    \n",
    "    #sampling of W|X - point 1.B\n",
    "    #evaluate pdf centered in x with scale 1 in x_cadidate\n",
    "    pX = single_likelihood_prob(x, x_candidate)\n",
    "    W = tfd.Uniform(0,pX).sample()\n",
    "    #sampling from uniform is inside the cycle on parameters \n",
    "    \n",
    "    # evaluation of qx - point 1 IF\n",
    "    qX = single_likelihood_prob(y, x_candidate)\n",
    "    if W < qX:\n",
    "        x = x_candidate\n",
    "        y = x_candidate\n",
    "    else:\n",
    "        while True:\n",
    "            #sampling of Y* - point 2.A\n",
    "            y_candidate = single_likelihood_sample(y, 1)\n",
    "\n",
    "            #sampling of W* - point 2.B\n",
    "            qY = single_likelihood_prob(y, y_candidate)\n",
    "            W =  tfd.Uniform(0,qY).sample()\n",
    "\n",
    "            # evaluation of py - point 2\n",
    "            pY = single_likelihood_prob(x, y_candidate)\n",
    "            if W > pY :\n",
    "                break\n",
    "\n",
    "        x = x_candidate\n",
    "        y = y_candidate\n",
    "\n",
    "    return (x, y)"
   ]
  },
  {
   "cell_type": "markdown",
   "id": "3031eaff-cea9-4b42-8116-5b02d3881222",
   "metadata": {},
   "source": [
    "### Metropolis Hastings - with ABC\n",
    "THE COMPLETE ALGORITM HAS NOT BEEN WRITTEN HERE\n",
    "The algorithm:\n",
    "1) sample $(X^\\star, Y^\\star) | (X_t, Y_{t-1})$ from a maximal coupling of $q(X_t, \\cdot)$ and $q(Y_{t-1}, \\cdot)$\n",
    "2) sample $U \\sim \\mathcal{U}([0,1])$,\n",
    "3) if $$ U\n",
    " \t\t\t\t\\leq \\min\\bigg \\{\n",
    " \t\t\t\t1,\n",
    " \t\t\t\t\\frac{ \\pi(X^\\star)q(X^\\star,X_t)}{\n",
    " \t\t\t\t\t\\pi(X_t)q(X_t, X^\\star)}\n",
    " \t\t\t\t\\bigg \\} $$ then $X_{t+1} = X^\\star$; otherwise $X_t = X_{t-1}$;\n",
    "4) if $$ U\t\\leq \\min\\bigg \\{ \n",
    " \t\t\t\t1,\n",
    " \t\t\t\t\\frac{ \\pi(Y^\\star)q(Y^\\star,Y_t)}{\n",
    " \t\t\t\t\t\\pi(Y_t)q(Y_t, Y^\\star)}\n",
    " \t\t\t\t\\bigg \\} $$\n",
    "    then $Y_{t+1} = Y^\\star$; otherwise $Y_t = Y_{t-1}$.\n",
    "   "
   ]
  },
  {
   "cell_type": "code",
   "execution_count": 18,
   "id": "b7204cb2-cba3-40fa-8faa-33d5d62c0202",
   "metadata": {},
   "outputs": [],
   "source": [
    "def metropolis_hastings(iterations, observations_y, S, h):\n",
    "    \n",
    "    x = prior_sampling()\n",
    "    y = prior_sampling()\n",
    "\n",
    "    \n",
    "    dimensionality = 1\n",
    "    \n",
    "    x = np.array(x)  # problema di compatibilità\n",
    "    y = np.array(y)\n",
    "    \n",
    "    # initializing empty np arrays\n",
    "    X = np.empty([dimensionality, iterations])\n",
    "    Y = np.empty([dimensionality, iterations])\n",
    "    \n",
    "    #ABC\n",
    "    size_abc = 100\n",
    "    \n",
    "    X_abc = np.empty([dimensionality, size_abc])\n",
    "    Y_abc = np.empty([dimensionality, size_abc])\n",
    "    \n",
    "    observations_s = S(observations_y)\n",
    "\n",
    "    for j in range (size_abc):\n",
    "        (X_abc[:,j], Y_abc[:,j]) = maximal_coupling_abc(x,y)\n",
    "    \n",
    "    sx = S(X_abc)\n",
    "    sy = S(Y_abc)\n",
    "    \n",
    "        \n",
    "    while K_h(np.linalg.norm(sx - observations_s),h) <= 0:\n",
    "        x = prior_sampling()\n",
    "        sx = S( single_likelihood_sample(x, size_abc) )\n",
    "\n",
    "    while K_h(np.linalg.norm(sy - observations_s),h) <= 0:\n",
    "        y = prior_sampling()\n",
    "        sy = S(single_likelihood_sample(y, size_abc))\n",
    "        \n",
    "    x = np.array(x)  # problema di compatibilità\n",
    "    y = np.array(y)\n",
    "\n",
    "    for i in range(iterations):\n",
    "        # sample from maximal coupling - point 1\n",
    "        (x_candidate, y_candidate) = maximal_coupling(x, y) #da qui deve uscire già multivariato\n",
    "        x_candidate = np.array(x_candidate)\n",
    "        y_candidate = np.array(y_candidate)\n",
    "        \n",
    "        #ABC start\n",
    "        #X_abc = np.empty([dimensionality, size_abc])\n",
    "        #Y_abc = np.empty([dimensionality, size_abc])\n",
    "        \n",
    "        for j in range(size_abc):\n",
    "            (X_abc[:,j], Y_abc[:,j]) = maximal_coupling_abc(x_candidate, y_candidate)\n",
    "        \n",
    "        sx_candidate = S(X_abc) \n",
    "        sy_candidate = S(Y_abc)\n",
    "        \n",
    "           \n",
    "        #print('lmao')\n",
    "        #print(X_prob_abc)\n",
    "        #print(Y_prob_abc)\n",
    "        # sample from a uniform - point 2\n",
    "        u = tfd.Uniform(0,1).sample()\n",
    "        \n",
    "        X_prob_abc = min(\n",
    "                [1.,(\n",
    "                     K_h(np.linalg.norm(sx_candidate - observations_s),h)*\n",
    "                     prior(x_candidate)\n",
    "                 )/(\n",
    "                     K_h(np.linalg.norm(sx - observations_s),h)*\n",
    "                     prior(x)\n",
    "                )]\n",
    "            )\n",
    "\n",
    "        Y_prob_abc = min(\n",
    "                [1.,(\n",
    "                    K_h(np.linalg.norm(sy_candidate - observations_s),h)*\n",
    "                    prior(y_candidate)\n",
    "                )/(\n",
    "                    K_h(np.linalg.norm(sy - observations_s),h)*\n",
    "                    prior(y)\n",
    "                )]\n",
    "            )\n",
    "\n",
    "        # points 3 and 4 are to be executed on all the parameters which determine the dimensionality\n",
    "        #for param in range(dimensionality):\n",
    "        # check if the sampling of X is accepted or to consider the previous - point 3\n",
    "        \n",
    "\n",
    "        if u < X_prob_abc :\n",
    "            x = x_candidate\n",
    "            sx = sx_candidate\n",
    "\n",
    "        X[:,i]=x\n",
    "\n",
    "        if u < Y_prob_abc :\n",
    "            y = y_candidate\n",
    "            sy = sy_candidate\n",
    "\n",
    "        Y[:, i] = y\n",
    "          \n",
    "    return X, Y"
   ]
  },
  {
   "cell_type": "markdown",
   "id": "d6e0b530-77f3-4551-affa-79f2a7aba316",
   "metadata": {
    "tags": []
   },
   "source": [
    "### Time Averaged estimator\n",
    "The algorithm:\n",
    "1) draw $X_0$ and $Y_0$ from an initial distribution $\\pi_0$ and draw $X_1 \\sim P(X_0, \\cdot)$;\n",
    "2) set $t=1$: while $t<\\max\\{m,\\tau\\}$ and:\n",
    "    1) draw $(X_{t+1}, Y_t)\\sim \\bar P \\{(X_t, Y_{t-1}), \\cdot \\}$; \n",
    "    2) set $t \\leftarrow t+1$;\n",
    "3) compute the time-averaged estimator:\n",
    "\t$$ H_{k:m}(X,Y)\n",
    "\t \t\t= \\frac{1}{m-k+1}\\sum_{l=k}^{m}h(X_l) \n",
    "\t \t\t+ \\sum_{l=k+1}^{\\tau -1}\\min(1, \\frac{l-k}{m-k+1})\\{h(X_l)-h(Y_{l-1})\\} .\n",
    "\t \t\t$$"
   ]
  },
  {
   "cell_type": "code",
   "execution_count": 19,
   "id": "f8396cbe-5186-4872-8b50-82b8afaf8488",
   "metadata": {},
   "outputs": [],
   "source": [
    "def time_averaged_estimator(red_chain, blue_chain, iterations, burnin, meeting_time):\n",
    "    #this function calculates only the formula at point 3\n",
    "    \n",
    "    #first addend\n",
    "    first_sum = 0\n",
    "    for i in range(burnin, iterations):\n",
    "        first_sum += test_function_h(red_chain[i])\n",
    "    \n",
    "    #second addend\n",
    "    second_sum = 0\n",
    "    if meeting_time-1 > burnin + 1:\n",
    "        for i in range(burnin + 1, meeting_time):\n",
    "            # calculing the coefficient, and the min\n",
    "            coef = (1-burnin)(iterations - burnin + 1)\n",
    "            if coef > 1:\n",
    "                coef = 1\n",
    "            second_sum += coef * (test_function_h(red_chain[i])- test_function_h(blue_chain[i]))\n",
    "            \n",
    "    return (1/(iterations - burnin + 1))*first_sum + second_sum\n",
    "    "
   ]
  },
  {
   "cell_type": "markdown",
   "id": "733d43b3-f427-4683-a6f1-35a1a8646791",
   "metadata": {},
   "source": [
    "### Parallelized operations\n",
    "This function is given to each available processor"
   ]
  },
  {
   "cell_type": "code",
   "execution_count": 20,
   "id": "608973e4-9983-4894-a375-a7409cfb01f6",
   "metadata": {},
   "outputs": [],
   "source": [
    "def parallelized_operations(iterations, observations_y, S, h, burnin, chains_matching_tolerance, q_chain, q_meeting_time, q_time_averaged_estimator):\n",
    "    # setting a random seed - otherwise multiprocessing has the same seed and so they end up in the same chains!\n",
    "    np.random.seed(int(os.getpid() * time.time()) % 123456789 )\n",
    "    tfr.set_seed(int(os.getpid() * time.time()) % 123456789 )\n",
    "    \n",
    "    #running metropolis hastings and obtaining two chains\n",
    "    (red_chain, blue_chain) = metropolis_hastings(iterations, observations_y, S, h)\n",
    "    \n",
    "    #get the dimensionality from one of the chains\n",
    "    dimensionality = red_chain.shape[0]\n",
    "\n",
    "    #finding the meeting time\n",
    "    meeting_time = iterations + 2\n",
    "    for i in range(0, iterations):\n",
    "        if (abs(red_chain[:,i]-blue_chain[:,i]).all() < chains_matching_tolerance) & \\\n",
    "            (abs(red_chain[:,i]-blue_chain[:,i]).all() < chains_matching_tolerance) & \\\n",
    "            (abs(red_chain[:,i]-blue_chain[:,i]).all() < chains_matching_tolerance):\n",
    "            meeting_time = i\n",
    "            break\n",
    "    \n",
    "    #checking if the chains met\n",
    "    if meeting_time == iterations+2:\n",
    "        print('Matching did not occurred!')\n",
    "        print(meeting_time)\n",
    "        return\n",
    "    \n",
    "    #checking if the chains met before burnin\n",
    "    if meeting_time >= burnin:\n",
    "        print('Meeting time occurs after burnin iterations!')\n",
    "        print(meeting_time)\n",
    "        return\n",
    "    \n",
    "    time_averaged_estimation = np.empty(dimensionality)\n",
    "    \n",
    "    for param in range(dimensionality):\n",
    "        time_averaged_estimation[param] = time_averaged_estimator(\n",
    "            red_chain[param,], \n",
    "            blue_chain[param,], \n",
    "            iterations, burnin, meeting_time\n",
    "        )\n",
    "    #print(red_chain)\n",
    "    q_chain.put( red_chain )\n",
    "    q_meeting_time.put( meeting_time )\n",
    "    q_time_averaged_estimator.put( time_averaged_estimation )\n",
    "    \n",
    "    return\n",
    "\n",
    "    "
   ]
  },
  {
   "cell_type": "markdown",
   "id": "5ab2fa33-4b3d-4673-80ee-7c7a697a3315",
   "metadata": {},
   "source": [
    "## Execution"
   ]
  },
  {
   "cell_type": "markdown",
   "id": "9cde0351-dc7f-44e7-87fc-71718cf2062e",
   "metadata": {},
   "source": [
    "### Multiprocessing settings"
   ]
  },
  {
   "cell_type": "code",
   "execution_count": 21,
   "id": "ca5d7d45-3181-42f8-8bfd-a7d3974db2a7",
   "metadata": {},
   "outputs": [
    {
     "data": {
      "text/plain": [
       "6"
      ]
     },
     "execution_count": 21,
     "metadata": {},
     "output_type": "execute_result"
    }
   ],
   "source": [
    "# this returns the number of available processors\n",
    "num_processes = os.cpu_count()-2 #nel caso rimuovere il -2\n",
    "num_processes"
   ]
  },
  {
   "cell_type": "code",
   "execution_count": 22,
   "id": "bca66c26-aced-49ee-b31c-7fc80de4daf5",
   "metadata": {},
   "outputs": [],
   "source": [
    "# this set the number of iteration, it should be a multiple of the number of available processors\n",
    "num_batches_set = 12 \n",
    "num_batches = num_batches_set"
   ]
  },
  {
   "cell_type": "code",
   "execution_count": 23,
   "id": "3f86a375-80cc-4cf4-a85d-5b8d1e2d1995",
   "metadata": {},
   "outputs": [],
   "source": [
    "# this initialize a shared memory between processors\n",
    "# note of Queue(maxsize = 0)\n",
    "q_chain = SimpleQueue()\n",
    "q_meeting_time = SimpleQueue()\n",
    "q_time_averaged_estimator = SimpleQueue()"
   ]
  },
  {
   "cell_type": "markdown",
   "id": "1bef141c-6e1e-469a-b762-aae40d030673",
   "metadata": {},
   "source": [
    "### Multiprocessing execution"
   ]
  },
  {
   "cell_type": "code",
   "execution_count": 24,
   "id": "33a4a10f-1c87-44f3-88a2-20ab3147cdde",
   "metadata": {},
   "outputs": [
    {
     "name": "stdout",
     "output_type": "stream",
     "text": [
      "There are 12 left\n",
      "There are 6 left\n",
      "All processes are complete!\n"
     ]
    }
   ],
   "source": [
    "dimensionality = 1 # observations_y.shape[0]\n",
    "\n",
    "samplings = np.empty([dimensionality, 0])\n",
    "time_averaged_estimation_sum = 0\n",
    "meeting_times = np.empty(0)\n",
    "correct_chains = 0\n",
    "\n",
    "while num_batches > 0:\n",
    "    \n",
    "    print(\"There are \" + str(num_batches) + \" left\")\n",
    "    \n",
    "    if num_batches >= num_processes:\n",
    "        current_number_processes = num_processes\n",
    "    else:\n",
    "        current_number_processes = num_batches\n",
    "    \n",
    "    processes = []\n",
    "    for batch in range(current_number_processes):\n",
    "        p = Process(\n",
    "            target = parallelized_operations, \n",
    "            args = (iterations,  \n",
    "                    observations_y, S2, 0.2,\n",
    "                    burnin, \n",
    "                    chains_matching_tolerance, \n",
    "                    q_chain, q_meeting_time, q_time_averaged_estimator)\n",
    "        )\n",
    "        processes.append(p)\n",
    "\n",
    "    num_batches -= current_number_processes\n",
    "    \n",
    "    # Starting the processes in a batch\n",
    "    for p in processes:\n",
    "        p.start()\n",
    "        time.sleep(0.1)\n",
    "\n",
    "    # This assures that each process in the batch is complete\n",
    "    for p in processes:\n",
    "        p.join()\n",
    "\n",
    "    #unfolding queues\n",
    "    while not q_chain.empty():\n",
    "        red_chain = q_chain.get()\n",
    "        samplings = np.append(\n",
    "            samplings,\n",
    "            red_chain[:,burnin :],\n",
    "            axis = 1\n",
    "        )\n",
    "\n",
    "\n",
    "        meeting_time = q_meeting_time.get()\n",
    "        time_averaged_estimation = q_time_averaged_estimator.get()\n",
    "        \n",
    "        if meeting_time <= burnin: #this to avoid a biased time averaged estimator\n",
    "            time_averaged_estimation_sum += time_averaged_estimation\n",
    "            correct_chains += 1\n",
    "        \n",
    "        meeting_times = np.append(\n",
    "            meeting_times,\n",
    "            meeting_time\n",
    "        )\n",
    "    \n",
    "del q_chain, q_meeting_time, q_time_averaged_estimator\n",
    "print('All processes are complete!')"
   ]
  },
  {
   "cell_type": "markdown",
   "id": "82f0fee5-6046-40f9-aa7f-761537169e2a",
   "metadata": {
    "id": "4f637d1f-9d0f-43ad-9074-f49f894035b1",
    "tags": []
   },
   "source": [
    "## Output and plotting"
   ]
  },
  {
   "cell_type": "markdown",
   "id": "f883d8ac-19d5-4882-b4c2-0dc308bff644",
   "metadata": {},
   "source": [
    "### Correct executions infos"
   ]
  },
  {
   "cell_type": "code",
   "execution_count": 25,
   "id": "be5d59dc-946f-42fb-b6a3-ef8aa076b344",
   "metadata": {
    "colab": {
     "base_uri": "https://localhost:8080/"
    },
    "id": "622e9eba-af9e-4179-b0ef-8a581b23ed24",
    "outputId": "ba951551-6841-4eac-e9f3-9641f388fe3e"
   },
   "outputs": [
    {
     "name": "stdout",
     "output_type": "stream",
     "text": [
      "[ 3.  2. 16.  5. 24. 21. 15.  2. 14. 17. 13. 15.]\n",
      "12\n",
      "0\n"
     ]
    }
   ],
   "source": [
    "print(meeting_times)\n",
    "print(len(meeting_times))\n",
    "print(num_batches_set-len(meeting_times))"
   ]
  },
  {
   "cell_type": "code",
   "execution_count": 26,
   "id": "35e3876f-7b42-4572-855d-cd2a92a63409",
   "metadata": {},
   "outputs": [
    {
     "data": {
      "text/plain": [
       "12000"
      ]
     },
     "execution_count": 26,
     "metadata": {},
     "output_type": "execute_result"
    }
   ],
   "source": [
    "samplings.size"
   ]
  },
  {
   "cell_type": "markdown",
   "id": "d973a7ba-74c6-441f-ada5-e71086347da5",
   "metadata": {},
   "source": [
    "### Time averaged estimator"
   ]
  },
  {
   "cell_type": "code",
   "execution_count": 27,
   "id": "44df12e6-1252-4c86-bc83-47437f45c617",
   "metadata": {
    "colab": {
     "base_uri": "https://localhost:8080/"
    },
    "id": "03e050d8-49f0-4c07-a0a2-28f408932437",
    "outputId": "f591dd0e-d445-4b5b-c10e-75b3b4273ca2"
   },
   "outputs": [
    {
     "data": {
      "text/plain": [
       "array([10.1706378])"
      ]
     },
     "execution_count": 27,
     "metadata": {},
     "output_type": "execute_result"
    }
   ],
   "source": [
    "time_averaged_estimation_mean = time_averaged_estimation_sum/correct_chains\n",
    "time_averaged_estimation_mean"
   ]
  },
  {
   "cell_type": "code",
   "execution_count": 28,
   "id": "ffce2be9-af4f-4e8c-be7a-957ba63490ea",
   "metadata": {},
   "outputs": [
    {
     "data": {
      "text/plain": [
       "(1, 12000)"
      ]
     },
     "execution_count": 28,
     "metadata": {},
     "output_type": "execute_result"
    }
   ],
   "source": [
    "samplings.shape"
   ]
  },
  {
   "cell_type": "code",
   "execution_count": 29,
   "id": "331f6ab2-dcd9-49ec-a3bb-3b024118e72e",
   "metadata": {},
   "outputs": [
    {
     "data": {
      "text/plain": [
       "[<matplotlib.lines.Line2D at 0x7fa824307790>]"
      ]
     },
     "execution_count": 29,
     "metadata": {},
     "output_type": "execute_result"
    },
    {
     "data": {
      "image/png": "[encoded data removed]",
      "text/plain": [
       "<Figure size 432x288 with 1 Axes>"
      ]
     },
     "metadata": {
      "needs_background": "light"
     },
     "output_type": "display_data"
    }
   ],
   "source": [
    "plt.plot(samplings[0,:])"
   ]
  },
  {
   "cell_type": "code",
   "execution_count": 30,
   "id": "4553a865-d28c-4396-a964-74229944021b",
   "metadata": {},
   "outputs": [
    {
     "data": {
      "text/plain": [
       "(array([  2.,   0.,   0.,   6.,   9.,  22.,  45.,  35., 106.,  83.,  84.,\n",
       "        139., 289., 190., 203., 240., 309., 301., 495., 489., 403., 607.,\n",
       "        591., 624., 615., 566., 628., 647., 545., 487., 487., 467., 458.,\n",
       "        375., 305., 237., 220., 130., 129., 136.,  96., 100.,  25.,  19.,\n",
       "          8.,  12.,  34.,   0.,   1.,   1.]),\n",
       " array([ 9.03496604,  9.08055266,  9.12613929,  9.17172591,  9.21731253,\n",
       "         9.26289915,  9.30848577,  9.3540724 ,  9.39965902,  9.44524564,\n",
       "         9.49083226,  9.53641889,  9.58200551,  9.62759213,  9.67317875,\n",
       "         9.71876537,  9.764352  ,  9.80993862,  9.85552524,  9.90111186,\n",
       "         9.94669849,  9.99228511, 10.03787173, 10.08345835, 10.12904497,\n",
       "        10.1746316 , 10.22021822, 10.26580484, 10.31139146, 10.35697809,\n",
       "        10.40256471, 10.44815133, 10.49373795, 10.53932457, 10.5849112 ,\n",
       "        10.63049782, 10.67608444, 10.72167106, 10.76725769, 10.81284431,\n",
       "        10.85843093, 10.90401755, 10.94960417, 10.9951908 , 11.04077742,\n",
       "        11.08636404, 11.13195066, 11.17753729, 11.22312391, 11.26871053,\n",
       "        11.31429715]),\n",
       " <BarContainer object of 50 artists>)"
      ]
     },
     "execution_count": 30,
     "metadata": {},
     "output_type": "execute_result"
    },
    {
     "data": {
      "image/png": "[encoded data removed]",
      "text/plain": [
       "<Figure size 432x288 with 1 Axes>"
      ]
     },
     "metadata": {
      "needs_background": "light"
     },
     "output_type": "display_data"
    }
   ],
   "source": [
    "plt.hist(samplings[0,:], bins = 50)"
   ]
  },
  {
   "cell_type": "code",
   "execution_count": 31,
   "id": "ba01e50a-50e8-4b3a-b18e-c821c61223b0",
   "metadata": {},
   "outputs": [],
   "source": [
    "my_sampling = np.array(samplings[0,:])"
   ]
  },
  {
   "cell_type": "markdown",
   "id": "35d51f30-d4cc-40db-bdf5-72f170373411",
   "metadata": {
    "tags": []
   },
   "source": [
    "### Plots"
   ]
  },
  {
   "cell_type": "code",
   "execution_count": 32,
   "id": "3a4c8677-550f-4ece-82ed-d6480a7aa5d4",
   "metadata": {
    "id": "hYIUQfdOdmwL"
   },
   "outputs": [],
   "source": [
    "sns.set_theme(style=\"darkgrid\")\n",
    "plt.rcParams[\"figure.figsize\"] = (12,4)"
   ]
  },
  {
   "cell_type": "markdown",
   "id": "4c365e8d",
   "metadata": {},
   "source": [
    "#### Sampling plot and Histogram for all variables"
   ]
  },
  {
   "cell_type": "code",
   "execution_count": 46,
   "id": "2887f8c7-3a30-47ae-b463-f9bbe698645d",
   "metadata": {
    "colab": {
     "base_uri": "https://localhost:8080/",
     "height": 265
    },
    "id": "0972b174-c9db-402b-affd-a96c9bdab751",
    "outputId": "4521201d-9cbc-49d4-dc7e-7fcead51f148"
   },
   "outputs": [
    {
     "data": {
      "image/png": "[encoded data removed]",
      "text/plain": [
       "<Figure size 864x288 with 1 Axes>"
      ]
     },
     "metadata": {},
     "output_type": "display_data"
    }
   ],
   "source": [
    "plt.plot(my_sampling)\n",
    "plt.savefig('coupling_abc_univ_sampling.png')"
   ]
  },
  {
   "cell_type": "code",
   "execution_count": 47,
   "id": "b05da02e-092b-4bc8-839e-e60adf4de323",
   "metadata": {
    "colab": {
     "base_uri": "https://localhost:8080/",
     "height": 265
    },
    "id": "c35c9807-9717-440e-94f8-d68517828a97",
    "outputId": "0a7ed36e-4dc6-4104-8adb-83c060dfde4e"
   },
   "outputs": [
    {
     "data": {
      "image/png": "[encoded data removed]",
      "text/plain": [
       "<Figure size 864x288 with 1 Axes>"
      ]
     },
     "metadata": {},
     "output_type": "display_data"
    }
   ],
   "source": [
    "plt.hist(my_sampling, bins = 30, density = True)\n",
    "plt.savefig('coupling_abc_univ_histogram.png')"
   ]
  },
  {
   "cell_type": "markdown",
   "id": "8608d82f",
   "metadata": {},
   "source": [
    "#### Meeting time for each variable\n",
    "Note that a MH is runned to have both chains as an example"
   ]
  },
  {
   "cell_type": "raw",
   "id": "91119c10",
   "metadata": {},
   "source": [
    "plt.hist(samplings, bins = 20, density = True, label = \"Sample\")\n",
    "sns.kdeplot(samplings, label = \"Kernel estimation\")\n",
    "plt.legend()\n",
    "plt.savefig('coupling_abc_univ_histogram_kernel.png')"
   ]
  },
  {
   "cell_type": "code",
   "execution_count": 37,
   "id": "8c8d1119-31b1-49ae-be7b-15fcba6ccf0d",
   "metadata": {
    "id": "2e565470-57fe-4db0-aee1-c11b8941b230"
   },
   "outputs": [],
   "source": [
    "(red_chain, blue_chain) = metropolis_hastings(iterations,observations_y, S2, 0.2)"
   ]
  },
  {
   "cell_type": "code",
   "execution_count": 56,
   "id": "3e7b1ca6-1b04-4ef8-846b-52499968c54f",
   "metadata": {
    "colab": {
     "base_uri": "https://localhost:8080/",
     "height": 268
    },
    "id": "a06ca1d0-4f97-4bcc-91d9-8ac646e45168",
    "outputId": "c3ded6e0-296d-4a3e-bb85-708c17c1400e"
   },
   "outputs": [
    {
     "data": {
      "image/png": "[encoded data removed]",
      "text/plain": [
       "<Figure size 864x288 with 1 Axes>"
      ]
     },
     "metadata": {},
     "output_type": "display_data"
    }
   ],
   "source": [
    "plt.plot(red_chain[0,:])\n",
    "plt.plot(blue_chain[0,:])\n",
    "plt.savefig('coupling_abc_univ_chain_meeeting.png')"
   ]
  },
  {
   "cell_type": "markdown",
   "id": "269b5c40",
   "metadata": {},
   "source": [
    "#### Histograms for all variables with real posterior"
   ]
  },
  {
   "cell_type": "code",
   "execution_count": 41,
   "id": "08ed2f57-d129-4f33-89c9-57199a84f02b",
   "metadata": {
    "colab": {
     "base_uri": "https://localhost:8080/"
    },
    "id": "bhZWMzKtMFQk",
    "outputId": "9e6d7e52-655b-47ed-fddd-bb8545fc2a62"
   },
   "outputs": [
    {
     "data": {
      "text/plain": [
       "10.180808436503527"
      ]
     },
     "execution_count": 41,
     "metadata": {},
     "output_type": "execute_result"
    }
   ],
   "source": [
    "np.mean(samplings)"
   ]
  },
  {
   "cell_type": "code",
   "execution_count": 43,
   "id": "727347c0-e335-4c32-b40b-5cc791a26ad6",
   "metadata": {
    "colab": {
     "base_uri": "https://localhost:8080/"
    },
    "id": "16TBhC4zI2ad",
    "outputId": "14ab0ad1-4c72-4ce1-8b14-403390ae9139"
   },
   "outputs": [
    {
     "data": {
      "text/plain": [
       "array(0.12065857)"
      ]
     },
     "execution_count": 43,
     "metadata": {},
     "output_type": "execute_result"
    }
   ],
   "source": [
    "np.cov(samplings)"
   ]
  },
  {
   "cell_type": "code",
   "execution_count": 55,
   "id": "a627f8d2-7048-4bc4-9e64-2820e9047c23",
   "metadata": {
    "colab": {
     "base_uri": "https://localhost:8080/",
     "height": 268
    },
    "id": "5cf82fb3-c4e0-4f22-b5a2-6b147625fefc",
    "outputId": "dcee4c12-d51d-4cac-b998-0ce042dcdfae"
   },
   "outputs": [
    {
     "data": {
      "image/png": "[encoded data removed]",
      "text/plain": [
       "<Figure size 864x288 with 1 Axes>"
      ]
     },
     "metadata": {},
     "output_type": "display_data"
    }
   ],
   "source": [
    "x = np.linspace(9.2, 11.1,100)\n",
    "\n",
    "plt.hist(my_sampling, bins = 30, density=True, label='Samples')\n",
    "plt.plot(x, sstat.norm.pdf(x, 10.1844, 0.2843 ) , label= 'Posterior distribution' )\n",
    "\n",
    "plt.legend()\n",
    "\n",
    "plt.savefig('coupling_abc_univ_histogram_posterior.png')"
   ]
  },
  {
   "cell_type": "code",
   "execution_count": null,
   "id": "3840f615-76b6-4f24-bf3d-6d7a2ee60477",
   "metadata": {},
   "outputs": [],
   "source": []
  }
 ],
 "metadata": {
  "kernelspec": {
   "display_name": "Python 3 (ipykernel)",
   "language": "python",
   "name": "python3"
  },
  "language_info": {
   "codemirror_mode": {
    "name": "ipython",
    "version": 3
   },
   "file_extension": ".py",
   "mimetype": "text/x-python",
   "name": "python",
   "nbconvert_exporter": "python",
   "pygments_lexer": "ipython3",
   "version": "3.8.10"
  }
 },
 "nbformat": 4,
 "nbformat_minor": 5
}
