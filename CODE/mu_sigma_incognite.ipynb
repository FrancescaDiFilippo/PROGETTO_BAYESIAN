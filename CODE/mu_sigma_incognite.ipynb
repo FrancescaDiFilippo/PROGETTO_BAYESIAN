{
  "nbformat": 4,
  "nbformat_minor": 0,
  "metadata": {
    "colab": {
      "name": "DOUBLECOUPLING.ipynb",
      "provenance": [],
      "collapsed_sections": []
    },
    "kernelspec": {
      "name": "python3",
      "display_name": "Python 3"
    },
    "language_info": {
      "name": "python"
    }
  },
  "cells": [
    {
      "cell_type": "markdown",
      "source": [
        ""
      ],
      "metadata": {
        "id": "pumR2TWMNbb6"
      }
    },
    {
      "cell_type": "code",
      "metadata": {
        "id": "GTP28jydNmbn"
      },
      "source": [
        "import numpy as np\n",
        "import matplotlib.pyplot as plt\n",
        "import seaborn as sns\n",
        "import pandas as pd\n",
        "import scipy.stats as sstat\n",
        "from mpmath import mp\n",
        "import math\n",
        "import random\n",
        "from scipy.stats import multivariate_normal\n",
        "\n",
        "psd = pd.DataFrame\n",
        "from tensorflow_probability.substrates import numpy as tfp\n",
        "tfd = tfp.distributions"
      ],
      "execution_count": null,
      "outputs": []
    },
    {
      "cell_type": "code",
      "metadata": {
        "id": "TTSAOsuISlBL"
      },
      "source": [
        "def single_lik(mu,sigma2):\n",
        "   sigma= np.sqrt(sigma2)\n",
        "   return tfd.Normal(mu,sigma)"
      ],
      "execution_count": null,
      "outputs": []
    },
    {
      "cell_type": "code",
      "source": [
        "def prior_mu():\n",
        "    return tfd.Normal(mu0,sigma0)"
      ],
      "metadata": {
        "id": "xkExXqz-rVjc"
      },
      "execution_count": null,
      "outputs": []
    },
    {
      "cell_type": "code",
      "source": [
        "def prior_sigma2():\n",
        "    return tfd.InverseGamma(c,d)"
      ],
      "metadata": {
        "id": "9uVMhINVru2p"
      },
      "execution_count": null,
      "outputs": []
    },
    {
      "cell_type": "code",
      "source": [
        "def proposal_mu(mu):\n",
        "  return tfd.Normal(mu,1)"
      ],
      "metadata": {
        "id": "KvO2e-f8MGuh"
      },
      "execution_count": null,
      "outputs": []
    },
    {
      "cell_type": "code",
      "source": [
        "def proposal_sigma(sigma):\n",
        "  return tfd.LogNormal(sigma,0.1)"
      ],
      "metadata": {
        "id": "losm8Q2lMNOI"
      },
      "execution_count": null,
      "outputs": []
    },
    {
      "cell_type": "code",
      "metadata": {
        "id": "q7BAYb1rZ24M"
      },
      "source": [
        "def my_kernel(u):\n",
        "  return 1/(np.sqrt(2*math.pi))*np.exp(-1/2*u**2)"
      ],
      "execution_count": null,
      "outputs": []
    },
    {
      "cell_type": "code",
      "metadata": {
        "id": "wFEIc1dEa6Al"
      },
      "source": [
        "def K_h(u,h):\n",
        "  return my_kernel(u/h)/h"
      ],
      "execution_count": null,
      "outputs": []
    },
    {
      "cell_type": "code",
      "source": [
        "def S1(y):\n",
        "  s_1 = np.mean(y)\n",
        "  s_2 = np.var(y)\n",
        "  return [s_1,s_2]"
      ],
      "metadata": {
        "id": "bdJNO64L_cLP"
      },
      "execution_count": null,
      "outputs": []
    },
    {
      "cell_type": "code",
      "source": [
        "##MAXIMAL COUPLING FOR DATASET GENERATION\n",
        "#riceve sigma^2 perché c'è la radice in single_lik()\n",
        "def maximal_coupling2(mu_x,sigma_x,mu_y,sigma_y):\n",
        "\n",
        "      proposed_x = single_lik(mu_x,sigma_x).sample()\n",
        "      pX =  single_lik(mu_x,sigma_x).prob(proposed_x)\n",
        "      w = tfd.Uniform(0,1).sample()*pX\n",
        "      qX = single_lik(mu_y,sigma_y).prob(proposed_x)\n",
        "      if w < qX:\n",
        "          x_new = proposed_x\n",
        "          y_new = proposed_x\n",
        "      else:\n",
        "          t = True\n",
        "          while t == True:\n",
        "                proposed_y = single_lik(mu_y,sigma_y).sample()\n",
        "                qY =  single_lik(mu_y,sigma_y).prob(proposed_y) \n",
        "                w =  tfd.Uniform(0,1).sample()*qY\n",
        "                pY = single_lik(mu_x,sigma_x).prob(proposed_y)\n",
        "                if w > pY :\n",
        "                  t = False\n",
        "\n",
        "          x_new = proposed_x\n",
        "          y_new = proposed_y  \n",
        "          \n",
        "      return x_new,y_new"
      ],
      "metadata": {
        "id": "jVuuWN0iZce9"
      },
      "execution_count": null,
      "outputs": []
    },
    {
      "cell_type": "code",
      "source": [
        "def double_coupling(x,y):\n",
        "   \n",
        "      current_x = x\n",
        "      current_y = y  \n",
        "      proposed_x = current_x + np.random.multivariate_normal(np.zeros(2),0.1*np.identity(2))\n",
        "      pX = sstat.multivariate_normal.pdf(proposed_x,current_x,np.identity(2))\n",
        "      w = tfd.Uniform(0,1).sample()*pX\n",
        "      qX = sstat.multivariate_normal.pdf(proposed_x,current_y,np.identity(2))\n",
        "      if w < qX:\n",
        "          x_new = proposed_x\n",
        "          y_new = proposed_x\n",
        "      else:\n",
        "          t = True\n",
        "          while t == True:\n",
        "                proposed_y = current_y + np.random.multivariate_normal(np.zeros(2),0.1*np.identity(2))\n",
        "                qY =  sstat.multivariate_normal.pdf(proposed_y,current_y,1) \n",
        "                w =  tfd.Uniform(0,1).sample()*qY\n",
        "                pY = sstat.multivariate_normal.pdf(proposed_y,current_x,1)\n",
        "                if w > pY :\n",
        "                  t = False\n",
        "\n",
        "          x_new = proposed_x\n",
        "          y_new = proposed_y\n",
        "\n",
        "      return x_new, y_new"
      ],
      "metadata": {
        "id": "jAJii6fxLHKh"
      },
      "execution_count": null,
      "outputs": []
    },
    {
      "cell_type": "code",
      "metadata": {
        "id": "08d5186c-a5b1-454f-a356-aeef3b2b17ef"
      },
      "source": [
        "def abc_algo (N, S, y_obs, h):\n",
        "    acc_x = 0\n",
        "    acc_y = 0\n",
        "    s_obs = S(y_obs)\n",
        "    theta_mu_x = []\n",
        "    theta_sigma_x = []\n",
        "    theta_mu_y = []\n",
        "    theta_sigma_y = []\n",
        "    datax_current = []\n",
        "    datay_current = [] \n",
        "    theta_sigma_x0 = prior_sigma2().sample()\n",
        "    theta_sigma_y0 = prior_sigma2().sample()\n",
        "    theta_mu_x0 = prior_mu().sample()\n",
        "    theta_mu_y0 = prior_mu().sample()\n",
        "\n",
        "    for j in range (100):\n",
        "      #manda sigma^2 che poi c'è la radice nella funzione\n",
        "                  newdata_x,newdata_y = maximal_coupling2(theta_mu_x0,theta_sigma_x0,theta_mu_y0,theta_sigma_y0)\n",
        "                  datax_current.append(newdata_x)\n",
        "                  datay_current.append(newdata_y)\n",
        "    sx_0 = S(datax_current)\n",
        "    sy_0 = S(datay_current)\n",
        "\n",
        "    while K_h(np.linalg.norm(np.array(sx_0)-np.array(s_obs)),h)<=0:\n",
        "        theta_sigma_x0 = prior_sigma2().sample()\n",
        "        theta_mu_x0 = prior_mu().sample()\n",
        "        datax_0 = single_lik(theta_mu_x0,theta_sigma_x0).sample(100) \n",
        "        sx_0 = S(datax_0)\n",
        "\n",
        "\n",
        "    while K_h(np.linalg.norm(np.array(sy_0)-np.array(s_obs)),h)<=0:\n",
        "        theta_sigma_y0 =prior_sigma2().sample()\n",
        "        theta_mu_y0 = prior_mu().sample()\n",
        "        datay_0 = single_lik(theta_mu_y0,theta_sigma_y0).sample(100) \n",
        "        sy_0 = S(datay_0)\n",
        "    \n",
        "    theta_mu_x.append(theta_mu_x0)\n",
        "    theta_sigma_x.append(theta_sigma_x0)\n",
        "    theta_mu_y.append(theta_mu_y0)\n",
        "    theta_sigma_y.append(theta_sigma_y0)\n",
        "   \n",
        "    theta_muold_x = theta_mu_x0\n",
        "    theta_sigmaold_x = theta_sigma_x0\n",
        "    theta_muold_y = theta_mu_y0\n",
        "    theta_sigmaold_y = theta_sigma_y0\n",
        "    sx_old = sx_0\n",
        "    sy_old = sy_0\n",
        "    \n",
        "\n",
        "    for i in range(N):\n",
        "        theta_x = np.array([theta_muold_x,np.log(theta_sigmaold_x) ])\n",
        "        theta_y = np.array([theta_muold_y,np.log(theta_sigmaold_y) ])\n",
        "        theta_current_x,theta_current_y = double_coupling(theta_x,theta_y)\n",
        "\n",
        "        datax_current = []\n",
        "        datay_current = [] \n",
        "\n",
        "        for j in range (100):\n",
        "                  [newdata_x,newdata_y] = maximal_coupling2(theta_current_x[0],np.exp(theta_current_x[1]),theta_current_y[0],np.exp(theta_current_y[1]))\n",
        "                  datax_current.append(newdata_x)\n",
        "                  datay_current.append(newdata_y)\n",
        "\n",
        "        sx_current = S(datax_current)\n",
        "        sy_current = S(datay_current) \n",
        "               \n",
        "        theta_mucurrent_x=theta_current_x[0]\n",
        "        theta_sigmacurrent_x =np.exp(theta_current_x[1])\n",
        "        theta_mucurrent_y=theta_current_y[0]\n",
        "        theta_sigmacurrent_y=np.exp(theta_current_y[1])\n",
        "\n",
        "        xprob = min([1.,(K_h(np.linalg.norm(np.array(sx_current) - np.array(s_obs)),h)*prior_sigma2().prob(theta_sigmacurrent_x**2)*prior_mu().prob(theta_mucurrent_x))/(\n",
        "             K_h(np.linalg.norm(np.array(sx_old)-np.array(s_obs)),h)*(prior_sigma2().prob(theta_sigmaold_x**2)*prior_mu().prob(theta_muold_x)))])\n",
        "        yprob = min([1.,(K_h(np.linalg.norm(np.array(sy_current) - np.array(s_obs)),h)*prior_sigma2().prob(theta_sigmacurrent_y**2)*prior_mu().prob(theta_mucurrent_y))/(\n",
        "             K_h(np.linalg.norm(np.array(sy_old)-np.array(s_obs)),h)*(prior_sigma2().prob(theta_sigmaold_y**2)*prior_mu().prob(theta_muold_y)))])\n",
        "     \n",
        "        u = tfd.Uniform(0,1).sample()\n",
        "\n",
        "        if u < xprob:\n",
        "              theta_mui_x = theta_mucurrent_x\n",
        "              theta_sigmai_x = theta_sigmacurrent_x\n",
        "              s_ix = sx_current\n",
        "              acc_x +=1\n",
        "        else: \n",
        "              theta_mui_x = theta_muold_x\n",
        "              theta_sigmai_x = theta_sigmaold_x\n",
        "              s_ix = sx_old\n",
        "\n",
        "        if u < yprob:\n",
        "              theta_mui_y = theta_mucurrent_y\n",
        "              theta_sigmai_y = theta_sigmacurrent_y\n",
        "              s_iy = sy_current\n",
        "              acc_y +=1\n",
        "        else: \n",
        "              theta_mui_y = theta_muold_y\n",
        "              theta_sigmai_y = theta_sigmaold_y\n",
        "              s_iy = sy_old\n",
        "              \n",
        "\n",
        "        theta_muold_x = theta_mui_x\n",
        "        theta_sigmaold_x = theta_sigmai_x\n",
        "        sx_old = s_ix\n",
        "\n",
        "        theta_muold_y = theta_mui_y\n",
        "        theta_sigmaold_y = theta_sigmai_y\n",
        "        sy_old = s_iy\n",
        "        \n",
        "        theta_mu_x.append(theta_mui_x)\n",
        "        theta_sigma_x.append(theta_sigmai_x)\n",
        "        theta_mu_y.append(theta_mui_y)\n",
        "        theta_sigma_y.append(theta_sigmai_y)\n",
        "        \n",
        "        \n",
        "    return  theta_mu_x, theta_mu_y, theta_sigma_x, theta_sigma_y, acc_x , acc_y"
      ],
      "execution_count": null,
      "outputs": []
    },
    {
      "cell_type": "code",
      "source": [
        "##VARIABILI:\n",
        "c = 1\n",
        "d = 1\n",
        "mu0 = 34\n",
        "sigma0 = np.sqrt(3)\n",
        "k = 5\n",
        "n = 100\n",
        "mu_obs = 30\n",
        "sigma_obs = 2\n",
        "y_obs = tfp.distributions.Normal(mu_obs,np.sqrt(sigma_obs)).sample(100)"
      ],
      "metadata": {
        "id": "hqEynA9h84fo"
      },
      "execution_count": null,
      "outputs": []
    },
    {
      "cell_type": "code",
      "source": [
        "provamux, provamuy, provasigmax, provasigmay, acc_x , acc_y = abc_algo (1000, S1, y_obs, 0.3)   "
      ],
      "metadata": {
        "id": "JhRGickt2QNl"
      },
      "execution_count": null,
      "outputs": []
    },
    {
      "cell_type": "code",
      "source": [
        "np.mean(provamux[100:])"
      ],
      "metadata": {
        "colab": {
          "base_uri": "https://localhost:8080/"
        },
        "id": "drilKauWQE2U",
        "outputId": "d339be28-6814-4ea7-fb24-4625267edf76"
      },
      "execution_count": null,
      "outputs": [
        {
          "output_type": "execute_result",
          "data": {
            "text/plain": [
              "30.168461153455667"
            ]
          },
          "metadata": {},
          "execution_count": 25
        }
      ]
    },
    {
      "cell_type": "code",
      "source": [
        "np.mean(provamuy[100:])"
      ],
      "metadata": {
        "colab": {
          "base_uri": "https://localhost:8080/"
        },
        "id": "a-qm_oxgwoKu",
        "outputId": "20d61e27-0740-423d-f113-c837e7e06563"
      },
      "execution_count": null,
      "outputs": [
        {
          "output_type": "execute_result",
          "data": {
            "text/plain": [
              "30.168461153455667"
            ]
          },
          "metadata": {},
          "execution_count": 26
        }
      ]
    },
    {
      "cell_type": "code",
      "source": [
        "np.mean(provasigmax)"
      ],
      "metadata": {
        "colab": {
          "base_uri": "https://localhost:8080/"
        },
        "id": "7-tJYm5WQHn7",
        "outputId": "c00e59da-c9b8-4155-a0e0-70b90725b482"
      },
      "execution_count": null,
      "outputs": [
        {
          "output_type": "execute_result",
          "data": {
            "text/plain": [
              "1.6068632055547698"
            ]
          },
          "metadata": {},
          "execution_count": 21
        }
      ]
    },
    {
      "cell_type": "code",
      "source": [
        "np.mean(provasigmay)"
      ],
      "metadata": {
        "colab": {
          "base_uri": "https://localhost:8080/"
        },
        "id": "LeLKQP_OQR7w",
        "outputId": "2577962b-3637-44f2-e60b-925dff23fbb8"
      },
      "execution_count": null,
      "outputs": [
        {
          "output_type": "execute_result",
          "data": {
            "text/plain": [
              "1.609195690744128"
            ]
          },
          "metadata": {},
          "execution_count": 22
        }
      ]
    },
    {
      "cell_type": "code",
      "source": [
        "acc_x"
      ],
      "metadata": {
        "colab": {
          "base_uri": "https://localhost:8080/"
        },
        "id": "WAvpPD7WQODW",
        "outputId": "001b2ba1-7f64-4d7e-afde-206c09ab2a5c"
      },
      "execution_count": null,
      "outputs": [
        {
          "output_type": "execute_result",
          "data": {
            "text/plain": [
              "355"
            ]
          },
          "metadata": {},
          "execution_count": 27
        }
      ]
    },
    {
      "cell_type": "code",
      "source": [
        "plt.plot(provamux)\n",
        "plt.plot(provamuy)"
      ],
      "metadata": {
        "colab": {
          "base_uri": "https://localhost:8080/",
          "height": 282
        },
        "id": "8XhxV2GSTA50",
        "outputId": "5b349725-685b-48fd-d3e9-7546d98c597f"
      },
      "execution_count": null,
      "outputs": [
        {
          "output_type": "execute_result",
          "data": {
            "text/plain": [
              "[<matplotlib.lines.Line2D at 0x7f35d77bded0>]"
            ]
          },
          "metadata": {},
          "execution_count": 24
        },
        {
          "output_type": "display_data",
          "data": {
            "image/png": "[encoded data removed]",
            "text/plain": [
              "<Figure size 432x288 with 1 Axes>"
            ]
          },
          "metadata": {
            "needs_background": "light"
          }
        }
      ]
    }
  ]
}