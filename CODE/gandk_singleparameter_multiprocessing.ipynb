{
 "cells": [
  {
   "cell_type": "code",
   "execution_count": 1,
   "metadata": {
    "id": "6Y6284G_Fo-Z"
   },
   "outputs": [
    {
     "name": "stderr",
     "output_type": "stream",
     "text": [
      "2022-02-13 21:50:06.401400: W tensorflow/stream_executor/platform/default/dso_loader.cc:64] Could not load dynamic library 'libcudart.so.11.0'; dlerror: libcudart.so.11.0: cannot open shared object file: No such file or directory\n",
      "2022-02-13 21:50:06.401452: I tensorflow/stream_executor/cuda/cudart_stub.cc:29] Ignore above cudart dlerror if you do not have a GPU set up on your machine.\n"
     ]
    }
   ],
   "source": [
    "import numpy as np\n",
    "import matplotlib.pyplot as plt\n",
    "import seaborn as sns\n",
    "import pandas as pd\n",
    "import scipy.stats as sstat\n",
    "from mpmath import mp\n",
    "import math\n",
    "import random\n",
    "from scipy.stats import multivariate_normal\n",
    "from sklearn import preprocessing as p\n",
    "\n",
    "psd = pd.DataFrame\n",
    "from tensorflow_probability.substrates import numpy as tfp\n",
    "tfd = tfp.distributions"
   ]
  },
  {
   "cell_type": "code",
   "execution_count": 2,
   "metadata": {},
   "outputs": [],
   "source": [
    "# parallelization modules \n",
    "import os\n",
    "import time\n",
    "import tensorflow.random as tfr\n",
    "from multiprocessing import Process, Queue, SimpleQueue"
   ]
  },
  {
   "cell_type": "code",
   "execution_count": 3,
   "metadata": {
    "id": "WgVRaJOqFtYa"
   },
   "outputs": [],
   "source": [
    "def prior_unif():\n",
    "  return tfd.Uniform(0,10)"
   ]
  },
  {
   "cell_type": "code",
   "execution_count": 4,
   "metadata": {
    "id": "7DNQzj4XFvl_"
   },
   "outputs": [],
   "source": [
    "def prior_out(a,b,g,k):\n",
    "  a_prior = tfd.Uniform(0,10).prob(a)\n",
    "  b_prior = tfd.Uniform(0,10).prob(b)\n",
    "  g_prior = tfd.Uniform(0,10).prob(g)\n",
    "  k_prior = tfd.Uniform(0,10).prob(k)\n",
    "  return  a_prior *b_prior * g_prior*  k_prior "
   ]
  },
  {
   "cell_type": "code",
   "execution_count": 5,
   "metadata": {
    "id": "O6vDAz-LFyNY"
   },
   "outputs": [],
   "source": [
    "def my_kernel(u):\n",
    "  return 1/(np.sqrt(2*math.pi))*np.exp(-1/2*u**2)"
   ]
  },
  {
   "cell_type": "code",
   "execution_count": 6,
   "metadata": {
    "id": "WmKY0-50F0aU"
   },
   "outputs": [],
   "source": [
    "def K_h(u,h):\n",
    "  return my_kernel(u/h)/h"
   ]
  },
  {
   "cell_type": "code",
   "execution_count": 7,
   "metadata": {
    "id": "TnwPYmKmF2Wd"
   },
   "outputs": [],
   "source": [
    "def S2(y):\n",
    "  quantiles= np.zeros(9)\n",
    "  for i in range(9):\n",
    "      quantiles[i]= np.quantile(y,0.1+0.1*i)       #quantili 0,1 0,2 0,3 0,4 0,5 0,6 0,7 0,8 0,9\n",
    "  return quantiles"
   ]
  },
  {
   "cell_type": "code",
   "execution_count": 8,
   "metadata": {
    "id": "ediWJYLSJD8p"
   },
   "outputs": [],
   "source": [
    "def S1(y):\n",
    "  return np.mean(y)"
   ]
  },
  {
   "cell_type": "code",
   "execution_count": 9,
   "metadata": {
    "id": "4yHLKTdoF72a"
   },
   "outputs": [],
   "source": [
    "from scipy.spatial import distance\n",
    "\n",
    "def distance(s_old, s_obs):\n",
    "   return np.linalg.norm(s_old-s_obs)\n",
    "   # return distance.mahalanobis(s_old, s_obs, iv)\n",
    "\n",
    "      "
   ]
  },
  {
   "cell_type": "code",
   "execution_count": 10,
   "metadata": {
    "id": "Wo9xzvD6F-Xa"
   },
   "outputs": [],
   "source": [
    "def quantile_fun(a,b,g,k,z):\n",
    "    y = a+b*(1+0.8*(1-np.exp(-g*z))/(1+np.exp(-g*z)))*((1+z**2)**k)*z\n",
    "    return y"
   ]
  },
  {
   "cell_type": "code",
   "execution_count": 11,
   "metadata": {
    "id": "wlvBON-6Jpei"
   },
   "outputs": [],
   "source": [
    "##MAXIMAL COUPLING OF THETA\n",
    "def maximal_coupling(x,y):\n",
    "      current_x = x\n",
    "      current_y = y  \n",
    "      proposed_x = current_x + tfd.Normal(0,1).sample()\n",
    "      pX = sstat.norm.pdf(proposed_x,current_x,1)\n",
    "      w = tfd.Uniform(0,1).sample()*pX\n",
    "      qX = sstat.norm.pdf(proposed_x,current_y,1)\n",
    "      if w < qX:\n",
    "          x_new = proposed_x\n",
    "          y_new = proposed_x\n",
    "      else:\n",
    "          t = True\n",
    "          while t == True:\n",
    "                proposed_y = current_y + tfd.Normal(0,1).sample()\n",
    "                qY =  sstat.norm.pdf(proposed_y,current_y,1) \n",
    "                w =  tfd.Uniform(0,1).sample()*qY\n",
    "                pY = sstat.norm.pdf(proposed_y,current_x,1)\n",
    "                if w > pY :\n",
    "                  t = False\n",
    "\n",
    "          x_new = proposed_x\n",
    "          y_new = proposed_y  \n",
    "\n",
    "\n",
    "      return [x_new, y_new]"
   ]
  },
  {
   "cell_type": "code",
   "execution_count": 12,
   "metadata": {
    "id": "V7B9jk54NB7d"
   },
   "outputs": [],
   "source": [
    "def prob(H,s_obs,s_current,a_current,s_i,a_i):   #s[i,],a[i]\n",
    "  NUM = (K_h(distance(np.array(s_current), np.array(s_obs)),H)*prior_unif().prob(a_current))\n",
    "  DEN = (K_h(distance(np.array(s_i),np.array(s_obs)),H)* prior_unif().prob(a_i))\n",
    "  return NUM/DEN    "
   ]
  },
  {
   "cell_type": "code",
   "execution_count": 13,
   "metadata": {
    "id": "D4OcC1GBGA6v"
   },
   "outputs": [],
   "source": [
    "def abc_algo_single_a (N, S, y_obs,h):\n",
    "    s_obs = S(y_obs)\n",
    "    s1 = np.zeros((N+1,9))\n",
    "    s2 = np.zeros((N+1,9))\n",
    "    y1 = np.zeros(n)\n",
    "    y2 = np.zeros(n)\n",
    "    y1_current = np.zeros(n)\n",
    "    y2_current = np.zeros(n)\n",
    "    a1 = np.zeros(N+1)\n",
    "    a2 = np.zeros(N+1)\n",
    "    k1=0\n",
    "    k2=0\n",
    "    a1_0 =prior_unif().sample(1)\n",
    "    a2_0 =prior_unif().sample(1)\n",
    "    for i in range(n):\n",
    "      z = tfd.Normal(0,1).sample() \n",
    "      y1[i]=quantile_fun(a1_0,b_0,g_0,k_0,z)\n",
    "    s1_0 = S(y1)\n",
    "\n",
    "    for i in range(n):\n",
    "      z = tfd.Normal(0,1).sample() \n",
    "      y2[i]=quantile_fun(a2_0,b_0,g_0,k_0,z)\n",
    "    s2_0 = S(y2)\n",
    "   \n",
    "    H=h\n",
    "    #while K_h(mahal(np.array(s_0),np.array(s_obs)),H)<=0:\n",
    "    while K_h(distance(np.array(s1_0),np.array(s_obs)),H)<=0:    \n",
    "        a1_0 =prior_unif().sample()\n",
    "        for j in range(n):\n",
    "          z = tfd.Normal(0,1).sample()\n",
    "          y1[j]=quantile_fun(a1_0,b_0,g_0,k_0,z)\n",
    "        s1_0 = S(y1)\n",
    "   \n",
    "    a1[0]=a1_0\n",
    "\n",
    "    while K_h(distance(np.array(s2_0),np.array(s_obs)),H)<=0:    \n",
    "        a2_0 =prior_unif().sample()\n",
    "        for j in range(n):\n",
    "          z = tfd.Normal(0,1).sample()\n",
    "          y2[j]=quantile_fun(a2_0,b_0,g_0,k_0,z)\n",
    "        s2_0 = S(y2)\n",
    "   \n",
    "    a2[0]=a2_0\n",
    "    \n",
    "\n",
    "    for i in range(N):\n",
    "        \n",
    "        a1_current,a2_current = maximal_coupling(a1[i],a2[i])\n",
    "        b_current = b_0\n",
    "        g_current = g_0\n",
    "        k_current = k_0      \n",
    "        for j in range(n):\n",
    "          z = tfd.Normal(0,1).sample() \n",
    "          y1_current[j] = quantile_fun(a1_current,b_current,g_current,k_current,z)\n",
    "          y2_current[j] = quantile_fun(a2_current,b_current,g_current,k_current,z)\n",
    "        s1_current = S(y1_current)\n",
    "        s2_current = S(y2_current)\n",
    "\n",
    "       \n",
    "        #den_num=tfd.Normal(theta_muold,1).prob(theta_mucurrent)*tfd.Normal(theta_tauold,1).prob(theta_taucurrent)\n",
    "        #den_den=tfd.Normal(theta_mucurrent,1).prob(theta_muold)*tfd.Normal(theta_taucurrent,1).prob(theta_tauold)\n",
    "        \n",
    "        prob1 = prob(H,s_obs,s1_current,a1_current,s1[i,],a1[i])   #s[i,],a[i]unif().prob(a[i]))\n",
    "        prob2 = prob(H,s_obs,s2_current,a2_current,s2[i,],a2[i])\n",
    "\n",
    "        acc_prob1 = min([1.,prob1])\n",
    "        acc_prob2 = min([1.,prob2])\n",
    "      \n",
    "        u = tfd.Uniform(0,1).sample()\n",
    "        if u < acc_prob1:\n",
    "              a1[i+1] = a1_current\n",
    "              s1[i+1,] = s1_current\n",
    "              k1+=1\n",
    "        else: \n",
    "              a1[i+1] = a1[i]\n",
    "              s1[i+1,] = s1[i,]\n",
    "\n",
    "        if u < acc_prob2:\n",
    "              a2[i+1] = a2_current\n",
    "              s2[i+1,] = s2_current\n",
    "              k2+=1\n",
    "        else: \n",
    "              a2[i+1] = a2[i]\n",
    "              s2[i+1,] = s2[i,]\n",
    "\n",
    "        \n",
    "    return a1,a2,k1,k2"
   ]
  },
  {
   "cell_type": "code",
   "execution_count": 14,
   "metadata": {
    "id": "WYDzzRkmGK8I"
   },
   "outputs": [],
   "source": [
    "aobs = 3\n",
    "bobs = 1\n",
    "gobs = 2\n",
    "kobs = 0.5\n",
    "n = 100\n",
    "h = 0.6\n",
    "y_obs = np.zeros(n)\n",
    "for i in range(n):\n",
    "  z = tfd.Normal(0,1).sample() \n",
    "  y_obs[i] = quantile_fun(aobs,bobs,gobs,kobs,z)"
   ]
  },
  {
   "cell_type": "code",
   "execution_count": 15,
   "metadata": {
    "id": "oBwpsXWtGMwq"
   },
   "outputs": [],
   "source": [
    "g_0 =2\n",
    "b_0 =1\n",
    "k_0=0.5"
   ]
  },
  {
   "cell_type": "code",
   "execution_count": 16,
   "metadata": {},
   "outputs": [],
   "source": [
    "test_function_h = lambda x: x"
   ]
  },
  {
   "cell_type": "code",
   "execution_count": 17,
   "metadata": {},
   "outputs": [],
   "source": [
    "def time_averaged_estimator(red_chain, blue_chain, iterations, burnin, meeting_time):\n",
    "    #this function calculates only the formula at point 3\n",
    "    \n",
    "    #first addend\n",
    "    first_sum = 0\n",
    "    for i in range(burnin, iterations):\n",
    "        first_sum += test_function_h(red_chain[i])\n",
    "    \n",
    "    #second addend\n",
    "    second_sum = 0\n",
    "    if meeting_time-1 > burnin + 1:\n",
    "        for i in range(burnin + 1, meeting_time):\n",
    "            # calculing the coefficient, and the min\n",
    "            coef = (1-burnin)(iterations - burnin + 1)\n",
    "            if coef > 1:\n",
    "                coef = 1\n",
    "            second_sum += coef * (test_function_h(red_chain[i])- test_function_h(blue_chain[i]))\n",
    "            \n",
    "    return (1/(iterations - burnin + 1))*first_sum + second_sum"
   ]
  },
  {
   "cell_type": "raw",
   "metadata": {},
   "source": [
    "# a1_post,a2_post,acc1,acc2 = abc_algo_single_a (500, S2, y_obs, h)  "
   ]
  },
  {
   "cell_type": "code",
   "execution_count": 18,
   "metadata": {},
   "outputs": [],
   "source": [
    "def parallelized_operations(\n",
    "    iterations, burnin, chains_matching_tolerance, \n",
    "    q_chain, q_meeting_time, q_time_averaged_estimator, q_acc_1, q_acc_2):\n",
    "    # setting a random seed - otherwise multiprocessing has the same seed and so they end up in the same chains!\n",
    "    np.random.seed(int(os.getpid() * time.time()) % 123456789 )\n",
    "    tfr.set_seed(int(os.getpid() * time.time()) % 123456789 )\n",
    "    \n",
    "    #running metropolis hastings and obtaining two chains\n",
    "    red_chain, blue_chain, acc1, acc2 =  abc_algo_single_a (iterations, S2, y_obs, h)  \n",
    "    #(red_chain, blue_chain) = metropolis_hastings(iterations)\n",
    "    \n",
    "    #get the dimensionality from one of the chains\n",
    "    dimensionality = red_chain.shape[0]\n",
    "\n",
    "    #finding the meeting time\n",
    "    meeting_time = iterations + 2\n",
    "    for i in range(0, iterations-2):\n",
    "        if (abs(red_chain[i]-blue_chain[i]).all() < chains_matching_tolerance) & \\\n",
    "            (abs(red_chain[i+1]-blue_chain[i+1]).all() < chains_matching_tolerance) & \\\n",
    "            (abs(red_chain[i+2]-blue_chain[i+2]).all() < chains_matching_tolerance):\n",
    "            meeting_time = i\n",
    "            break\n",
    "    \n",
    "    #checking if the chains met\n",
    "    if meeting_time == iterations+2:\n",
    "        print('Matching did not occurred!')\n",
    "        print(meeting_time)\n",
    "        return\n",
    "    \n",
    "    #checking if the chains met before burnin\n",
    "    if meeting_time >= burnin:\n",
    "        print('Meeting time occurs after burnin iterations!')\n",
    "        print(meeting_time)\n",
    "        return\n",
    "    \n",
    "    time_averaged_estimation = np.empty(0)\n",
    "    \n",
    "    time_averaged_estimation = time_averaged_estimator(\n",
    "            red_chain, \n",
    "            blue_chain, \n",
    "            iterations, burnin, meeting_time)\n",
    "    \n",
    "    q_chain.put( red_chain )\n",
    "    q_meeting_time.put( meeting_time )\n",
    "    q_time_averaged_estimator.put( time_averaged_estimation )\n",
    "    q_acc_1.put(acc1)\n",
    "    q_acc_2.put(acc2)\n",
    "    \n",
    "    return\n",
    "\n",
    "    "
   ]
  },
  {
   "cell_type": "code",
   "execution_count": 19,
   "metadata": {},
   "outputs": [],
   "source": [
    "# this returns the number of available processors\n",
    "num_processes = os.cpu_count()\n",
    "num_processes\n",
    "\n",
    "# this set the number of iteration, it should be a multiple of the number of available processors\n",
    "num_batches_set = 7 #16*1 #set this\n",
    "num_batches = num_batches_set\n",
    "\n",
    "# this initialize a shared memory between processors\n",
    "# note of Queue(maxsize = 0)\n",
    "q_chain = SimpleQueue()\n",
    "q_meeting_time = SimpleQueue()\n",
    "q_time_averaged_estimator = SimpleQueue()\n",
    "q_acc_1 = SimpleQueue()\n",
    "q_acc_2 = SimpleQueue()"
   ]
  },
  {
   "cell_type": "code",
   "execution_count": 20,
   "metadata": {},
   "outputs": [
    {
     "name": "stdout",
     "output_type": "stream",
     "text": [
      "There are 7 left\n",
      "Matching did not occurred!\n",
      "1002\n",
      "Matching did not occurred!\n",
      "1002\n",
      "Matching did not occurred!\n",
      "1002\n",
      "All processes are complete!\n"
     ]
    }
   ],
   "source": [
    "\n",
    "samplings = np.empty(0)#np.empty([dimensionality, 0])\n",
    "time_averaged_estimation_sum = 0\n",
    "meeting_times = np.empty(0)\n",
    "correct_chains = 0\n",
    "\n",
    "acc_1 = np.empty(0)\n",
    "acc_2 = np.empty(0)\n",
    "\n",
    "iterations = 1000\n",
    "burnin = 100\n",
    "# coupling tolerance\n",
    "chains_matching_tolerance = 1e-3\n",
    "\n",
    "\n",
    "\n",
    "while num_batches > 0:\n",
    "    \n",
    "    print(\"There are \" + str(num_batches) + \" left\")\n",
    "    \n",
    "    if num_batches >= num_processes:\n",
    "        current_number_processes = num_processes\n",
    "    else:\n",
    "        current_number_processes = num_batches\n",
    "    \n",
    "    processes = []\n",
    "    for batch in range(current_number_processes):\n",
    "        p = Process(\n",
    "            target = parallelized_operations, \n",
    "            args = (iterations, burnin, \n",
    "                    chains_matching_tolerance, \n",
    "                    q_chain, q_meeting_time, q_time_averaged_estimator, q_acc_1, q_acc_2)\n",
    "        )\n",
    "        processes.append(p)\n",
    "\n",
    "    num_batches -= current_number_processes\n",
    "    \n",
    "    # Starting the processes in a batch\n",
    "    for p in processes:\n",
    "        p.start()\n",
    "        time.sleep(0.1)\n",
    "\n",
    "    # This assures that each process in the batch is complete\n",
    "    for p in processes:\n",
    "        p.join()\n",
    "\n",
    "    #unfolding queues\n",
    "    while not q_chain.empty():\n",
    "        red_chain = q_chain.get()\n",
    "        #print('lmao')\n",
    "        #print(red_chain)\n",
    "        samplings = np.append(\n",
    "            samplings,\n",
    "            red_chain[burnin :],\n",
    "            axis = 0\n",
    "        )\n",
    "\n",
    "        meeting_time = q_meeting_time.get()\n",
    "        time_averaged_estimation = q_time_averaged_estimator.get()\n",
    "        \n",
    "        if meeting_time <= burnin: #this to avoid a biased time averaged estimator\n",
    "            time_averaged_estimation_sum += time_averaged_estimation\n",
    "            correct_chains += 1\n",
    "        \n",
    "        meeting_times = np.append(\n",
    "            meeting_times,\n",
    "            meeting_time\n",
    "        )\n",
    "    \n",
    "        acc_1 = np.append(acc_1, q_acc_1.get())\n",
    "        acc_2 = np.append(acc_2, q_acc_2.get())\n",
    "    \n",
    "del q_chain, q_meeting_time, q_time_averaged_estimator,  q_acc_1, q_acc_2\n",
    "print('All processes are complete!')"
   ]
  },
  {
   "cell_type": "code",
   "execution_count": 21,
   "metadata": {},
   "outputs": [
    {
     "data": {
      "text/plain": [
       "[<matplotlib.lines.Line2D at 0x7fefebfee4c0>]"
      ]
     },
     "execution_count": 21,
     "metadata": {},
     "output_type": "execute_result"
    },
    {
     "data": {
      "image/png": "[encoded data removed]",
      "text/plain": [
       "<Figure size 432x288 with 1 Axes>"
      ]
     },
     "metadata": {
      "needs_background": "light"
     },
     "output_type": "display_data"
    }
   ],
   "source": [
    "plt.plot(samplings)"
   ]
  },
  {
   "cell_type": "code",
   "execution_count": 22,
   "metadata": {},
   "outputs": [
    {
     "data": {
      "text/plain": [
       "(array([  3.,   8.,  49.,  54.,  65., 314., 339., 386., 541., 413., 476.,\n",
       "        399., 201., 216.,  76.,  60.,   3.,   0.,   0.,   1.]),\n",
       " array([2.12169649, 2.21150075, 2.301305  , 2.39110926, 2.48091351,\n",
       "        2.57071777, 2.66052202, 2.75032628, 2.84013053, 2.92993479,\n",
       "        3.01973904, 3.1095433 , 3.19934755, 3.28915181, 3.37895606,\n",
       "        3.46876032, 3.55856457, 3.64836883, 3.73817308, 3.82797733,\n",
       "        3.91778159]),\n",
       " <BarContainer object of 20 artists>)"
      ]
     },
     "execution_count": 22,
     "metadata": {},
     "output_type": "execute_result"
    },
    {
     "data": {
      "image/png": "[encoded data removed]",
      "text/plain": [
       "<Figure size 432x288 with 1 Axes>"
      ]
     },
     "metadata": {
      "needs_background": "light"
     },
     "output_type": "display_data"
    }
   ],
   "source": [
    "plt.hist(samplings, bins = 20)"
   ]
  },
  {
   "cell_type": "code",
   "execution_count": 26,
   "metadata": {},
   "outputs": [
    {
     "data": {
      "text/plain": [
       "(3604,)"
      ]
     },
     "execution_count": 26,
     "metadata": {},
     "output_type": "execute_result"
    }
   ],
   "source": [
    "samplings.shape"
   ]
  },
  {
   "cell_type": "code",
   "execution_count": 25,
   "metadata": {},
   "outputs": [
    {
     "data": {
      "text/plain": [
       "2.941689218092825"
      ]
     },
     "execution_count": 25,
     "metadata": {},
     "output_type": "execute_result"
    }
   ],
   "source": [
    "time_averaged_estimation_mean = time_averaged_estimation_sum/correct_chains\n",
    "time_averaged_estimation_mean"
   ]
  },
  {
   "cell_type": "code",
   "execution_count": 27,
   "metadata": {},
   "outputs": [
    {
     "data": {
      "text/plain": [
       "array([163., 139., 151., 148.])"
      ]
     },
     "execution_count": 27,
     "metadata": {},
     "output_type": "execute_result"
    }
   ],
   "source": [
    "acc_1"
   ]
  },
  {
   "cell_type": "code",
   "execution_count": 28,
   "metadata": {},
   "outputs": [
    {
     "data": {
      "text/plain": [
       "array([159., 138., 153., 151.])"
      ]
     },
     "execution_count": 28,
     "metadata": {},
     "output_type": "execute_result"
    }
   ],
   "source": [
    "acc_2"
   ]
  },
  {
   "cell_type": "code",
   "execution_count": 29,
   "metadata": {
    "id": "hYIUQfdOdmwL"
   },
   "outputs": [],
   "source": [
    "sns.set_theme(style=\"darkgrid\")\n",
    "plt.rcParams[\"figure.figsize\"] = (12,4)"
   ]
  },
  {
   "cell_type": "markdown",
   "metadata": {},
   "source": [
    "#### Sampling plot and Histogram for all variables"
   ]
  },
  {
   "cell_type": "code",
   "execution_count": 30,
   "metadata": {
    "colab": {
     "base_uri": "https://localhost:8080/",
     "height": 265
    },
    "id": "0972b174-c9db-402b-affd-a96c9bdab751",
    "outputId": "4521201d-9cbc-49d4-dc7e-7fcead51f148"
   },
   "outputs": [
    {
     "data": {
      "image/png": "[encoded data removed]",
      "text/plain": [
       "<Figure size 864x288 with 1 Axes>"
      ]
     },
     "metadata": {},
     "output_type": "display_data"
    }
   ],
   "source": [
    "plt.plot(samplings)\n",
    "plt.savefig('gk_single_samling.png')"
   ]
  },
  {
   "cell_type": "code",
   "execution_count": 39,
   "metadata": {
    "colab": {
     "base_uri": "https://localhost:8080/",
     "height": 265
    },
    "id": "c35c9807-9717-440e-94f8-d68517828a97",
    "outputId": "0a7ed36e-4dc6-4104-8adb-83c060dfde4e"
   },
   "outputs": [
    {
     "data": {
      "image/png": "[encoded data removed]",
      "text/plain": [
       "<Figure size 864x288 with 1 Axes>"
      ]
     },
     "metadata": {},
     "output_type": "display_data"
    }
   ],
   "source": [
    "plt.hist(samplings, bins = 20, density = True, label = 'Samples')\n",
    "plt.legend()\n",
    "plt.savefig('gk_single_histogram.png')"
   ]
  },
  {
   "cell_type": "code",
   "execution_count": 38,
   "metadata": {},
   "outputs": [
    {
     "data": {
      "image/png": "[encoded data removed]",
      "text/plain": [
       "<Figure size 864x288 with 1 Axes>"
      ]
     },
     "metadata": {},
     "output_type": "display_data"
    }
   ],
   "source": [
    "plt.hist(samplings, bins = 20, density = True, label='Samples')\n",
    "sns.kdeplot(samplings, label='Kernel estimation')\n",
    "plt.legend()\n",
    "plt.savefig('gk_single_histogram_kernel.png')"
   ]
  },
  {
   "cell_type": "code",
   "execution_count": 33,
   "metadata": {},
   "outputs": [],
   "source": [
    "(red_chain, blue_chain, a1, a2) = abc_algo_single_a (iterations, S2, y_obs, h)  "
   ]
  },
  {
   "cell_type": "code",
   "execution_count": 34,
   "metadata": {
    "colab": {
     "base_uri": "https://localhost:8080/",
     "height": 268
    },
    "id": "a06ca1d0-4f97-4bcc-91d9-8ac646e45168",
    "outputId": "c3ded6e0-296d-4a3e-bb85-708c17c1400e",
    "scrolled": true
   },
   "outputs": [
    {
     "data": {
      "image/png": "[encoded data removed]",
      "text/plain": [
       "<Figure size 864x288 with 1 Axes>"
      ]
     },
     "metadata": {},
     "output_type": "display_data"
    }
   ],
   "source": [
    "plt.plot(red_chain)\n",
    "plt.plot(blue_chain)\n",
    "plt.savefig('gk_single_chain_meeeting.png')"
   ]
  },
  {
   "cell_type": "code",
   "execution_count": null,
   "metadata": {},
   "outputs": [],
   "source": []
  },
  {
   "cell_type": "markdown",
   "metadata": {},
   "source": [
    "## For parameter b"
   ]
  },
  {
   "cell_type": "code",
   "execution_count": null,
   "metadata": {},
   "outputs": [],
   "source": [
    "def abc_algo_single_b (N, S, y_obs,h):\n",
    "    s_obs = S(y_obs)\n",
    "    s1 = np.zeros((N+1,9))\n",
    "    s2 = np.zeros((N+1,9))\n",
    "    y1 = np.zeros(n)\n",
    "    y2 = np.zeros(n)\n",
    "    y1_current = np.zeros(n)\n",
    "    y2_current = np.zeros(n)\n",
    "    b1 = np.zeros(N+1)\n",
    "    b2 = np.zeros(N+1)\n",
    "    k1=0\n",
    "    k2=0\n",
    "    b1_0 =prior_unif().sample(1)\n",
    "    b2_0 =prior_unif().sample(1)\n",
    "    for i in range(n):\n",
    "      z = tfd.Normal(0,1).sample() \n",
    "      y1[i]=quantile_fun(a_0,b1_0,g_0,k_0,z)\n",
    "    s1_0 = S(y1)\n",
    "\n",
    "    for i in range(n):\n",
    "      z = tfd.Normal(0,1).sample() \n",
    "      y2[i]=quantile_fun(a_0,b2_0,g_0,k_0,z)\n",
    "    s2_0 = S(y2)\n",
    "   \n",
    "    H=h\n",
    "    #while K_h(mahal(np.array(s_0),np.array(s_obs)),H)<=0:\n",
    "    while K_h(distance(np.array(s1_0),np.array(s_obs)),H)<=0:    \n",
    "        b1_0 =prior_unif().sample()\n",
    "        for j in range(n):\n",
    "          z = tfd.Normal(0,1).sample()\n",
    "          y1[j]=quantile_fun(a_0,b1_0,g_0,k_0,z)\n",
    "        s1_0 = S(y1)\n",
    "   \n",
    "    b1[0]=b1_0\n",
    "\n",
    "    while K_h(distance(np.array(s2_0),np.array(s_obs)),H)<=0:    \n",
    "        b2_0 =prior_unif().sample()\n",
    "        for j in range(n):\n",
    "          z = tfd.Normal(0,1).sample()\n",
    "          y2[j]=quantile_fun(a_0,b2_0,g_0,k_0,z)\n",
    "        s2_0 = S(y2)\n",
    "   \n",
    "    b2[0]=b2_0\n",
    "    \n",
    "\n",
    "    for i in range(N):\n",
    "        \n",
    "        b1_current,b2_current = maximal_coupling(b1[i],b2[i])\n",
    "        a_current = a_0\n",
    "        g_current = g_0\n",
    "        k_current = k_0      \n",
    "        for j in range(n):\n",
    "          z = tfd.Normal(0,1).sample() \n",
    "          y1_current[j] = quantile_fun(a_current,b1_current,g_current,k_current,z)\n",
    "          y2_current[j] = quantile_fun(a_current,b2_current,g_current,k_current,z)\n",
    "        s1_current = S(y1_current)\n",
    "        s2_current = S(y2_current)\n",
    "\n",
    "       \n",
    "        #den_num=tfd.Normal(theta_muold,1).prob(theta_mucurrent)*tfd.Normal(theta_tauold,1).prob(theta_taucurrent)\n",
    "        #den_den=tfd.Normal(theta_mucurrent,1).prob(theta_muold)*tfd.Normal(theta_taucurrent,1).prob(theta_tauold)\n",
    "        \n",
    "        prob1 = prob(H,s_obs,s1_current,b1_current,s1[i,],b1[i])   #s[i,],a[i]unif().prob(a[i]))\n",
    "        prob2 = prob(H,s_obs,s2_current,b2_current,s2[i,],b2[i])\n",
    "\n",
    "        acc_prob1 = min([1.,prob1])\n",
    "        acc_prob2 = min([1.,prob2])\n",
    "      \n",
    "        u = tfd.Uniform(0,1).sample()\n",
    "        if u < acc_prob1:\n",
    "              b1[i+1] = b1_current\n",
    "              s1[i+1,] = s1_current\n",
    "              k1+=1\n",
    "        else: \n",
    "              b1[i+1] = b1[i]\n",
    "              s1[i+1,] = s1[i,]\n",
    "\n",
    "        if u < acc_prob2:\n",
    "              b2[i+1] = b2_current\n",
    "              s2[i+1,] = s2_current\n",
    "              k2+=1\n",
    "        else: \n",
    "              b2[i+1] = b2[i]\n",
    "              s2[i+1,] = s2[i,]\n",
    "\n",
    "        \n",
    "    return b1,b2,k1,k2"
   ]
  },
  {
   "cell_type": "code",
   "execution_count": null,
   "metadata": {},
   "outputs": [],
   "source": [
    "aobs = 3\n",
    "bobs = 1\n",
    "gobs = 2\n",
    "kobs = 0.5\n",
    "n = 100\n",
    "h = 0.6\n",
    "y_obs = np.zeros(n)\n",
    "for i in range(n):\n",
    "  z = tfd.Normal(0,1).sample() \n",
    "  y_obs[i] = quantile_fun(aobs,bobs,gobs,kobs,z)"
   ]
  },
  {
   "cell_type": "code",
   "execution_count": null,
   "metadata": {},
   "outputs": [],
   "source": [
    "g_0 =2\n",
    "a_0 =3\n",
    "k_0=0.5"
   ]
  },
  {
   "cell_type": "markdown",
   "metadata": {},
   "source": [
    "## For parameter g"
   ]
  },
  {
   "cell_type": "code",
   "execution_count": null,
   "metadata": {},
   "outputs": [],
   "source": [
    "def abc_algo_single_g (N, S, y_obs,h):\n",
    "    s_obs = S(y_obs)\n",
    "    s1 = np.zeros((N+1,9))\n",
    "    s2 = np.zeros((N+1,9))\n",
    "    y1 = np.zeros(n)\n",
    "    y2 = np.zeros(n)\n",
    "    y1_current = np.zeros(n)\n",
    "    y2_current = np.zeros(n)\n",
    "    g1 = np.zeros(N+1)\n",
    "    g2 = np.zeros(N+1)\n",
    "    k1=0\n",
    "    k2=0\n",
    "    g1_0 =prior_unif().sample(1)\n",
    "    g2_0 =prior_unif().sample(1)\n",
    "    for i in range(n):\n",
    "      z = tfd.Normal(0,1).sample() \n",
    "      y1[i]=quantile_fun(a_0,b_0,g1_0,k_0,z)\n",
    "    s1_0 = S(y1)\n",
    "\n",
    "    for i in range(n):\n",
    "      z = tfd.Normal(0,1).sample() \n",
    "      y2[i]=quantile_fun(a_0,b_0,g2_0,k_0,z)\n",
    "    s2_0 = S(y2)\n",
    "   \n",
    "    H=h\n",
    "    #while K_h(mahal(np.array(s_0),np.array(s_obs)),H)<=0:\n",
    "    while K_h(distance(np.array(s1_0),np.array(s_obs)),H)<=0:    \n",
    "        g1_0 =prior_unif().sample()\n",
    "        for j in range(n):\n",
    "          z = tfd.Normal(0,1).sample()\n",
    "          y1[j]=quantile_fun(a_0,b_0,g1_0,k_0,z)\n",
    "        s1_0 = S(y1)\n",
    "   \n",
    "    g1[0]=g1_0\n",
    "\n",
    "    while K_h(distance(np.array(s2_0),np.array(s_obs)),H)<=0:    \n",
    "        g2_0 =prior_unif().sample()\n",
    "        for j in range(n):\n",
    "          z = tfd.Normal(0,1).sample()\n",
    "          y2[j]=quantile_fun(a_0,b_0,g2_0,k_0,z)\n",
    "        s2_0 = S(y2)\n",
    "   \n",
    "    g2[0]=g2_0\n",
    "    \n",
    "\n",
    "    for i in range(N):\n",
    "        \n",
    "        g1_current,g2_current = maximal_coupling(g1[i],g2[i])\n",
    "        a_current = a_0\n",
    "        b_current = b_0\n",
    "        k_current = k_0      \n",
    "        for j in range(n):\n",
    "          z = tfd.Normal(0,1).sample() \n",
    "          y1_current[j] = quantile_fun(a_current,b_current,g1_current,k_current,z)\n",
    "          y2_current[j] = quantile_fun(a_current,b_current,g2_current,k_current,z)\n",
    "        s1_current = S(y1_current)\n",
    "        s2_current = S(y2_current)\n",
    "\n",
    "       \n",
    "        #den_num=tfd.Normal(theta_muold,1).prob(theta_mucurrent)*tfd.Normal(theta_tauold,1).prob(theta_taucurrent)\n",
    "        #den_den=tfd.Normal(theta_mucurrent,1).prob(theta_muold)*tfd.Normal(theta_taucurrent,1).prob(theta_tauold)\n",
    "        \n",
    "        prob1 = prob(H,s_obs,s1_current,g1_current,s1[i,],g1[i])   #s[i,],a[i]unif().prob(a[i]))\n",
    "        prob2 = prob(H,s_obs,s2_current,g2_current,s2[i,],g2[i])\n",
    "\n",
    "        acc_prob1 = min([1.,prob1])\n",
    "        acc_prob2 = min([1.,prob2])\n",
    "      \n",
    "        u = tfd.Uniform(0,1).sample()\n",
    "        if u < acc_prob1:\n",
    "              g1[i+1] = g1_current\n",
    "              s1[i+1,] = s1_current\n",
    "              k1+=1\n",
    "        else: \n",
    "              g1[i+1] = g1[i]\n",
    "              s1[i+1,] = s1[i,]\n",
    "\n",
    "        if u < acc_prob2:\n",
    "              g2[i+1] = g2_current\n",
    "              s2[i+1,] = s2_current\n",
    "              k2+=1\n",
    "        else: \n",
    "              g2[i+1] = g2[i]\n",
    "              s2[i+1,] = s2[i,]\n",
    "\n",
    "        \n",
    "    return g1,g2,k1,k2"
   ]
  },
  {
   "cell_type": "code",
   "execution_count": null,
   "metadata": {},
   "outputs": [],
   "source": [
    "b_0 =1\n",
    "a_0 =3\n",
    "k_0=0.5"
   ]
  },
  {
   "cell_type": "code",
   "execution_count": null,
   "metadata": {},
   "outputs": [],
   "source": [
    "aobs = 3\n",
    "bobs = 1\n",
    "gobs = 2\n",
    "kobs = 0.5\n",
    "n = 500\n",
    "\n",
    "h = 0.6\n",
    "y_obs_g = np.zeros(n)\n",
    "for i in range(n):\n",
    "  z = tfd.Normal(0,1).sample() \n",
    "  y_obs_g[i] = quantile_fun(aobs,bobs,gobs,kobs,z)"
   ]
  },
  {
   "cell_type": "markdown",
   "metadata": {},
   "source": [
    "## For parameter k"
   ]
  },
  {
   "cell_type": "code",
   "execution_count": null,
   "metadata": {},
   "outputs": [],
   "source": [
    "def abc_algo_single_k (N, S, y_obs,h):\n",
    "    s_obs = S(y_obs)\n",
    "    s1 = np.zeros((N+1,9))\n",
    "    s2 = np.zeros((N+1,9))\n",
    "    y1 = np.zeros(n)\n",
    "    y2 = np.zeros(n)\n",
    "    y1_current = np.zeros(n)\n",
    "    y2_current = np.zeros(n)\n",
    "    k1 = np.zeros(N+1)\n",
    "    k2 = np.zeros(N+1)\n",
    "    rate1=0\n",
    "    rate2=0\n",
    "    k1_0 =prior_unif().sample(1)\n",
    "    k2_0 =prior_unif().sample(1)\n",
    "    for i in range(n):\n",
    "      z = tfd.Normal(0,1).sample() \n",
    "      y1[i]=quantile_fun(a_0,b_0,g_0,k1_0,z)\n",
    "    s1_0 = S(y1)\n",
    "\n",
    "    for i in range(n):\n",
    "      z = tfd.Normal(0,1).sample() \n",
    "      y2[i]=quantile_fun(a_0,b_0,g_0,k2_0,z)\n",
    "    s2_0 = S(y2)\n",
    "   \n",
    "    H=h\n",
    "    #while K_h(mahal(np.array(s_0),np.array(s_obs)),H)<=0:\n",
    "    while K_h(distance(np.array(s1_0),np.array(s_obs)),H)<=0:    \n",
    "        k1_0 =prior_unif().sample()\n",
    "        for j in range(n):\n",
    "          z = tfd.Normal(0,1).sample()\n",
    "          y1[j]=quantile_fun(a_0,b_0,g_0,k1_0,z)\n",
    "        s1_0 = S(y1)\n",
    "   \n",
    "    k1[0]=k1_0\n",
    "\n",
    "    while K_h(distance(np.array(s2_0),np.array(s_obs)),H)<=0:    \n",
    "        k2_0 =prior_unif().sample()\n",
    "        for j in range(n):\n",
    "          z = tfd.Normal(0,1).sample()\n",
    "          y2[j]=quantile_fun(a_0,b_0,g_0,k2_0,z)\n",
    "        s2_0 = S(y2)\n",
    "   \n",
    "    k2[0]=k2_0\n",
    "    \n",
    "\n",
    "    for i in range(N):\n",
    "        \n",
    "        k1_current,k2_current = maximal_coupling(k1[i],k2[i])\n",
    "        a_current = a_0\n",
    "        b_current = b_0\n",
    "        g_current = g_0      \n",
    "        for j in range(n):\n",
    "          z = tfd.Normal(0,1).sample() \n",
    "          y1_current[j] = quantile_fun(a_current,b_current,g_current,k1_current,z)\n",
    "          y2_current[j] = quantile_fun(a_current,b_current,g_current,k2_current,z)\n",
    "        s1_current = S(y1_current)\n",
    "        s2_current = S(y2_current)\n",
    "\n",
    "       \n",
    "        #den_num=tfd.Normal(theta_muold,1).prob(theta_mucurrent)*tfd.Normal(theta_tauold,1).prob(theta_taucurrent)\n",
    "        #den_den=tfd.Normal(theta_mucurrent,1).prob(theta_muold)*tfd.Normal(theta_taucurrent,1).prob(theta_tauold)\n",
    "        \n",
    "        prob1 = prob(H,s_obs,s1_current,k1_current,s1[i,],k1[i])   #s[i,],a[i]unif().prob(a[i]))\n",
    "        prob2 = prob(H,s_obs,s2_current,k2_current,s2[i,],k2[i])\n",
    "\n",
    "        acc_prob1 = min([1.,prob1])\n",
    "        acc_prob2 = min([1.,prob2])\n",
    "      \n",
    "        u = tfd.Uniform(0,1).sample()\n",
    "        if u < acc_prob1:\n",
    "              k1[i+1] = k1_current\n",
    "              s1[i+1,] = s1_current\n",
    "              rate1+=1\n",
    "        else: \n",
    "              k1[i+1] = k1[i]\n",
    "              s1[i+1,] = s1[i,]\n",
    "\n",
    "        if u < acc_prob2:\n",
    "              k2[i+1] = k2_current\n",
    "              s2[i+1,] = s2_current\n",
    "              rate2+=1\n",
    "        else: \n",
    "              k2[i+1] = k2[i]\n",
    "              s2[i+1,] = s2[i,]\n",
    "\n",
    "        \n",
    "    return k1,k2, rate1, rate2"
   ]
  },
  {
   "cell_type": "code",
   "execution_count": null,
   "metadata": {},
   "outputs": [],
   "source": [
    "b_0 =1\n",
    "a_0 =3\n",
    "g_0=2\n",
    "\n",
    "h = 0.3"
   ]
  },
  {
   "cell_type": "code",
   "execution_count": null,
   "metadata": {},
   "outputs": [],
   "source": []
  }
 ],
 "metadata": {
  "colab": {
   "name": "GK_ABCcouplings_singoloparametro.ipynb",
   "provenance": []
  },
  "kernelspec": {
   "display_name": "Python 3 (ipykernel)",
   "language": "python",
   "name": "python3"
  },
  "language_info": {
   "codemirror_mode": {
    "name": "ipython",
    "version": 3
   },
   "file_extension": ".py",
   "mimetype": "text/x-python",
   "name": "python",
   "nbconvert_exporter": "python",
   "pygments_lexer": "ipython3",
   "version": "3.8.10"
  }
 },
 "nbformat": 4,
 "nbformat_minor": 4
}
